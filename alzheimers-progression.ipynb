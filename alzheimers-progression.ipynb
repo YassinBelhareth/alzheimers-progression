{
  "nbformat": 4,
  "nbformat_minor": 0,
  "metadata": {
    "colab": {
      "provenance": []
    },
    "kernelspec": {
      "name": "python3",
      "display_name": "Python 3"
    },
    "language_info": {
      "name": "python"
    }
  },
  "cells": [
    {
      "cell_type": "markdown",
      "source": [
        "# Predicting Cognitive Trajectories in Alzheimer's Disease\n",
        "\n",
        "This notebook explores the following clinical question:\n",
        "\n",
        "**\"What will be the cognitive status of an Alzheimer's patient in 3 years, based on data from their two previous visits?\"**\n",
        "\n",
        "We use two data files:\n",
        "- `historical_data.csv`: longitudinal data from many Alzheimer's patients, including clinical, cognitive, and biological features from different visits.\n",
        "- `clinician_patient.csv`: two visits from a single patient, for whom we want to make a prediction.\n",
        "\n",
        "Our work is inspired by the following research paper, which helped us understand and define the problem:\n",
        "\n",
        "> Schiratti, J.B. et al. (2023). *Forecasting individual progression trajectories in Alzheimer’s disease*.  \n",
        "> *Nature Communications*, 14(1), 761.  \n",
        "> [https://www.nature.com/articles/s41467-022-35712-5](https://www.nature.com/articles/s41467-022-35712-5)\n",
        "\n",
        "In that paper, the authors use a statistical method and compare it with a standard recurrent neural network (RNN).\n",
        "\n",
        "In our project, we go further by testing a **Bidirectional LSTM (BiLSTM)** network — a more advanced type of RNN. It can better learn from the patient's history by looking at the sequence of visits in both forward and backward directions.\n",
        "\n",
        "### Goals of this notebook:\n",
        "1. Prepare and structure the patient visit data.\n",
        "2. Train a BiLSTM model using past visit data.\n",
        "3. Predict the patient’s cognitive scores at 36 months.\n",
        "4. Provide clear and useful results to help clinical decisions.\n",
        "\n",
        "### What we predict:\n",
        "- `MMSE_TOT`: Mini-Mental State Exam.\n",
        "- `ADAS_TOT13`: Alzheimer's Disease Assessment Scale.\n",
        "- `CDR_SOB`: Clinical Dementia Rating – Sum of Boxes.\n",
        "\n",
        "Each part of this notebook includes explanations and comments to make the pipeline easy to follow.\n"
      ],
      "metadata": {
        "id": "Eb1zTbylrnKc"
      }
    },
    {
      "cell_type": "markdown",
      "source": [
        "## 1. Load and Explore the Dataset\n",
        "\n",
        "We start by loading the historical dataset of Alzheimer's patients.\n",
        "\n",
        "Each row corresponds to a clinical visit and includes:\n",
        "- Patient ID and examination date\n",
        "- Diagnosis and cognitive scores (MMSE, ADAS13, CDR-SOB, etc.)\n",
        "- Other variables such as APOE4, MRI measurements, and CSF markers\n",
        "\n",
        "We convert the date column, create a unique identifier for each visit, and display:\n",
        "- The number of total visits\n",
        "- The number of unique patients\n",
        "- The distribution of visits per patient"
      ],
      "metadata": {
        "id": "fvUUT_mEshWB"
      }
    },
    {
      "cell_type": "code",
      "source": [
        "import pandas as pd\n",
        "\n",
        "# Load the dataset\n",
        "df = pd.read_csv(\"historical_data.csv\")\n",
        "\n",
        "# Convert the examination date column\n",
        "df[\"EXAMDATE\"] = pd.to_datetime(df[\"EXAMDATE\"], errors=\"coerce\")\n",
        "\n",
        "# Create a unique VISIT_ID for each row\n",
        "df[\"VISIT_ID\"] = [f\"VISIT_{i:05d}\" for i in range(len(df))]\n",
        "\n",
        "# Show basic dataset statistics\n",
        "\n",
        "print(f\"Total number of visits: {len(df)}\")\n",
        "print(f\"Number of unique patients: {df['ID'].nunique()}\")\n",
        "\n",
        "# Visit distribution\n",
        "visits_per_patient = df.groupby(\"ID\").size()\n",
        "print(f\"Max number of visits per patient: {visits_per_patient.max()}\")\n",
        "print(f\"Average number of visits per patient: {visits_per_patient.mean():.2f}\")\n",
        "\n"
      ],
      "metadata": {
        "colab": {
          "base_uri": "https://localhost:8080/"
        },
        "id": "E4XFFkxsrf2u",
        "outputId": "056335da-1ae5-47d1-9403-717b803a9082"
      },
      "execution_count": null,
      "outputs": [
        {
          "output_type": "stream",
          "name": "stdout",
          "text": [
            "Total number of visits: 9814\n",
            "Number of unique patients: 1679\n",
            "Max number of visits per patient: 13\n",
            "Average number of visits per patient: 5.85\n"
          ]
        }
      ]
    },
    {
      "cell_type": "code",
      "source": [
        "# Preview the first rows\n",
        "df.head()"
      ],
      "metadata": {
        "colab": {
          "base_uri": "https://localhost:8080/",
          "height": 342
        },
        "id": "tLpRgN74tPim",
        "outputId": "72ae84b0-0154-4d11-bb09-8446c25a2a9f"
      },
      "execution_count": null,
      "outputs": [
        {
          "output_type": "execute_result",
          "data": {
            "text/plain": [
              "           ID VISCODE   EXAMDATE  AGE_vis  SITEID   DX  AGE_bl  \\\n",
              "0  4000_F_132      bl 2005-09-08   74.300      11  0.0    74.3   \n",
              "1  4000_F_132     m06 2006-03-06   74.790      11  0.0    74.3   \n",
              "2  4000_F_132     m36 2008-08-27   77.268      11  0.0    74.3   \n",
              "3  4000_F_132     m60 2010-09-22   79.338      11  0.0    74.3   \n",
              "4  4000_F_132     m72 2011-09-19   80.329      11  0.0    74.3   \n",
              "\n",
              "   YEARS_SINCE_bl P_GENDER P_RACE  ... MES_MRI_VENTRICLES_ICV   MES_FDG  \\\n",
              "0        0.000000     Male  White  ...               0.846768  0.295020   \n",
              "1        0.490075     Male  White  ...                    NaN  0.476622   \n",
              "2        2.967830     Male  White  ...                    NaN       NaN   \n",
              "3        5.037650     Male  White  ...                    NaN       NaN   \n",
              "4        6.028750     Male  White  ...                    NaN       NaN   \n",
              "\n",
              "  MES_PIB  MES_AV45  MES_CSF_TTAU  MES_CSF_PTAU  MES_CSF_PTAU_TTAU  \\\n",
              "0     NaN       NaN           NaN           NaN                NaN   \n",
              "1     NaN       NaN           NaN           NaN                NaN   \n",
              "2     NaN       NaN           NaN           NaN                NaN   \n",
              "3     NaN       NaN           NaN           NaN                NaN   \n",
              "4     NaN       NaN           NaN           NaN                NaN   \n",
              "\n",
              "   MES_CSF_ABETA42  MES_CSF_TTAU_ABETA42     VISIT_ID  \n",
              "0              NaN                   NaN  VISIT_00000  \n",
              "1              NaN                   NaN  VISIT_00001  \n",
              "2              NaN                   NaN  VISIT_00002  \n",
              "3              NaN                   NaN  VISIT_00003  \n",
              "4              NaN                   NaN  VISIT_00004  \n",
              "\n",
              "[5 rows x 58 columns]"
            ],
            "text/html": [
              "\n",
              "  <div id=\"df-3260062d-4fc3-46b1-990d-9f3b952f9a4a\" class=\"colab-df-container\">\n",
              "    <div>\n",
              "<style scoped>\n",
              "    .dataframe tbody tr th:only-of-type {\n",
              "        vertical-align: middle;\n",
              "    }\n",
              "\n",
              "    .dataframe tbody tr th {\n",
              "        vertical-align: top;\n",
              "    }\n",
              "\n",
              "    .dataframe thead th {\n",
              "        text-align: right;\n",
              "    }\n",
              "</style>\n",
              "<table border=\"1\" class=\"dataframe\">\n",
              "  <thead>\n",
              "    <tr style=\"text-align: right;\">\n",
              "      <th></th>\n",
              "      <th>ID</th>\n",
              "      <th>VISCODE</th>\n",
              "      <th>EXAMDATE</th>\n",
              "      <th>AGE_vis</th>\n",
              "      <th>SITEID</th>\n",
              "      <th>DX</th>\n",
              "      <th>AGE_bl</th>\n",
              "      <th>YEARS_SINCE_bl</th>\n",
              "      <th>P_GENDER</th>\n",
              "      <th>P_RACE</th>\n",
              "      <th>...</th>\n",
              "      <th>MES_MRI_VENTRICLES_ICV</th>\n",
              "      <th>MES_FDG</th>\n",
              "      <th>MES_PIB</th>\n",
              "      <th>MES_AV45</th>\n",
              "      <th>MES_CSF_TTAU</th>\n",
              "      <th>MES_CSF_PTAU</th>\n",
              "      <th>MES_CSF_PTAU_TTAU</th>\n",
              "      <th>MES_CSF_ABETA42</th>\n",
              "      <th>MES_CSF_TTAU_ABETA42</th>\n",
              "      <th>VISIT_ID</th>\n",
              "    </tr>\n",
              "  </thead>\n",
              "  <tbody>\n",
              "    <tr>\n",
              "      <th>0</th>\n",
              "      <td>4000_F_132</td>\n",
              "      <td>bl</td>\n",
              "      <td>2005-09-08</td>\n",
              "      <td>74.300</td>\n",
              "      <td>11</td>\n",
              "      <td>0.0</td>\n",
              "      <td>74.3</td>\n",
              "      <td>0.000000</td>\n",
              "      <td>Male</td>\n",
              "      <td>White</td>\n",
              "      <td>...</td>\n",
              "      <td>0.846768</td>\n",
              "      <td>0.295020</td>\n",
              "      <td>NaN</td>\n",
              "      <td>NaN</td>\n",
              "      <td>NaN</td>\n",
              "      <td>NaN</td>\n",
              "      <td>NaN</td>\n",
              "      <td>NaN</td>\n",
              "      <td>NaN</td>\n",
              "      <td>VISIT_00000</td>\n",
              "    </tr>\n",
              "    <tr>\n",
              "      <th>1</th>\n",
              "      <td>4000_F_132</td>\n",
              "      <td>m06</td>\n",
              "      <td>2006-03-06</td>\n",
              "      <td>74.790</td>\n",
              "      <td>11</td>\n",
              "      <td>0.0</td>\n",
              "      <td>74.3</td>\n",
              "      <td>0.490075</td>\n",
              "      <td>Male</td>\n",
              "      <td>White</td>\n",
              "      <td>...</td>\n",
              "      <td>NaN</td>\n",
              "      <td>0.476622</td>\n",
              "      <td>NaN</td>\n",
              "      <td>NaN</td>\n",
              "      <td>NaN</td>\n",
              "      <td>NaN</td>\n",
              "      <td>NaN</td>\n",
              "      <td>NaN</td>\n",
              "      <td>NaN</td>\n",
              "      <td>VISIT_00001</td>\n",
              "    </tr>\n",
              "    <tr>\n",
              "      <th>2</th>\n",
              "      <td>4000_F_132</td>\n",
              "      <td>m36</td>\n",
              "      <td>2008-08-27</td>\n",
              "      <td>77.268</td>\n",
              "      <td>11</td>\n",
              "      <td>0.0</td>\n",
              "      <td>74.3</td>\n",
              "      <td>2.967830</td>\n",
              "      <td>Male</td>\n",
              "      <td>White</td>\n",
              "      <td>...</td>\n",
              "      <td>NaN</td>\n",
              "      <td>NaN</td>\n",
              "      <td>NaN</td>\n",
              "      <td>NaN</td>\n",
              "      <td>NaN</td>\n",
              "      <td>NaN</td>\n",
              "      <td>NaN</td>\n",
              "      <td>NaN</td>\n",
              "      <td>NaN</td>\n",
              "      <td>VISIT_00002</td>\n",
              "    </tr>\n",
              "    <tr>\n",
              "      <th>3</th>\n",
              "      <td>4000_F_132</td>\n",
              "      <td>m60</td>\n",
              "      <td>2010-09-22</td>\n",
              "      <td>79.338</td>\n",
              "      <td>11</td>\n",
              "      <td>0.0</td>\n",
              "      <td>74.3</td>\n",
              "      <td>5.037650</td>\n",
              "      <td>Male</td>\n",
              "      <td>White</td>\n",
              "      <td>...</td>\n",
              "      <td>NaN</td>\n",
              "      <td>NaN</td>\n",
              "      <td>NaN</td>\n",
              "      <td>NaN</td>\n",
              "      <td>NaN</td>\n",
              "      <td>NaN</td>\n",
              "      <td>NaN</td>\n",
              "      <td>NaN</td>\n",
              "      <td>NaN</td>\n",
              "      <td>VISIT_00003</td>\n",
              "    </tr>\n",
              "    <tr>\n",
              "      <th>4</th>\n",
              "      <td>4000_F_132</td>\n",
              "      <td>m72</td>\n",
              "      <td>2011-09-19</td>\n",
              "      <td>80.329</td>\n",
              "      <td>11</td>\n",
              "      <td>0.0</td>\n",
              "      <td>74.3</td>\n",
              "      <td>6.028750</td>\n",
              "      <td>Male</td>\n",
              "      <td>White</td>\n",
              "      <td>...</td>\n",
              "      <td>NaN</td>\n",
              "      <td>NaN</td>\n",
              "      <td>NaN</td>\n",
              "      <td>NaN</td>\n",
              "      <td>NaN</td>\n",
              "      <td>NaN</td>\n",
              "      <td>NaN</td>\n",
              "      <td>NaN</td>\n",
              "      <td>NaN</td>\n",
              "      <td>VISIT_00004</td>\n",
              "    </tr>\n",
              "  </tbody>\n",
              "</table>\n",
              "<p>5 rows × 58 columns</p>\n",
              "</div>\n",
              "    <div class=\"colab-df-buttons\">\n",
              "\n",
              "  <div class=\"colab-df-container\">\n",
              "    <button class=\"colab-df-convert\" onclick=\"convertToInteractive('df-3260062d-4fc3-46b1-990d-9f3b952f9a4a')\"\n",
              "            title=\"Convert this dataframe to an interactive table.\"\n",
              "            style=\"display:none;\">\n",
              "\n",
              "  <svg xmlns=\"http://www.w3.org/2000/svg\" height=\"24px\" viewBox=\"0 -960 960 960\">\n",
              "    <path d=\"M120-120v-720h720v720H120Zm60-500h600v-160H180v160Zm220 220h160v-160H400v160Zm0 220h160v-160H400v160ZM180-400h160v-160H180v160Zm440 0h160v-160H620v160ZM180-180h160v-160H180v160Zm440 0h160v-160H620v160Z\"/>\n",
              "  </svg>\n",
              "    </button>\n",
              "\n",
              "  <style>\n",
              "    .colab-df-container {\n",
              "      display:flex;\n",
              "      gap: 12px;\n",
              "    }\n",
              "\n",
              "    .colab-df-convert {\n",
              "      background-color: #E8F0FE;\n",
              "      border: none;\n",
              "      border-radius: 50%;\n",
              "      cursor: pointer;\n",
              "      display: none;\n",
              "      fill: #1967D2;\n",
              "      height: 32px;\n",
              "      padding: 0 0 0 0;\n",
              "      width: 32px;\n",
              "    }\n",
              "\n",
              "    .colab-df-convert:hover {\n",
              "      background-color: #E2EBFA;\n",
              "      box-shadow: 0px 1px 2px rgba(60, 64, 67, 0.3), 0px 1px 3px 1px rgba(60, 64, 67, 0.15);\n",
              "      fill: #174EA6;\n",
              "    }\n",
              "\n",
              "    .colab-df-buttons div {\n",
              "      margin-bottom: 4px;\n",
              "    }\n",
              "\n",
              "    [theme=dark] .colab-df-convert {\n",
              "      background-color: #3B4455;\n",
              "      fill: #D2E3FC;\n",
              "    }\n",
              "\n",
              "    [theme=dark] .colab-df-convert:hover {\n",
              "      background-color: #434B5C;\n",
              "      box-shadow: 0px 1px 3px 1px rgba(0, 0, 0, 0.15);\n",
              "      filter: drop-shadow(0px 1px 2px rgba(0, 0, 0, 0.3));\n",
              "      fill: #FFFFFF;\n",
              "    }\n",
              "  </style>\n",
              "\n",
              "    <script>\n",
              "      const buttonEl =\n",
              "        document.querySelector('#df-3260062d-4fc3-46b1-990d-9f3b952f9a4a button.colab-df-convert');\n",
              "      buttonEl.style.display =\n",
              "        google.colab.kernel.accessAllowed ? 'block' : 'none';\n",
              "\n",
              "      async function convertToInteractive(key) {\n",
              "        const element = document.querySelector('#df-3260062d-4fc3-46b1-990d-9f3b952f9a4a');\n",
              "        const dataTable =\n",
              "          await google.colab.kernel.invokeFunction('convertToInteractive',\n",
              "                                                    [key], {});\n",
              "        if (!dataTable) return;\n",
              "\n",
              "        const docLinkHtml = 'Like what you see? Visit the ' +\n",
              "          '<a target=\"_blank\" href=https://colab.research.google.com/notebooks/data_table.ipynb>data table notebook</a>'\n",
              "          + ' to learn more about interactive tables.';\n",
              "        element.innerHTML = '';\n",
              "        dataTable['output_type'] = 'display_data';\n",
              "        await google.colab.output.renderOutput(dataTable, element);\n",
              "        const docLink = document.createElement('div');\n",
              "        docLink.innerHTML = docLinkHtml;\n",
              "        element.appendChild(docLink);\n",
              "      }\n",
              "    </script>\n",
              "  </div>\n",
              "\n",
              "\n",
              "    <div id=\"df-d75a3b9b-15ff-4e08-b2d1-15894ec7f836\">\n",
              "      <button class=\"colab-df-quickchart\" onclick=\"quickchart('df-d75a3b9b-15ff-4e08-b2d1-15894ec7f836')\"\n",
              "                title=\"Suggest charts\"\n",
              "                style=\"display:none;\">\n",
              "\n",
              "<svg xmlns=\"http://www.w3.org/2000/svg\" height=\"24px\"viewBox=\"0 0 24 24\"\n",
              "     width=\"24px\">\n",
              "    <g>\n",
              "        <path d=\"M19 3H5c-1.1 0-2 .9-2 2v14c0 1.1.9 2 2 2h14c1.1 0 2-.9 2-2V5c0-1.1-.9-2-2-2zM9 17H7v-7h2v7zm4 0h-2V7h2v10zm4 0h-2v-4h2v4z\"/>\n",
              "    </g>\n",
              "</svg>\n",
              "      </button>\n",
              "\n",
              "<style>\n",
              "  .colab-df-quickchart {\n",
              "      --bg-color: #E8F0FE;\n",
              "      --fill-color: #1967D2;\n",
              "      --hover-bg-color: #E2EBFA;\n",
              "      --hover-fill-color: #174EA6;\n",
              "      --disabled-fill-color: #AAA;\n",
              "      --disabled-bg-color: #DDD;\n",
              "  }\n",
              "\n",
              "  [theme=dark] .colab-df-quickchart {\n",
              "      --bg-color: #3B4455;\n",
              "      --fill-color: #D2E3FC;\n",
              "      --hover-bg-color: #434B5C;\n",
              "      --hover-fill-color: #FFFFFF;\n",
              "      --disabled-bg-color: #3B4455;\n",
              "      --disabled-fill-color: #666;\n",
              "  }\n",
              "\n",
              "  .colab-df-quickchart {\n",
              "    background-color: var(--bg-color);\n",
              "    border: none;\n",
              "    border-radius: 50%;\n",
              "    cursor: pointer;\n",
              "    display: none;\n",
              "    fill: var(--fill-color);\n",
              "    height: 32px;\n",
              "    padding: 0;\n",
              "    width: 32px;\n",
              "  }\n",
              "\n",
              "  .colab-df-quickchart:hover {\n",
              "    background-color: var(--hover-bg-color);\n",
              "    box-shadow: 0 1px 2px rgba(60, 64, 67, 0.3), 0 1px 3px 1px rgba(60, 64, 67, 0.15);\n",
              "    fill: var(--button-hover-fill-color);\n",
              "  }\n",
              "\n",
              "  .colab-df-quickchart-complete:disabled,\n",
              "  .colab-df-quickchart-complete:disabled:hover {\n",
              "    background-color: var(--disabled-bg-color);\n",
              "    fill: var(--disabled-fill-color);\n",
              "    box-shadow: none;\n",
              "  }\n",
              "\n",
              "  .colab-df-spinner {\n",
              "    border: 2px solid var(--fill-color);\n",
              "    border-color: transparent;\n",
              "    border-bottom-color: var(--fill-color);\n",
              "    animation:\n",
              "      spin 1s steps(1) infinite;\n",
              "  }\n",
              "\n",
              "  @keyframes spin {\n",
              "    0% {\n",
              "      border-color: transparent;\n",
              "      border-bottom-color: var(--fill-color);\n",
              "      border-left-color: var(--fill-color);\n",
              "    }\n",
              "    20% {\n",
              "      border-color: transparent;\n",
              "      border-left-color: var(--fill-color);\n",
              "      border-top-color: var(--fill-color);\n",
              "    }\n",
              "    30% {\n",
              "      border-color: transparent;\n",
              "      border-left-color: var(--fill-color);\n",
              "      border-top-color: var(--fill-color);\n",
              "      border-right-color: var(--fill-color);\n",
              "    }\n",
              "    40% {\n",
              "      border-color: transparent;\n",
              "      border-right-color: var(--fill-color);\n",
              "      border-top-color: var(--fill-color);\n",
              "    }\n",
              "    60% {\n",
              "      border-color: transparent;\n",
              "      border-right-color: var(--fill-color);\n",
              "    }\n",
              "    80% {\n",
              "      border-color: transparent;\n",
              "      border-right-color: var(--fill-color);\n",
              "      border-bottom-color: var(--fill-color);\n",
              "    }\n",
              "    90% {\n",
              "      border-color: transparent;\n",
              "      border-bottom-color: var(--fill-color);\n",
              "    }\n",
              "  }\n",
              "</style>\n",
              "\n",
              "      <script>\n",
              "        async function quickchart(key) {\n",
              "          const quickchartButtonEl =\n",
              "            document.querySelector('#' + key + ' button');\n",
              "          quickchartButtonEl.disabled = true;  // To prevent multiple clicks.\n",
              "          quickchartButtonEl.classList.add('colab-df-spinner');\n",
              "          try {\n",
              "            const charts = await google.colab.kernel.invokeFunction(\n",
              "                'suggestCharts', [key], {});\n",
              "          } catch (error) {\n",
              "            console.error('Error during call to suggestCharts:', error);\n",
              "          }\n",
              "          quickchartButtonEl.classList.remove('colab-df-spinner');\n",
              "          quickchartButtonEl.classList.add('colab-df-quickchart-complete');\n",
              "        }\n",
              "        (() => {\n",
              "          let quickchartButtonEl =\n",
              "            document.querySelector('#df-d75a3b9b-15ff-4e08-b2d1-15894ec7f836 button');\n",
              "          quickchartButtonEl.style.display =\n",
              "            google.colab.kernel.accessAllowed ? 'block' : 'none';\n",
              "        })();\n",
              "      </script>\n",
              "    </div>\n",
              "\n",
              "    </div>\n",
              "  </div>\n"
            ],
            "application/vnd.google.colaboratory.intrinsic+json": {
              "type": "dataframe",
              "variable_name": "df"
            }
          },
          "metadata": {},
          "execution_count": 3
        }
      ]
    },
    {
      "cell_type": "markdown",
      "source": [
        "## 2. Missing Values and Score Distributions\n",
        "\n",
        "Before selecting features or training a model, it's important to understand the data quality.\n",
        "\n",
        "We start by identifying which variables have missing values, and how frequent they are.  \n",
        "We then visualize the distribution of the three main cognitive scores used as prediction targets:\n",
        "\n",
        "- `MMSE_TOT` (higher is better)\n",
        "- `ADAS_TOT13` (lower is better)\n",
        "- `CDR_SOB` (lower is better)\n",
        "\n",
        "This helps detect possible outliers or irregularities.\n"
      ],
      "metadata": {
        "id": "Eqa9K4BquLT5"
      }
    },
    {
      "cell_type": "code",
      "source": [
        "import matplotlib.pyplot as plt\n",
        "\n",
        "# Visualize distributions of key cognitive scores\n",
        "scores = [\"MMSE_TOT\", \"ADAS_TOT13\", \"CDR_SOB\"]\n",
        "\n",
        "for col in scores:\n",
        "    plt.figure()\n",
        "    df[col].hist(bins=30)\n",
        "    plt.title(f\"Distribution of {col}\")\n",
        "    plt.xlabel(col)\n",
        "    plt.ylabel(\"Frequency\")\n",
        "    plt.grid(True)\n",
        "    plt.show()\n"
      ],
      "metadata": {
        "colab": {
          "base_uri": "https://localhost:8080/",
          "height": 1000
        },
        "id": "uIQMou2Fs89P",
        "outputId": "d2cf2cb6-8fdd-4f0e-e9f3-d5a1ff07d5b5"
      },
      "execution_count": null,
      "outputs": [
        {
          "output_type": "display_data",
          "data": {
            "text/plain": [
              "<Figure size 640x480 with 1 Axes>"
            ],
            "image/png": "[encoded data removed]"
          },
          "metadata": {}
        },
        {
          "output_type": "display_data",
          "data": {
            "text/plain": [
              "<Figure size 640x480 with 1 Axes>"
            ],
            "image/png": "[encoded data removed]"
          },
          "metadata": {}
        },
        {
          "output_type": "display_data",
          "data": {
            "text/plain": [
              "<Figure size 640x480 with 1 Axes>"
            ],
            "image/png": "[encoded data removed]"
          },
          "metadata": {}
        }
      ]
    },
    {
      "cell_type": "markdown",
      "source": [
        "### Interpretation of Score Distributions\n",
        "\n",
        "We observe that for all three cognitive scores (MMSE_TOT, ADAS_TOT13, CDR_SOB), the majority of visits are associated with values concentrated in the lower range."
      ],
      "metadata": {
        "id": "86oIoP5hulzC"
      }
    },
    {
      "cell_type": "markdown",
      "source": [
        "### Identify and Optionally Drop Columns with Too Many Missing Values\n",
        "\n",
        "Some features, such as MRI volumes, are missing in a large portion of visits (e.g., > 30%).  \n",
        "We first display these columns, then decide whether to exclude them from modeling.\n",
        "\n",
        "This helps avoid relying on variables that are rarely available in practice.\n"
      ],
      "metadata": {
        "id": "R0baWu0f4HOo"
      }
    },
    {
      "cell_type": "code",
      "source": [
        "# Step 1: Recompute missing value percentages (just in case)\n",
        "missing = df.isna().mean().sort_values(ascending=False)\n",
        "\n",
        "# Step 2: Identify columns with more than 30% missing\n",
        "high_missing_cols = missing[missing > 0.30].index.tolist()\n",
        "\n",
        "print(\"Columns with more than 30% missing values:\")\n",
        "print(high_missing_cols)\n",
        "\n",
        "# Step 3: Optionally drop them (uncomment if you decide to drop)\n",
        "df = df.drop(columns=high_missing_cols)\n",
        "\n"
      ],
      "metadata": {
        "colab": {
          "base_uri": "https://localhost:8080/"
        },
        "id": "EQcOh-wQ4LwW",
        "outputId": "a3116e63-837c-48a6-b2ae-437f35af5ab5"
      },
      "execution_count": null,
      "outputs": [
        {
          "output_type": "stream",
          "name": "stdout",
          "text": [
            "Columns with more than 30% missing values:\n",
            "['MES_PIB', 'MES_AV45', 'MES_CSF_PTAU_TTAU', 'MES_CSF_TTAU_ABETA42', 'MES_CSF_PTAU', 'MES_CSF_TTAU', 'MES_CSF_ABETA42', 'MES_FDG', 'ECOG_PART_ORGAN', 'ECOG_SELF_ORGAN', 'ECOG_PART_DIVATT', 'MOCA_TOT', 'ECOG_SELF_VISSPAT', 'ECOG_SELF_DIVATT', 'ECOG_PART_VISSPAT', 'ECOG_SELF_PLAN', 'ECOG_SELF_LANG', 'ECOG_SELF_TOTAL', 'ECOG_PART_PLAN', 'ECOG_SELF_MEM', 'ECOG_PART_MEM', 'ECOG_PART_TOTAL', 'ECOG_PART_LANG', 'MES_MRI_ENTORHINAL_ICV', 'MES_MRI_MIDTEMPORAL_ICV', 'MES_MRI_FUSIFORM_ICV', 'MES_MRI_ENTORHINAL_VOL', 'MES_MRI_FUSIFORM_VOL', 'MES_MRI_MIDTEMPORAL_VOL', 'MES_MRI_HIPPOCAMPUS_ICV', 'MES_MRI_HIPPOCAMPUS_VOL']\n"
          ]
        }
      ]
    },
    {
      "cell_type": "code",
      "source": [
        "df.shape"
      ],
      "metadata": {
        "colab": {
          "base_uri": "https://localhost:8080/"
        },
        "id": "N5yXwkQmzucQ",
        "outputId": "80dc3863-16de-4d84-9cbe-4a36370d95f2"
      },
      "execution_count": null,
      "outputs": [
        {
          "output_type": "execute_result",
          "data": {
            "text/plain": [
              "(9814, 27)"
            ]
          },
          "metadata": {},
          "execution_count": 13
        }
      ]
    },
    {
      "cell_type": "markdown",
      "source": [
        "## 4. Summary of Numeric Variables\n",
        "\n",
        "We compute descriptive statistics for all remaining numeric variables in the dataset.  \n",
        "This helps us understand typical ranges, detect outliers, and verify the effects of column filtering.\n",
        "\n",
        "Now that highly incomplete columns have been removed, we can get a clearer picture of the remaining features.\n"
      ],
      "metadata": {
        "id": "5ryjYHKs5RgX"
      }
    },
    {
      "cell_type": "code",
      "source": [
        "# Display summary statistics for all remaining numeric features\n",
        "df.describe()\n"
      ],
      "metadata": {
        "colab": {
          "base_uri": "https://localhost:8080/",
          "height": 424
        },
        "id": "VSEDkTpr5NlA",
        "outputId": "f6d9d0b1-7be9-41e2-8c5e-7151b91f52cf"
      },
      "execution_count": null,
      "outputs": [
        {
          "output_type": "execute_result",
          "data": {
            "text/plain": [
              "                            EXAMDATE      AGE_vis       SITEID           DX  \\\n",
              "count                           9814  9814.000000  9814.000000  8847.000000   \n",
              "mean   2011-03-03 22:13:02.066435840    75.537160    73.892501     0.926981   \n",
              "min              2005-09-07 00:00:00    55.000000     2.000000     0.000000   \n",
              "25%              2008-03-06 00:00:00    70.699250    22.000000     0.000000   \n",
              "50%              2011-12-07 00:00:00    75.800000    41.000000     1.000000   \n",
              "75%              2013-05-28 00:00:00    80.799750   116.000000     1.000000   \n",
              "max              2017-05-05 00:00:00    98.602000   941.000000     2.000000   \n",
              "std                              NaN     7.397612   108.990220     0.734692   \n",
              "\n",
              "            AGE_bl  YEARS_SINCE_bl  P_YEARS_EDU      P_APOE4  MES_MRI_ICV_VOL  \\\n",
              "count  9814.000000     9814.000000  9814.000000  9813.000000     7.889000e+03   \n",
              "mean     73.646332        1.890827    15.991543     0.545908     1.534761e+06   \n",
              "min      55.000000        0.000000     4.000000     0.000000     1.072880e+06   \n",
              "25%      69.300000        0.383299    14.000000     0.000000     1.417710e+06   \n",
              "50%      73.600000        1.013000    16.000000     0.000000     1.522880e+06   \n",
              "75%      78.600000        2.989730    18.000000     1.000000     1.641190e+06   \n",
              "max      91.400000       10.751500    20.000000     2.000000     2.110290e+06   \n",
              "std       7.029433        2.176533     2.819411     0.658799     1.646757e+05   \n",
              "\n",
              "       MES_MRI_VENTRICLES_VOL  AVLT_A1t5_SUM_OK  AVLT_A5m1_DELTA_OK  \\\n",
              "count             7390.000000       8768.000000         8768.000000   \n",
              "mean             42164.263329          0.540003            0.548512   \n",
              "min               5650.000000          0.000000            0.050000   \n",
              "25%              25144.750000          0.413333            0.450000   \n",
              "50%              37450.500000          0.560000            0.550000   \n",
              "75%              53436.000000          0.666667            0.650000   \n",
              "max             162729.000000          1.000000            1.000000   \n",
              "std              23284.373954          0.181476            0.140863   \n",
              "\n",
              "       AVLT_A5m7_DELTA_OK  AVLT_A5m7_RATIO_OK     MMSE_TOT   ADAS_TOT11  \\\n",
              "count         8742.000000         8673.000000  8868.000000  8849.000000   \n",
              "mean             0.461839            0.638109     0.113490     0.162664   \n",
              "min              0.000000            0.000000     0.000000     0.000000   \n",
              "25%              0.400000            0.363636     0.033333     0.076143   \n",
              "50%              0.450000            0.659091     0.066667     0.128571   \n",
              "75%              0.550000            1.000000     0.166667     0.214286   \n",
              "max              1.000000            1.000000     1.000000     1.000000   \n",
              "std              0.125437            0.321692     0.131772     0.123475   \n",
              "\n",
              "        ADAS_TOT13      CDR_SOB      FAQ_TOT  MES_MRI_VENTRICLES_ICV  \n",
              "count  8763.000000  8899.000000  8934.000000             7386.000000  \n",
              "mean      0.205838     0.120647     0.186281                0.484501  \n",
              "min       0.000000     0.000000     0.000000                0.000000  \n",
              "25%       0.105882     0.000000     0.000000                0.356913  \n",
              "50%       0.176471     0.055556     0.033333                0.482354  \n",
              "75%       0.282353     0.166667     0.300000                0.607897  \n",
              "max       1.000000     1.000000     1.000000                1.000000  \n",
              "std       0.137735     0.156414     0.264233                0.182269  "
            ],
            "text/html": [
              "\n",
              "  <div id=\"df-3407f3a0-3214-4a80-803a-4927d4e53994\" class=\"colab-df-container\">\n",
              "    <div>\n",
              "<style scoped>\n",
              "    .dataframe tbody tr th:only-of-type {\n",
              "        vertical-align: middle;\n",
              "    }\n",
              "\n",
              "    .dataframe tbody tr th {\n",
              "        vertical-align: top;\n",
              "    }\n",
              "\n",
              "    .dataframe thead th {\n",
              "        text-align: right;\n",
              "    }\n",
              "</style>\n",
              "<table border=\"1\" class=\"dataframe\">\n",
              "  <thead>\n",
              "    <tr style=\"text-align: right;\">\n",
              "      <th></th>\n",
              "      <th>EXAMDATE</th>\n",
              "      <th>AGE_vis</th>\n",
              "      <th>SITEID</th>\n",
              "      <th>DX</th>\n",
              "      <th>AGE_bl</th>\n",
              "      <th>YEARS_SINCE_bl</th>\n",
              "      <th>P_YEARS_EDU</th>\n",
              "      <th>P_APOE4</th>\n",
              "      <th>MES_MRI_ICV_VOL</th>\n",
              "      <th>MES_MRI_VENTRICLES_VOL</th>\n",
              "      <th>AVLT_A1t5_SUM_OK</th>\n",
              "      <th>AVLT_A5m1_DELTA_OK</th>\n",
              "      <th>AVLT_A5m7_DELTA_OK</th>\n",
              "      <th>AVLT_A5m7_RATIO_OK</th>\n",
              "      <th>MMSE_TOT</th>\n",
              "      <th>ADAS_TOT11</th>\n",
              "      <th>ADAS_TOT13</th>\n",
              "      <th>CDR_SOB</th>\n",
              "      <th>FAQ_TOT</th>\n",
              "      <th>MES_MRI_VENTRICLES_ICV</th>\n",
              "    </tr>\n",
              "  </thead>\n",
              "  <tbody>\n",
              "    <tr>\n",
              "      <th>count</th>\n",
              "      <td>9814</td>\n",
              "      <td>9814.000000</td>\n",
              "      <td>9814.000000</td>\n",
              "      <td>8847.000000</td>\n",
              "      <td>9814.000000</td>\n",
              "      <td>9814.000000</td>\n",
              "      <td>9814.000000</td>\n",
              "      <td>9813.000000</td>\n",
              "      <td>7.889000e+03</td>\n",
              "      <td>7390.000000</td>\n",
              "      <td>8768.000000</td>\n",
              "      <td>8768.000000</td>\n",
              "      <td>8742.000000</td>\n",
              "      <td>8673.000000</td>\n",
              "      <td>8868.000000</td>\n",
              "      <td>8849.000000</td>\n",
              "      <td>8763.000000</td>\n",
              "      <td>8899.000000</td>\n",
              "      <td>8934.000000</td>\n",
              "      <td>7386.000000</td>\n",
              "    </tr>\n",
              "    <tr>\n",
              "      <th>mean</th>\n",
              "      <td>2011-03-03 22:13:02.066435840</td>\n",
              "      <td>75.537160</td>\n",
              "      <td>73.892501</td>\n",
              "      <td>0.926981</td>\n",
              "      <td>73.646332</td>\n",
              "      <td>1.890827</td>\n",
              "      <td>15.991543</td>\n",
              "      <td>0.545908</td>\n",
              "      <td>1.534761e+06</td>\n",
              "      <td>42164.263329</td>\n",
              "      <td>0.540003</td>\n",
              "      <td>0.548512</td>\n",
              "      <td>0.461839</td>\n",
              "      <td>0.638109</td>\n",
              "      <td>0.113490</td>\n",
              "      <td>0.162664</td>\n",
              "      <td>0.205838</td>\n",
              "      <td>0.120647</td>\n",
              "      <td>0.186281</td>\n",
              "      <td>0.484501</td>\n",
              "    </tr>\n",
              "    <tr>\n",
              "      <th>min</th>\n",
              "      <td>2005-09-07 00:00:00</td>\n",
              "      <td>55.000000</td>\n",
              "      <td>2.000000</td>\n",
              "      <td>0.000000</td>\n",
              "      <td>55.000000</td>\n",
              "      <td>0.000000</td>\n",
              "      <td>4.000000</td>\n",
              "      <td>0.000000</td>\n",
              "      <td>1.072880e+06</td>\n",
              "      <td>5650.000000</td>\n",
              "      <td>0.000000</td>\n",
              "      <td>0.050000</td>\n",
              "      <td>0.000000</td>\n",
              "      <td>0.000000</td>\n",
              "      <td>0.000000</td>\n",
              "      <td>0.000000</td>\n",
              "      <td>0.000000</td>\n",
              "      <td>0.000000</td>\n",
              "      <td>0.000000</td>\n",
              "      <td>0.000000</td>\n",
              "    </tr>\n",
              "    <tr>\n",
              "      <th>25%</th>\n",
              "      <td>2008-03-06 00:00:00</td>\n",
              "      <td>70.699250</td>\n",
              "      <td>22.000000</td>\n",
              "      <td>0.000000</td>\n",
              "      <td>69.300000</td>\n",
              "      <td>0.383299</td>\n",
              "      <td>14.000000</td>\n",
              "      <td>0.000000</td>\n",
              "      <td>1.417710e+06</td>\n",
              "      <td>25144.750000</td>\n",
              "      <td>0.413333</td>\n",
              "      <td>0.450000</td>\n",
              "      <td>0.400000</td>\n",
              "      <td>0.363636</td>\n",
              "      <td>0.033333</td>\n",
              "      <td>0.076143</td>\n",
              "      <td>0.105882</td>\n",
              "      <td>0.000000</td>\n",
              "      <td>0.000000</td>\n",
              "      <td>0.356913</td>\n",
              "    </tr>\n",
              "    <tr>\n",
              "      <th>50%</th>\n",
              "      <td>2011-12-07 00:00:00</td>\n",
              "      <td>75.800000</td>\n",
              "      <td>41.000000</td>\n",
              "      <td>1.000000</td>\n",
              "      <td>73.600000</td>\n",
              "      <td>1.013000</td>\n",
              "      <td>16.000000</td>\n",
              "      <td>0.000000</td>\n",
              "      <td>1.522880e+06</td>\n",
              "      <td>37450.500000</td>\n",
              "      <td>0.560000</td>\n",
              "      <td>0.550000</td>\n",
              "      <td>0.450000</td>\n",
              "      <td>0.659091</td>\n",
              "      <td>0.066667</td>\n",
              "      <td>0.128571</td>\n",
              "      <td>0.176471</td>\n",
              "      <td>0.055556</td>\n",
              "      <td>0.033333</td>\n",
              "      <td>0.482354</td>\n",
              "    </tr>\n",
              "    <tr>\n",
              "      <th>75%</th>\n",
              "      <td>2013-05-28 00:00:00</td>\n",
              "      <td>80.799750</td>\n",
              "      <td>116.000000</td>\n",
              "      <td>1.000000</td>\n",
              "      <td>78.600000</td>\n",
              "      <td>2.989730</td>\n",
              "      <td>18.000000</td>\n",
              "      <td>1.000000</td>\n",
              "      <td>1.641190e+06</td>\n",
              "      <td>53436.000000</td>\n",
              "      <td>0.666667</td>\n",
              "      <td>0.650000</td>\n",
              "      <td>0.550000</td>\n",
              "      <td>1.000000</td>\n",
              "      <td>0.166667</td>\n",
              "      <td>0.214286</td>\n",
              "      <td>0.282353</td>\n",
              "      <td>0.166667</td>\n",
              "      <td>0.300000</td>\n",
              "      <td>0.607897</td>\n",
              "    </tr>\n",
              "    <tr>\n",
              "      <th>max</th>\n",
              "      <td>2017-05-05 00:00:00</td>\n",
              "      <td>98.602000</td>\n",
              "      <td>941.000000</td>\n",
              "      <td>2.000000</td>\n",
              "      <td>91.400000</td>\n",
              "      <td>10.751500</td>\n",
              "      <td>20.000000</td>\n",
              "      <td>2.000000</td>\n",
              "      <td>2.110290e+06</td>\n",
              "      <td>162729.000000</td>\n",
              "      <td>1.000000</td>\n",
              "      <td>1.000000</td>\n",
              "      <td>1.000000</td>\n",
              "      <td>1.000000</td>\n",
              "      <td>1.000000</td>\n",
              "      <td>1.000000</td>\n",
              "      <td>1.000000</td>\n",
              "      <td>1.000000</td>\n",
              "      <td>1.000000</td>\n",
              "      <td>1.000000</td>\n",
              "    </tr>\n",
              "    <tr>\n",
              "      <th>std</th>\n",
              "      <td>NaN</td>\n",
              "      <td>7.397612</td>\n",
              "      <td>108.990220</td>\n",
              "      <td>0.734692</td>\n",
              "      <td>7.029433</td>\n",
              "      <td>2.176533</td>\n",
              "      <td>2.819411</td>\n",
              "      <td>0.658799</td>\n",
              "      <td>1.646757e+05</td>\n",
              "      <td>23284.373954</td>\n",
              "      <td>0.181476</td>\n",
              "      <td>0.140863</td>\n",
              "      <td>0.125437</td>\n",
              "      <td>0.321692</td>\n",
              "      <td>0.131772</td>\n",
              "      <td>0.123475</td>\n",
              "      <td>0.137735</td>\n",
              "      <td>0.156414</td>\n",
              "      <td>0.264233</td>\n",
              "      <td>0.182269</td>\n",
              "    </tr>\n",
              "  </tbody>\n",
              "</table>\n",
              "</div>\n",
              "    <div class=\"colab-df-buttons\">\n",
              "\n",
              "  <div class=\"colab-df-container\">\n",
              "    <button class=\"colab-df-convert\" onclick=\"convertToInteractive('df-3407f3a0-3214-4a80-803a-4927d4e53994')\"\n",
              "            title=\"Convert this dataframe to an interactive table.\"\n",
              "            style=\"display:none;\">\n",
              "\n",
              "  <svg xmlns=\"http://www.w3.org/2000/svg\" height=\"24px\" viewBox=\"0 -960 960 960\">\n",
              "    <path d=\"M120-120v-720h720v720H120Zm60-500h600v-160H180v160Zm220 220h160v-160H400v160Zm0 220h160v-160H400v160ZM180-400h160v-160H180v160Zm440 0h160v-160H620v160ZM180-180h160v-160H180v160Zm440 0h160v-160H620v160Z\"/>\n",
              "  </svg>\n",
              "    </button>\n",
              "\n",
              "  <style>\n",
              "    .colab-df-container {\n",
              "      display:flex;\n",
              "      gap: 12px;\n",
              "    }\n",
              "\n",
              "    .colab-df-convert {\n",
              "      background-color: #E8F0FE;\n",
              "      border: none;\n",
              "      border-radius: 50%;\n",
              "      cursor: pointer;\n",
              "      display: none;\n",
              "      fill: #1967D2;\n",
              "      height: 32px;\n",
              "      padding: 0 0 0 0;\n",
              "      width: 32px;\n",
              "    }\n",
              "\n",
              "    .colab-df-convert:hover {\n",
              "      background-color: #E2EBFA;\n",
              "      box-shadow: 0px 1px 2px rgba(60, 64, 67, 0.3), 0px 1px 3px 1px rgba(60, 64, 67, 0.15);\n",
              "      fill: #174EA6;\n",
              "    }\n",
              "\n",
              "    .colab-df-buttons div {\n",
              "      margin-bottom: 4px;\n",
              "    }\n",
              "\n",
              "    [theme=dark] .colab-df-convert {\n",
              "      background-color: #3B4455;\n",
              "      fill: #D2E3FC;\n",
              "    }\n",
              "\n",
              "    [theme=dark] .colab-df-convert:hover {\n",
              "      background-color: #434B5C;\n",
              "      box-shadow: 0px 1px 3px 1px rgba(0, 0, 0, 0.15);\n",
              "      filter: drop-shadow(0px 1px 2px rgba(0, 0, 0, 0.3));\n",
              "      fill: #FFFFFF;\n",
              "    }\n",
              "  </style>\n",
              "\n",
              "    <script>\n",
              "      const buttonEl =\n",
              "        document.querySelector('#df-3407f3a0-3214-4a80-803a-4927d4e53994 button.colab-df-convert');\n",
              "      buttonEl.style.display =\n",
              "        google.colab.kernel.accessAllowed ? 'block' : 'none';\n",
              "\n",
              "      async function convertToInteractive(key) {\n",
              "        const element = document.querySelector('#df-3407f3a0-3214-4a80-803a-4927d4e53994');\n",
              "        const dataTable =\n",
              "          await google.colab.kernel.invokeFunction('convertToInteractive',\n",
              "                                                    [key], {});\n",
              "        if (!dataTable) return;\n",
              "\n",
              "        const docLinkHtml = 'Like what you see? Visit the ' +\n",
              "          '<a target=\"_blank\" href=https://colab.research.google.com/notebooks/data_table.ipynb>data table notebook</a>'\n",
              "          + ' to learn more about interactive tables.';\n",
              "        element.innerHTML = '';\n",
              "        dataTable['output_type'] = 'display_data';\n",
              "        await google.colab.output.renderOutput(dataTable, element);\n",
              "        const docLink = document.createElement('div');\n",
              "        docLink.innerHTML = docLinkHtml;\n",
              "        element.appendChild(docLink);\n",
              "      }\n",
              "    </script>\n",
              "  </div>\n",
              "\n",
              "\n",
              "    <div id=\"df-7d7f50af-50b1-4005-893c-5f536444c2c2\">\n",
              "      <button class=\"colab-df-quickchart\" onclick=\"quickchart('df-7d7f50af-50b1-4005-893c-5f536444c2c2')\"\n",
              "                title=\"Suggest charts\"\n",
              "                style=\"display:none;\">\n",
              "\n",
              "<svg xmlns=\"http://www.w3.org/2000/svg\" height=\"24px\"viewBox=\"0 0 24 24\"\n",
              "     width=\"24px\">\n",
              "    <g>\n",
              "        <path d=\"M19 3H5c-1.1 0-2 .9-2 2v14c0 1.1.9 2 2 2h14c1.1 0 2-.9 2-2V5c0-1.1-.9-2-2-2zM9 17H7v-7h2v7zm4 0h-2V7h2v10zm4 0h-2v-4h2v4z\"/>\n",
              "    </g>\n",
              "</svg>\n",
              "      </button>\n",
              "\n",
              "<style>\n",
              "  .colab-df-quickchart {\n",
              "      --bg-color: #E8F0FE;\n",
              "      --fill-color: #1967D2;\n",
              "      --hover-bg-color: #E2EBFA;\n",
              "      --hover-fill-color: #174EA6;\n",
              "      --disabled-fill-color: #AAA;\n",
              "      --disabled-bg-color: #DDD;\n",
              "  }\n",
              "\n",
              "  [theme=dark] .colab-df-quickchart {\n",
              "      --bg-color: #3B4455;\n",
              "      --fill-color: #D2E3FC;\n",
              "      --hover-bg-color: #434B5C;\n",
              "      --hover-fill-color: #FFFFFF;\n",
              "      --disabled-bg-color: #3B4455;\n",
              "      --disabled-fill-color: #666;\n",
              "  }\n",
              "\n",
              "  .colab-df-quickchart {\n",
              "    background-color: var(--bg-color);\n",
              "    border: none;\n",
              "    border-radius: 50%;\n",
              "    cursor: pointer;\n",
              "    display: none;\n",
              "    fill: var(--fill-color);\n",
              "    height: 32px;\n",
              "    padding: 0;\n",
              "    width: 32px;\n",
              "  }\n",
              "\n",
              "  .colab-df-quickchart:hover {\n",
              "    background-color: var(--hover-bg-color);\n",
              "    box-shadow: 0 1px 2px rgba(60, 64, 67, 0.3), 0 1px 3px 1px rgba(60, 64, 67, 0.15);\n",
              "    fill: var(--button-hover-fill-color);\n",
              "  }\n",
              "\n",
              "  .colab-df-quickchart-complete:disabled,\n",
              "  .colab-df-quickchart-complete:disabled:hover {\n",
              "    background-color: var(--disabled-bg-color);\n",
              "    fill: var(--disabled-fill-color);\n",
              "    box-shadow: none;\n",
              "  }\n",
              "\n",
              "  .colab-df-spinner {\n",
              "    border: 2px solid var(--fill-color);\n",
              "    border-color: transparent;\n",
              "    border-bottom-color: var(--fill-color);\n",
              "    animation:\n",
              "      spin 1s steps(1) infinite;\n",
              "  }\n",
              "\n",
              "  @keyframes spin {\n",
              "    0% {\n",
              "      border-color: transparent;\n",
              "      border-bottom-color: var(--fill-color);\n",
              "      border-left-color: var(--fill-color);\n",
              "    }\n",
              "    20% {\n",
              "      border-color: transparent;\n",
              "      border-left-color: var(--fill-color);\n",
              "      border-top-color: var(--fill-color);\n",
              "    }\n",
              "    30% {\n",
              "      border-color: transparent;\n",
              "      border-left-color: var(--fill-color);\n",
              "      border-top-color: var(--fill-color);\n",
              "      border-right-color: var(--fill-color);\n",
              "    }\n",
              "    40% {\n",
              "      border-color: transparent;\n",
              "      border-right-color: var(--fill-color);\n",
              "      border-top-color: var(--fill-color);\n",
              "    }\n",
              "    60% {\n",
              "      border-color: transparent;\n",
              "      border-right-color: var(--fill-color);\n",
              "    }\n",
              "    80% {\n",
              "      border-color: transparent;\n",
              "      border-right-color: var(--fill-color);\n",
              "      border-bottom-color: var(--fill-color);\n",
              "    }\n",
              "    90% {\n",
              "      border-color: transparent;\n",
              "      border-bottom-color: var(--fill-color);\n",
              "    }\n",
              "  }\n",
              "</style>\n",
              "\n",
              "      <script>\n",
              "        async function quickchart(key) {\n",
              "          const quickchartButtonEl =\n",
              "            document.querySelector('#' + key + ' button');\n",
              "          quickchartButtonEl.disabled = true;  // To prevent multiple clicks.\n",
              "          quickchartButtonEl.classList.add('colab-df-spinner');\n",
              "          try {\n",
              "            const charts = await google.colab.kernel.invokeFunction(\n",
              "                'suggestCharts', [key], {});\n",
              "          } catch (error) {\n",
              "            console.error('Error during call to suggestCharts:', error);\n",
              "          }\n",
              "          quickchartButtonEl.classList.remove('colab-df-spinner');\n",
              "          quickchartButtonEl.classList.add('colab-df-quickchart-complete');\n",
              "        }\n",
              "        (() => {\n",
              "          let quickchartButtonEl =\n",
              "            document.querySelector('#df-7d7f50af-50b1-4005-893c-5f536444c2c2 button');\n",
              "          quickchartButtonEl.style.display =\n",
              "            google.colab.kernel.accessAllowed ? 'block' : 'none';\n",
              "        })();\n",
              "      </script>\n",
              "    </div>\n",
              "\n",
              "    </div>\n",
              "  </div>\n"
            ],
            "application/vnd.google.colaboratory.intrinsic+json": {
              "type": "dataframe",
              "summary": "{\n  \"name\": \"df\",\n  \"rows\": 8,\n  \"fields\": [\n    {\n      \"column\": \"EXAMDATE\",\n      \"properties\": {\n        \"dtype\": \"date\",\n        \"min\": \"1970-01-01 00:00:00.000009814\",\n        \"max\": \"2017-05-05 00:00:00\",\n        \"num_unique_values\": 7,\n        \"samples\": [\n          \"9814\",\n          \"2011-03-03 22:13:02.066435840\",\n          \"2013-05-28 00:00:00\"\n        ],\n        \"semantic_type\": \"\",\n        \"description\": \"\"\n      }\n    },\n    {\n      \"column\": \"AGE_vis\",\n      \"properties\": {\n        \"dtype\": \"number\",\n        \"std\": 3446.4503073306873,\n        \"min\": 7.39761176280676,\n        \"max\": 9814.0,\n        \"num_unique_values\": 8,\n        \"samples\": [\n          75.53715997554515,\n          80.79974999999999,\n          9814.0\n        ],\n        \"semantic_type\": \"\",\n        \"description\": \"\"\n      }\n    },\n    {\n      \"column\": \"SITEID\",\n      \"properties\": {\n        \"dtype\": \"number\",\n        \"std\": 3418.0058273669415,\n        \"min\": 2.0,\n        \"max\": 9814.0,\n        \"num_unique_values\": 8,\n        \"samples\": [\n          73.89250050947626,\n          116.0,\n          9814.0\n        ],\n        \"semantic_type\": \"\",\n        \"description\": \"\"\n      }\n    },\n    {\n      \"column\": \"DX\",\n      \"properties\": {\n        \"dtype\": \"number\",\n        \"std\": 3127.60095330059,\n        \"min\": 0.0,\n        \"max\": 8847.0,\n        \"num_unique_values\": 6,\n        \"samples\": [\n          8847.0,\n          0.9269808974793715,\n          0.7346922758514597\n        ],\n        \"semantic_type\": \"\",\n        \"description\": \"\"\n      }\n    },\n    {\n      \"column\": \"AGE_bl\",\n      \"properties\": {\n        \"dtype\": \"number\",\n        \"std\": 3447.2098012835922,\n        \"min\": 7.02943327197259,\n        \"max\": 9814.0,\n        \"num_unique_values\": 8,\n        \"samples\": [\n          73.64633177093947,\n          78.6,\n          9814.0\n        ],\n        \"semantic_type\": \"\",\n        \"description\": \"\"\n      }\n    },\n    {\n      \"column\": \"YEARS_SINCE_bl\",\n      \"properties\": {\n        \"dtype\": \"number\",\n        \"std\": 3468.8046566228545,\n        \"min\": 0.0,\n        \"max\": 9814.0,\n        \"num_unique_values\": 8,\n        \"samples\": [\n          1.8908269646831055,\n          2.98973,\n          9814.0\n        ],\n        \"semantic_type\": \"\",\n        \"description\": \"\"\n      }\n    },\n    {\n      \"column\": \"P_YEARS_EDU\",\n      \"properties\": {\n        \"dtype\": \"number\",\n        \"std\": 3465.1920514768512,\n        \"min\": 2.8194108524003436,\n        \"max\": 9814.0,\n        \"num_unique_values\": 8,\n        \"samples\": [\n          15.991542694110455,\n          18.0,\n          9814.0\n        ],\n        \"semantic_type\": \"\",\n        \"description\": \"\"\n      }\n    },\n    {\n      \"column\": \"P_APOE4\",\n      \"properties\": {\n        \"dtype\": \"number\",\n        \"std\": 3469.207118102557,\n        \"min\": 0.0,\n        \"max\": 9813.0,\n        \"num_unique_values\": 6,\n        \"samples\": [\n          9813.0,\n          0.5459084887394273,\n          0.6587991572386294\n        ],\n        \"semantic_type\": \"\",\n        \"description\": \"\"\n      }\n    },\n    {\n      \"column\": \"MES_MRI_ICV_VOL\",\n      \"properties\": {\n        \"dtype\": \"number\",\n        \"std\": 736219.7105456284,\n        \"min\": 7889.0,\n        \"max\": 2110290.0,\n        \"num_unique_values\": 8,\n        \"samples\": [\n          1534761.3550513373,\n          1641190.0,\n          7889.0\n        ],\n        \"semantic_type\": \"\",\n        \"description\": \"\"\n      }\n    },\n    {\n      \"column\": \"MES_MRI_VENTRICLES_VOL\",\n      \"properties\": {\n        \"dtype\": \"number\",\n        \"std\": 50460.88694537389,\n        \"min\": 5650.0,\n        \"max\": 162729.0,\n        \"num_unique_values\": 8,\n        \"samples\": [\n          42164.26332882273,\n          53436.0,\n          7390.0\n        ],\n        \"semantic_type\": \"\",\n        \"description\": \"\"\n      }\n    },\n    {\n      \"column\": \"AVLT_A1t5_SUM_OK\",\n      \"properties\": {\n        \"dtype\": \"number\",\n        \"std\": 3099.786363140119,\n        \"min\": 0.0,\n        \"max\": 8768.0,\n        \"num_unique_values\": 8,\n        \"samples\": [\n          0.5400030413625304,\n          0.6666666666666667,\n          8768.0\n        ],\n        \"semantic_type\": \"\",\n        \"description\": \"\"\n      }\n    },\n    {\n      \"column\": \"AVLT_A5m1_DELTA_OK\",\n      \"properties\": {\n        \"dtype\": \"number\",\n        \"std\": 3099.784953500275,\n        \"min\": 0.05,\n        \"max\": 8768.0,\n        \"num_unique_values\": 8,\n        \"samples\": [\n          0.5485116332116788,\n          0.65,\n          8768.0\n        ],\n        \"semantic_type\": \"\",\n        \"description\": \"\"\n      }\n    },\n    {\n      \"column\": \"AVLT_A5m7_DELTA_OK\",\n      \"properties\": {\n        \"dtype\": \"number\",\n        \"std\": 3090.6128746372488,\n        \"min\": 0.0,\n        \"max\": 8742.0,\n        \"num_unique_values\": 8,\n        \"samples\": [\n          0.4618393960192176,\n          0.55,\n          8742.0\n        ],\n        \"semantic_type\": \"\",\n        \"description\": \"\"\n      }\n    },\n    {\n      \"column\": \"AVLT_A5m7_RATIO_OK\",\n      \"properties\": {\n        \"dtype\": \"number\",\n        \"std\": 3066.167427473334,\n        \"min\": 0.0,\n        \"max\": 8673.0,\n        \"num_unique_values\": 7,\n        \"samples\": [\n          8673.0,\n          0.6381088230139512,\n          1.0\n        ],\n        \"semantic_type\": \"\",\n        \"description\": \"\"\n      }\n    },\n    {\n      \"column\": \"MMSE_TOT\",\n      \"properties\": {\n        \"dtype\": \"number\",\n        \"std\": 3135.235120627784,\n        \"min\": 0.0,\n        \"max\": 8868.0,\n        \"num_unique_values\": 8,\n        \"samples\": [\n          0.11349045256352426,\n          0.1666666666666666,\n          8868.0\n        ],\n        \"semantic_type\": \"\",\n        \"description\": \"\"\n      }\n    },\n    {\n      \"column\": \"ADAS_TOT11\",\n      \"properties\": {\n        \"dtype\": \"number\",\n        \"std\": 3128.5078466496916,\n        \"min\": 0.0,\n        \"max\": 8849.0,\n        \"num_unique_values\": 8,\n        \"samples\": [\n          0.16266443343073464,\n          0.2142857142857142,\n          8849.0\n        ],\n        \"semantic_type\": \"\",\n        \"description\": \"\"\n      }\n    },\n    {\n      \"column\": \"ADAS_TOT13\",\n      \"properties\": {\n        \"dtype\": \"number\",\n        \"std\": 3098.0919944211096,\n        \"min\": 0.0,\n        \"max\": 8763.0,\n        \"num_unique_values\": 8,\n        \"samples\": [\n          0.20583765967872938,\n          0.2823529411764706,\n          8763.0\n        ],\n        \"semantic_type\": \"\",\n        \"description\": \"\"\n      }\n    },\n    {\n      \"column\": \"CDR_SOB\",\n      \"properties\": {\n        \"dtype\": \"number\",\n        \"std\": 3146.1959146348954,\n        \"min\": 0.0,\n        \"max\": 8899.0,\n        \"num_unique_values\": 7,\n        \"samples\": [\n          8899.0,\n          0.12064713887952454,\n          1.0\n        ],\n        \"semantic_type\": \"\",\n        \"description\": \"\"\n      }\n    },\n    {\n      \"column\": \"FAQ_TOT\",\n      \"properties\": {\n        \"dtype\": \"number\",\n        \"std\": 3158.55591041443,\n        \"min\": 0.0,\n        \"max\": 8934.0,\n        \"num_unique_values\": 7,\n        \"samples\": [\n          8934.0,\n          0.18628087456159986,\n          1.0\n        ],\n        \"semantic_type\": \"\",\n        \"description\": \"\"\n      }\n    },\n    {\n      \"column\": \"MES_MRI_VENTRICLES_ICV\",\n      \"properties\": {\n        \"dtype\": \"number\",\n        \"std\": 2611.1880822641347,\n        \"min\": 0.0,\n        \"max\": 7386.0,\n        \"num_unique_values\": 8,\n        \"samples\": [\n          0.4845012464034082,\n          0.6078968376812481,\n          7386.0\n        ],\n        \"semantic_type\": \"\",\n        \"description\": \"\"\n      }\n    }\n  ]\n}"
            }
          },
          "metadata": {},
          "execution_count": 404
        }
      ]
    },
    {
      "cell_type": "markdown",
      "source": [
        "## 5. Build Longitudinal Sequences\n",
        "\n",
        "To model the progression of Alzheimer's disease, we need to structure the data into sequences.\n",
        "\n",
        "For each patient:\n",
        "- We gather a set of past visits (up to a maximum number).\n",
        "- We then identify future visits at specific time horizons (e.g., 12, 24, 36 months after the last past visit).\n",
        "\n",
        "We use visit dates to find future visits within a tolerance window (±6 months), and only keep patients with at least one valid future target.\n",
        "\n",
        "This step produces a list of dictionaries called `patient_splits`.\n"
      ],
      "metadata": {
        "id": "ktOoo3hw5fS2"
      }
    },
    {
      "cell_type": "code",
      "source": [
        "def group_visits_by_patient_with_visit_id_and_horizons(\n",
        "    df,\n",
        "    id_col=\"ID\",\n",
        "    date_col=\"EXAMDATE\",\n",
        "    visit_id_col=\"VISIT_ID\",\n",
        "    max_visits=5,\n",
        "    horizons_months=[12, 24, 36],\n",
        "    target_cols=[\"MMSE_TOT\", \"ADAS_TOT13\", \"CDR_SOB\"]\n",
        "):\n",
        "    df = df.copy()  # Work on a copy of the DataFrame to avoid modifying the original\n",
        "    df[date_col] = pd.to_datetime(df[date_col], errors=\"coerce\")  # Convert date column to datetime\n",
        "    df = df.dropna(subset=[date_col])  # Drop rows where the date is missing\n",
        "\n",
        "    grouped = df.groupby(id_col)  # Group data by patient ID\n",
        "    patient_splits = []  # To store the final list of patient visit splits\n",
        "    rejected_reasons = []  # To store patients that were rejected and the reason\n",
        "\n",
        "    for pid, group in grouped:\n",
        "        group_sorted = group.sort_values(date_col).reset_index()  # Sort visits by date\n",
        "\n",
        "        if len(group_sorted) < 2:\n",
        "            # Not enough visits to make a prediction\n",
        "            rejected_reasons.append((pid, \"Too few visits\"))\n",
        "            continue\n",
        "\n",
        "        # Use up to `max_visits` past visits, exclude the last one which is for future prediction\n",
        "        nb_past = min(max_visits, len(group_sorted) - 1)\n",
        "        past_visits = group_sorted.iloc[:nb_past]\n",
        "        future_visits = group_sorted.iloc[nb_past:]\n",
        "\n",
        "        if past_visits.empty:\n",
        "            rejected_reasons.append((pid, \"No past visits\"))\n",
        "            continue\n",
        "\n",
        "        last_past_date = past_visits[date_col].max()  # Date of the most recent past visit\n",
        "\n",
        "        future_ids_by_horizon = {}\n",
        "        for h in horizons_months:\n",
        "            # Define a time window around the expected horizon\n",
        "            min_date = last_past_date + pd.Timedelta(days=30.44 * (h - 6))\n",
        "            max_date = last_past_date + pd.Timedelta(days=30.44 * (h + 6))\n",
        "\n",
        "            # Select future visits within this time window, where at least one target is not missing\n",
        "            candidates = future_visits[\n",
        "                (future_visits[date_col] >= min_date) &\n",
        "                (future_visits[date_col] <= max_date)\n",
        "            ].dropna(subset=target_cols, how=\"all\")\n",
        "\n",
        "            if not candidates.empty:\n",
        "                visit_id = candidates.iloc[0][visit_id_col]\n",
        "                future_ids_by_horizon[h] = visit_id  # Save the first valid visit for this horizon\n",
        "\n",
        "        if not future_ids_by_horizon:\n",
        "            rejected_reasons.append((pid, \"No valid future targets\"))\n",
        "            continue\n",
        "\n",
        "        # Store the valid patient visit split\n",
        "        patient_splits.append({\n",
        "            \"patient_id\": pid,\n",
        "            \"past_visit_ids\": past_visits[visit_id_col].tolist(),\n",
        "            \"future_visit_ids_by_horizon\": future_ids_by_horizon\n",
        "        })\n",
        "\n",
        "    return patient_splits, rejected_reasons\n",
        "\n",
        "\n",
        "# Apply the function to the full dataset\n",
        "patient_splits, rejected = group_visits_by_patient_with_visit_id_and_horizons(df)\n",
        "\n",
        "# Print some basic stats\n",
        "print(f\"Valid patients: {len(patient_splits)}\")\n",
        "print(f\"Rejected patients: {len(rejected)}\")\n",
        "print(\"Example patient split:\")\n",
        "print(patient_splits[0])\n"
      ],
      "metadata": {
        "colab": {
          "base_uri": "https://localhost:8080/"
        },
        "id": "tBBfvK9N5TNi",
        "outputId": "4cca5ffa-13f3-4fdd-b51d-0539e4710b63"
      },
      "execution_count": null,
      "outputs": [
        {
          "output_type": "stream",
          "name": "stdout",
          "text": [
            "Valid patients: 1480\n",
            "Rejected patients: 199\n",
            "Example patient split:\n",
            "{'patient_id': '2334_F_1798', 'past_visit_ids': ['VISIT_09799'], 'future_visit_ids_by_horizon': {24: 'VISIT_09800'}}\n"
          ]
        }
      ]
    },
    {
      "cell_type": "markdown",
      "source": [
        "## 6. Train / Validation / Test Split\n",
        "\n",
        "To properly evaluate the model, we divide the patients into three disjoint sets:\n",
        "\n",
        "- **Train**: used to train the model\n",
        "- **Validation**: used to tune hyperparameters and apply early stopping\n",
        "- **Test**: used only for final evaluation, never seen during training\n",
        "\n",
        "We perform the split at the **patient level**, not at the visit level, to avoid data leakage.\n"
      ],
      "metadata": {
        "id": "qE0RJ6Wd5p7N"
      }
    },
    {
      "cell_type": "code",
      "source": [
        "import random\n",
        "\n",
        "def split_patient_ids(patient_splits, train_ratio=0.7, val_ratio=0.15, test_ratio=0.15, seed=42):\n",
        "    \"\"\"\n",
        "    Split patient entries into train / val / test lists based on patient_id.\n",
        "    Output: three lists (train, val, test), each containing patient entries.\n",
        "    \"\"\"\n",
        "    assert abs(train_ratio + val_ratio + test_ratio - 1.0) < 1e-6, \"Ratios must sum to 1.0\"\n",
        "\n",
        "    random.seed(seed)\n",
        "    all_patients = patient_splits.copy()\n",
        "    random.shuffle(all_patients)\n",
        "\n",
        "    n = len(all_patients)\n",
        "    n_train = int(n * train_ratio)\n",
        "    n_val = int(n * val_ratio)\n",
        "\n",
        "    train_set = all_patients[:n_train]\n",
        "    val_set = all_patients[n_train:n_train + n_val]\n",
        "    test_set = all_patients[n_train + n_val:]\n",
        "\n",
        "    print(f\"Train patients: {len(train_set)}\")\n",
        "    print(f\"Val patients:   {len(val_set)}\")\n",
        "    print(f\"Test patients:  {len(test_set)}\")\n",
        "\n",
        "    return train_set, val_set, test_set\n",
        "\n",
        "# Apply the split\n",
        "train_set, val_set, test_set = split_patient_ids(patient_splits)\n"
      ],
      "metadata": {
        "colab": {
          "base_uri": "https://localhost:8080/"
        },
        "id": "PWUh1uO_5hOj",
        "outputId": "543f89d1-675c-4c1c-ad95-c1abe4b6866f"
      },
      "execution_count": null,
      "outputs": [
        {
          "output_type": "stream",
          "name": "stdout",
          "text": [
            "Train patients: 1036\n",
            "Val patients:   222\n",
            "Test patients:  222\n"
          ]
        }
      ]
    },
    {
      "cell_type": "markdown",
      "source": [
        "## 7. Data Preprocessing: Encoding, Imputation, and Standardization\n",
        "\n",
        "To prepare the dataset for deep learning, we apply the same preprocessing steps to each split (train, validation, test), but using parameters fitted **only on the training set**.\n",
        "\n",
        "Steps:\n",
        "1. Replace `EXAMDATE` with a numerical time value (in months)\n",
        "2. Remove technical identifiers (`ID`, `VISIT_ID`, `VISCODE`, `EXAMDATE`)\n",
        "3. Encode categorical features\n",
        "4. Impute missing values (median)\n",
        "5. Standardize numerical features\n",
        "\n",
        "This ensures no information from the validation or test set leaks into training.\n"
      ],
      "metadata": {
        "id": "Qgm2XYjO6Tu1"
      }
    },
    {
      "cell_type": "code",
      "source": [
        "# Extract patient IDs from each split (train, validation, test)\n",
        "train_ids = set(entry[\"patient_id\"] for entry in train_set)\n",
        "val_ids = set(entry[\"patient_id\"] for entry in val_set)\n",
        "test_ids = set(entry[\"patient_id\"] for entry in test_set)\n",
        "\n",
        "# Filter the original DataFrame to keep only rows for patients in each split\n",
        "df_train = df[df[\"ID\"].isin(train_ids)].copy()\n",
        "df_val = df[df[\"ID\"].isin(val_ids)].copy()\n",
        "df_test = df[df[\"ID\"].isin(test_ids)].copy()\n",
        "\n",
        "# Print the size of each dataset to check the result\n",
        "print(f\"df_train: {df_train.shape}\")\n",
        "print(f\"df_val  : {df_val.shape}\")\n",
        "print(f\"df_test : {df_test.shape}\")\n"
      ],
      "metadata": {
        "colab": {
          "base_uri": "https://localhost:8080/"
        },
        "id": "XuuxBoaf50Ft",
        "outputId": "7a13c42d-3999-4b4c-e660-6cf3c538fc0a"
      },
      "execution_count": null,
      "outputs": [
        {
          "output_type": "stream",
          "name": "stdout",
          "text": [
            "df_train: (6407, 27)\n",
            "df_val  : (1404, 27)\n",
            "df_test : (1340, 27)\n"
          ]
        }
      ]
    },
    {
      "cell_type": "code",
      "source": [
        "import pandas as pd\n",
        "\n",
        "def convert_examdate_to_months_since_baseline(df, id_col=\"ID\", date_col=\"EXAMDATE\"):\n",
        "    df = df.copy()  # Make a copy of the DataFrame to avoid changing the original\n",
        "    df[date_col] = pd.to_datetime(df[date_col], errors=\"coerce\")  # Convert dates to datetime format\n",
        "\n",
        "    # Find the first (earliest) visit date for each patient (used as baseline)\n",
        "    baseline_dates = df.groupby(id_col)[date_col].min()\n",
        "\n",
        "    # Calculate the number of months since the baseline for each visit\n",
        "    df[\"MONTHS_SINCE_REF\"] = df.apply(\n",
        "        lambda row: (row[date_col] - baseline_dates.loc[row[id_col]]).days / 30.44\n",
        "        if pd.notnull(row[date_col]) else None,\n",
        "        axis=1\n",
        "    )\n",
        "\n",
        "    return df.drop(columns=[date_col])  # Drop the original date column\n",
        "\n",
        "# Apply the transformation to each dataset split\n",
        "df_train = convert_examdate_to_months_since_baseline(df_train)\n",
        "df_val = convert_examdate_to_months_since_baseline(df_val)\n",
        "df_test = convert_examdate_to_months_since_baseline(df_test)\n",
        "\n",
        "# Check a few results from the training set\n",
        "df_train[[\"ID\", \"MONTHS_SINCE_REF\"]].head()\n"
      ],
      "metadata": {
        "colab": {
          "base_uri": "https://localhost:8080/",
          "height": 206
        },
        "id": "un1p8U086sPf",
        "outputId": "3757b80a-521c-4717-bdc6-998c250ce47d"
      },
      "execution_count": null,
      "outputs": [
        {
          "output_type": "execute_result",
          "data": {
            "text/plain": [
              "            ID  MONTHS_SINCE_REF\n",
              "13  3998_F_134          0.000000\n",
              "14  3998_F_134          5.749014\n",
              "15  3998_F_134         12.187911\n",
              "16  3998_F_134         18.134034\n",
              "17  3998_F_134         36.333771"
            ],
            "text/html": [
              "\n",
              "  <div id=\"df-01e1ebb5-aec6-4166-8c2e-f06d667db623\" class=\"colab-df-container\">\n",
              "    <div>\n",
              "<style scoped>\n",
              "    .dataframe tbody tr th:only-of-type {\n",
              "        vertical-align: middle;\n",
              "    }\n",
              "\n",
              "    .dataframe tbody tr th {\n",
              "        vertical-align: top;\n",
              "    }\n",
              "\n",
              "    .dataframe thead th {\n",
              "        text-align: right;\n",
              "    }\n",
              "</style>\n",
              "<table border=\"1\" class=\"dataframe\">\n",
              "  <thead>\n",
              "    <tr style=\"text-align: right;\">\n",
              "      <th></th>\n",
              "      <th>ID</th>\n",
              "      <th>MONTHS_SINCE_REF</th>\n",
              "    </tr>\n",
              "  </thead>\n",
              "  <tbody>\n",
              "    <tr>\n",
              "      <th>13</th>\n",
              "      <td>3998_F_134</td>\n",
              "      <td>0.000000</td>\n",
              "    </tr>\n",
              "    <tr>\n",
              "      <th>14</th>\n",
              "      <td>3998_F_134</td>\n",
              "      <td>5.749014</td>\n",
              "    </tr>\n",
              "    <tr>\n",
              "      <th>15</th>\n",
              "      <td>3998_F_134</td>\n",
              "      <td>12.187911</td>\n",
              "    </tr>\n",
              "    <tr>\n",
              "      <th>16</th>\n",
              "      <td>3998_F_134</td>\n",
              "      <td>18.134034</td>\n",
              "    </tr>\n",
              "    <tr>\n",
              "      <th>17</th>\n",
              "      <td>3998_F_134</td>\n",
              "      <td>36.333771</td>\n",
              "    </tr>\n",
              "  </tbody>\n",
              "</table>\n",
              "</div>\n",
              "    <div class=\"colab-df-buttons\">\n",
              "\n",
              "  <div class=\"colab-df-container\">\n",
              "    <button class=\"colab-df-convert\" onclick=\"convertToInteractive('df-01e1ebb5-aec6-4166-8c2e-f06d667db623')\"\n",
              "            title=\"Convert this dataframe to an interactive table.\"\n",
              "            style=\"display:none;\">\n",
              "\n",
              "  <svg xmlns=\"http://www.w3.org/2000/svg\" height=\"24px\" viewBox=\"0 -960 960 960\">\n",
              "    <path d=\"M120-120v-720h720v720H120Zm60-500h600v-160H180v160Zm220 220h160v-160H400v160Zm0 220h160v-160H400v160ZM180-400h160v-160H180v160Zm440 0h160v-160H620v160ZM180-180h160v-160H180v160Zm440 0h160v-160H620v160Z\"/>\n",
              "  </svg>\n",
              "    </button>\n",
              "\n",
              "  <style>\n",
              "    .colab-df-container {\n",
              "      display:flex;\n",
              "      gap: 12px;\n",
              "    }\n",
              "\n",
              "    .colab-df-convert {\n",
              "      background-color: #E8F0FE;\n",
              "      border: none;\n",
              "      border-radius: 50%;\n",
              "      cursor: pointer;\n",
              "      display: none;\n",
              "      fill: #1967D2;\n",
              "      height: 32px;\n",
              "      padding: 0 0 0 0;\n",
              "      width: 32px;\n",
              "    }\n",
              "\n",
              "    .colab-df-convert:hover {\n",
              "      background-color: #E2EBFA;\n",
              "      box-shadow: 0px 1px 2px rgba(60, 64, 67, 0.3), 0px 1px 3px 1px rgba(60, 64, 67, 0.15);\n",
              "      fill: #174EA6;\n",
              "    }\n",
              "\n",
              "    .colab-df-buttons div {\n",
              "      margin-bottom: 4px;\n",
              "    }\n",
              "\n",
              "    [theme=dark] .colab-df-convert {\n",
              "      background-color: #3B4455;\n",
              "      fill: #D2E3FC;\n",
              "    }\n",
              "\n",
              "    [theme=dark] .colab-df-convert:hover {\n",
              "      background-color: #434B5C;\n",
              "      box-shadow: 0px 1px 3px 1px rgba(0, 0, 0, 0.15);\n",
              "      filter: drop-shadow(0px 1px 2px rgba(0, 0, 0, 0.3));\n",
              "      fill: #FFFFFF;\n",
              "    }\n",
              "  </style>\n",
              "\n",
              "    <script>\n",
              "      const buttonEl =\n",
              "        document.querySelector('#df-01e1ebb5-aec6-4166-8c2e-f06d667db623 button.colab-df-convert');\n",
              "      buttonEl.style.display =\n",
              "        google.colab.kernel.accessAllowed ? 'block' : 'none';\n",
              "\n",
              "      async function convertToInteractive(key) {\n",
              "        const element = document.querySelector('#df-01e1ebb5-aec6-4166-8c2e-f06d667db623');\n",
              "        const dataTable =\n",
              "          await google.colab.kernel.invokeFunction('convertToInteractive',\n",
              "                                                    [key], {});\n",
              "        if (!dataTable) return;\n",
              "\n",
              "        const docLinkHtml = 'Like what you see? Visit the ' +\n",
              "          '<a target=\"_blank\" href=https://colab.research.google.com/notebooks/data_table.ipynb>data table notebook</a>'\n",
              "          + ' to learn more about interactive tables.';\n",
              "        element.innerHTML = '';\n",
              "        dataTable['output_type'] = 'display_data';\n",
              "        await google.colab.output.renderOutput(dataTable, element);\n",
              "        const docLink = document.createElement('div');\n",
              "        docLink.innerHTML = docLinkHtml;\n",
              "        element.appendChild(docLink);\n",
              "      }\n",
              "    </script>\n",
              "  </div>\n",
              "\n",
              "\n",
              "    <div id=\"df-f7d83adc-5c04-45d5-973b-a4c6b695fd33\">\n",
              "      <button class=\"colab-df-quickchart\" onclick=\"quickchart('df-f7d83adc-5c04-45d5-973b-a4c6b695fd33')\"\n",
              "                title=\"Suggest charts\"\n",
              "                style=\"display:none;\">\n",
              "\n",
              "<svg xmlns=\"http://www.w3.org/2000/svg\" height=\"24px\"viewBox=\"0 0 24 24\"\n",
              "     width=\"24px\">\n",
              "    <g>\n",
              "        <path d=\"M19 3H5c-1.1 0-2 .9-2 2v14c0 1.1.9 2 2 2h14c1.1 0 2-.9 2-2V5c0-1.1-.9-2-2-2zM9 17H7v-7h2v7zm4 0h-2V7h2v10zm4 0h-2v-4h2v4z\"/>\n",
              "    </g>\n",
              "</svg>\n",
              "      </button>\n",
              "\n",
              "<style>\n",
              "  .colab-df-quickchart {\n",
              "      --bg-color: #E8F0FE;\n",
              "      --fill-color: #1967D2;\n",
              "      --hover-bg-color: #E2EBFA;\n",
              "      --hover-fill-color: #174EA6;\n",
              "      --disabled-fill-color: #AAA;\n",
              "      --disabled-bg-color: #DDD;\n",
              "  }\n",
              "\n",
              "  [theme=dark] .colab-df-quickchart {\n",
              "      --bg-color: #3B4455;\n",
              "      --fill-color: #D2E3FC;\n",
              "      --hover-bg-color: #434B5C;\n",
              "      --hover-fill-color: #FFFFFF;\n",
              "      --disabled-bg-color: #3B4455;\n",
              "      --disabled-fill-color: #666;\n",
              "  }\n",
              "\n",
              "  .colab-df-quickchart {\n",
              "    background-color: var(--bg-color);\n",
              "    border: none;\n",
              "    border-radius: 50%;\n",
              "    cursor: pointer;\n",
              "    display: none;\n",
              "    fill: var(--fill-color);\n",
              "    height: 32px;\n",
              "    padding: 0;\n",
              "    width: 32px;\n",
              "  }\n",
              "\n",
              "  .colab-df-quickchart:hover {\n",
              "    background-color: var(--hover-bg-color);\n",
              "    box-shadow: 0 1px 2px rgba(60, 64, 67, 0.3), 0 1px 3px 1px rgba(60, 64, 67, 0.15);\n",
              "    fill: var(--button-hover-fill-color);\n",
              "  }\n",
              "\n",
              "  .colab-df-quickchart-complete:disabled,\n",
              "  .colab-df-quickchart-complete:disabled:hover {\n",
              "    background-color: var(--disabled-bg-color);\n",
              "    fill: var(--disabled-fill-color);\n",
              "    box-shadow: none;\n",
              "  }\n",
              "\n",
              "  .colab-df-spinner {\n",
              "    border: 2px solid var(--fill-color);\n",
              "    border-color: transparent;\n",
              "    border-bottom-color: var(--fill-color);\n",
              "    animation:\n",
              "      spin 1s steps(1) infinite;\n",
              "  }\n",
              "\n",
              "  @keyframes spin {\n",
              "    0% {\n",
              "      border-color: transparent;\n",
              "      border-bottom-color: var(--fill-color);\n",
              "      border-left-color: var(--fill-color);\n",
              "    }\n",
              "    20% {\n",
              "      border-color: transparent;\n",
              "      border-left-color: var(--fill-color);\n",
              "      border-top-color: var(--fill-color);\n",
              "    }\n",
              "    30% {\n",
              "      border-color: transparent;\n",
              "      border-left-color: var(--fill-color);\n",
              "      border-top-color: var(--fill-color);\n",
              "      border-right-color: var(--fill-color);\n",
              "    }\n",
              "    40% {\n",
              "      border-color: transparent;\n",
              "      border-right-color: var(--fill-color);\n",
              "      border-top-color: var(--fill-color);\n",
              "    }\n",
              "    60% {\n",
              "      border-color: transparent;\n",
              "      border-right-color: var(--fill-color);\n",
              "    }\n",
              "    80% {\n",
              "      border-color: transparent;\n",
              "      border-right-color: var(--fill-color);\n",
              "      border-bottom-color: var(--fill-color);\n",
              "    }\n",
              "    90% {\n",
              "      border-color: transparent;\n",
              "      border-bottom-color: var(--fill-color);\n",
              "    }\n",
              "  }\n",
              "</style>\n",
              "\n",
              "      <script>\n",
              "        async function quickchart(key) {\n",
              "          const quickchartButtonEl =\n",
              "            document.querySelector('#' + key + ' button');\n",
              "          quickchartButtonEl.disabled = true;  // To prevent multiple clicks.\n",
              "          quickchartButtonEl.classList.add('colab-df-spinner');\n",
              "          try {\n",
              "            const charts = await google.colab.kernel.invokeFunction(\n",
              "                'suggestCharts', [key], {});\n",
              "          } catch (error) {\n",
              "            console.error('Error during call to suggestCharts:', error);\n",
              "          }\n",
              "          quickchartButtonEl.classList.remove('colab-df-spinner');\n",
              "          quickchartButtonEl.classList.add('colab-df-quickchart-complete');\n",
              "        }\n",
              "        (() => {\n",
              "          let quickchartButtonEl =\n",
              "            document.querySelector('#df-f7d83adc-5c04-45d5-973b-a4c6b695fd33 button');\n",
              "          quickchartButtonEl.style.display =\n",
              "            google.colab.kernel.accessAllowed ? 'block' : 'none';\n",
              "        })();\n",
              "      </script>\n",
              "    </div>\n",
              "\n",
              "    </div>\n",
              "  </div>\n"
            ],
            "application/vnd.google.colaboratory.intrinsic+json": {
              "type": "dataframe",
              "summary": "{\n  \"name\": \"df_train[[\\\"ID\\\", \\\"MONTHS_SINCE_REF\\\"]]\",\n  \"rows\": 5,\n  \"fields\": [\n    {\n      \"column\": \"ID\",\n      \"properties\": {\n        \"dtype\": \"category\",\n        \"num_unique_values\": 1,\n        \"samples\": [\n          \"3998_F_134\"\n        ],\n        \"semantic_type\": \"\",\n        \"description\": \"\"\n      }\n    },\n    {\n      \"column\": \"MONTHS_SINCE_REF\",\n      \"properties\": {\n        \"dtype\": \"number\",\n        \"std\": 13.982967011572887,\n        \"min\": 0.0,\n        \"max\": 36.333771353482256,\n        \"num_unique_values\": 5,\n        \"samples\": [\n          5.7490144546649145\n        ],\n        \"semantic_type\": \"\",\n        \"description\": \"\"\n      }\n    }\n  ]\n}"
            }
          },
          "metadata": {},
          "execution_count": 17
        }
      ]
    },
    {
      "cell_type": "markdown",
      "source": [
        "### Encode Categorical Variables\n",
        "\n",
        "We apply one-hot encoding to categorical variables using `sklearn.OneHotEncoder`.  \n",
        "To avoid data leakage, the encoder is fit only on the training set, then applied to validation and test sets.\n"
      ],
      "metadata": {
        "id": "ExNt7-Wr7tzL"
      }
    },
    {
      "cell_type": "code",
      "source": [
        "from sklearn.preprocessing import OneHotEncoder\n",
        "\n",
        "# Columns used for structure or identification (we don't want to encode them)\n",
        "structure_cols = [\"VISIT_ID\", \"ID\", \"VISCODE\", \"EXAMDATE\"]\n",
        "\n",
        "# Find categorical columns (type \"object\"), excluding structure columns\n",
        "categorical_cols = [\n",
        "    col for col in df_train.select_dtypes(include=\"object\").columns\n",
        "    if col not in structure_cols\n",
        "]\n",
        "\n",
        "print(\"Categorical columns (to encode):\", categorical_cols)\n",
        "\n",
        "# Initialize one-hot encoder (requires scikit-learn version ≥ 1.2)\n",
        "encoder = OneHotEncoder(sparse_output=False, handle_unknown=\"ignore\")\n",
        "\n",
        "# Fit the encoder on training data, then apply it to all datasets\n",
        "encoded_train = encoder.fit_transform(df_train[categorical_cols])\n",
        "encoded_val = encoder.transform(df_val[categorical_cols])\n",
        "encoded_test = encoder.transform(df_test[categorical_cols])\n",
        "\n",
        "# Convert encoded arrays into DataFrames with column names\n",
        "encoded_train_df = pd.DataFrame(\n",
        "    encoded_train,\n",
        "    columns=encoder.get_feature_names_out(categorical_cols),\n",
        "    index=df_train.index\n",
        ")\n",
        "\n",
        "encoded_val_df = pd.DataFrame(\n",
        "    encoded_val,\n",
        "    columns=encoder.get_feature_names_out(categorical_cols),\n",
        "    index=df_val.index\n",
        ")\n",
        "\n",
        "encoded_test_df = pd.DataFrame(\n",
        "    encoded_test,\n",
        "    columns=encoder.get_feature_names_out(categorical_cols),\n",
        "    index=df_test.index\n",
        ")\n",
        "\n",
        "# Drop the original categorical columns, and add the new one-hot encoded columns\n",
        "df_train = pd.concat([\n",
        "    df_train.drop(columns=categorical_cols),\n",
        "    encoded_train_df\n",
        "], axis=1)\n",
        "\n",
        "df_val = pd.concat([\n",
        "    df_val.drop(columns=categorical_cols),\n",
        "    encoded_val_df\n",
        "], axis=1)\n",
        "\n",
        "df_test = pd.concat([\n",
        "    df_test.drop(columns=categorical_cols),\n",
        "    encoded_test_df\n",
        "], axis=1)\n",
        "\n",
        "# Final check on the shape of the datasets\n",
        "print(f\"Train shape after encoding: {df_train.shape}\")\n",
        "print(f\"Val shape after encoding  : {df_val.shape}\")\n",
        "print(f\"Test shape after encoding : {df_test.shape}\")\n"
      ],
      "metadata": {
        "colab": {
          "base_uri": "https://localhost:8080/"
        },
        "id": "T51W6cAo7mr3",
        "outputId": "f65adbff-b723-4222-c486-d06c9eab0d29"
      },
      "execution_count": null,
      "outputs": [
        {
          "output_type": "stream",
          "name": "stdout",
          "text": [
            "Categorical columns (to encode): ['P_GENDER', 'P_RACE', 'P_ETHNICITY', 'P_MARRIED']\n",
            "Train shape after encoding: (6407, 40)\n",
            "Val shape after encoding  : (1404, 40)\n",
            "Test shape after encoding : (1340, 40)\n"
          ]
        }
      ]
    },
    {
      "cell_type": "markdown",
      "source": [
        "### Impute Missing Values\n",
        "\n",
        "We fill missing values in numeric columns using the **median** computed from the training set only.  \n",
        "This strategy is simple, robust to outliers, and helps avoid data leakage between training, validation, and test sets.\n",
        "\n",
        "We are aware that more advanced imputation methods (e.g., based on domain knowledge, temporal patterns, or multivariate models) could potentially improve performance. However, such methods require expert input and careful design.\n",
        "\n",
        "Since our current goal is to test a deep learning model quickly and reliably, we adopted this **fast and consistent baseline approach**. It ensures a clean and repeatable preprocessing pipeline, while leaving room for future improvements with the help of medical or domain experts.\n",
        "\n"
      ],
      "metadata": {
        "id": "wYN1-eBv8NuG"
      }
    },
    {
      "cell_type": "code",
      "source": [
        "columns_to_exclude = [\"VISIT_ID\", \"ID\", \"VISCODE\", \"EXAMDATE\"]\n",
        "\n",
        "# 1. Binary columns: values are only 0.0 or 1.0\n",
        "binary_cols = [\n",
        "    col for col in df_train.columns\n",
        "    if set(df_train[col].dropna().unique()).issubset({0.0, 1.0})\n",
        "    and col not in columns_to_exclude\n",
        "]\n",
        "\n",
        "# 2. Ordinal columns: values are 0.0 / 1.0 / 2.0 (or similar), but not binary\n",
        "ordinal_cols = [\n",
        "    col for col in df_train.columns\n",
        "    if set(df_train[col].dropna().unique()).issubset({0.0, 1.0, 2.0})\n",
        "    and col not in binary_cols  # make sure it's not already classified as binary\n",
        "    and col not in columns_to_exclude\n",
        "]\n",
        "\n",
        "# 3. Continuous columns: numeric columns that are not binary, not ordinal, and not excluded\n",
        "continuous_cols = [\n",
        "    col for col in df_train.select_dtypes(include=[\"number\"]).columns\n",
        "    if col not in binary_cols + ordinal_cols and col not in columns_to_exclude\n",
        "]\n",
        "\n",
        "# Print the result for checking\n",
        "print(\"Binary columns   :\", binary_cols)\n",
        "print(\"Ordinal columns  :\", ordinal_cols)\n",
        "print(\"Continuous cols  :\", continuous_cols)\n"
      ],
      "metadata": {
        "colab": {
          "base_uri": "https://localhost:8080/"
        },
        "id": "i4pzZeAlwmBz",
        "outputId": "6bd6985e-3811-4657-aeea-b3385e519a45"
      },
      "execution_count": null,
      "outputs": [
        {
          "output_type": "stream",
          "name": "stdout",
          "text": [
            "Binary columns   : ['P_GENDER_Female', 'P_GENDER_Male', 'P_RACE_Am Indian/Alaskan', 'P_RACE_Asian', 'P_RACE_Black', 'P_RACE_Hawaiian/Other PI', 'P_RACE_More than one', 'P_RACE_Unknown', 'P_RACE_White', 'P_ETHNICITY_Hisp/Latino', 'P_ETHNICITY_Not Hisp/Latino', 'P_ETHNICITY_Unknown', 'P_MARRIED_Divorced', 'P_MARRIED_Married', 'P_MARRIED_Never married', 'P_MARRIED_Unknown', 'P_MARRIED_Widowed']\n",
            "Ordinal columns  : ['DX', 'P_APOE4']\n",
            "Continuous cols  : ['AGE_vis', 'SITEID', 'AGE_bl', 'YEARS_SINCE_bl', 'P_YEARS_EDU', 'MES_MRI_ICV_VOL', 'MES_MRI_VENTRICLES_VOL', 'AVLT_A1t5_SUM_OK', 'AVLT_A5m1_DELTA_OK', 'AVLT_A5m7_DELTA_OK', 'AVLT_A5m7_RATIO_OK', 'MMSE_TOT', 'ADAS_TOT11', 'ADAS_TOT13', 'CDR_SOB', 'FAQ_TOT', 'MES_MRI_VENTRICLES_ICV', 'MONTHS_SINCE_REF']\n"
          ]
        }
      ]
    },
    {
      "cell_type": "code",
      "source": [
        "from sklearn.impute import SimpleImputer\n",
        "\n",
        "# Columns where we want to apply imputation (continuous + ordinal + binary)\n",
        "cols_to_impute = continuous_cols + ordinal_cols + binary_cols\n",
        "\n",
        "# Initialize the imputer with the median strategy\n",
        "imputer = SimpleImputer(strategy=\"median\")\n",
        "\n",
        "# Create copies of the datasets to avoid modifying the originals\n",
        "df_train_imputed = df_train.copy()\n",
        "df_val_imputed = df_val.copy()\n",
        "df_test_imputed = df_test.copy()\n",
        "\n",
        "# Fit the imputer on the training set, then apply it to all datasets\n",
        "df_train_imputed[cols_to_impute] = imputer.fit_transform(df_train[cols_to_impute])\n",
        "df_val_imputed[cols_to_impute] = imputer.transform(df_val[cols_to_impute])\n",
        "df_test_imputed[cols_to_impute] = imputer.transform(df_test[cols_to_impute])\n",
        "\n",
        "# Check if there are any missing values left\n",
        "print(f\"Missing in train after imputation: {df_train_imputed.isna().sum().sum()}\")\n",
        "print(f\"Missing in val   after imputation: {df_val_imputed.isna().sum().sum()}\")\n",
        "print(f\"Missing in test  after imputation: {df_test_imputed.isna().sum().sum()}\")\n"
      ],
      "metadata": {
        "colab": {
          "base_uri": "https://localhost:8080/"
        },
        "id": "3KqZQ9Si7xKB",
        "outputId": "7b35cd0f-9f3f-4867-e60b-fda59293fdb9"
      },
      "execution_count": null,
      "outputs": [
        {
          "output_type": "stream",
          "name": "stdout",
          "text": [
            "Missing in train after imputation: 0\n",
            "Missing in val   after imputation: 0\n",
            "Missing in test  after imputation: 0\n"
          ]
        }
      ]
    },
    {
      "cell_type": "code",
      "source": [
        "df_train_imputed.shape"
      ],
      "metadata": {
        "colab": {
          "base_uri": "https://localhost:8080/"
        },
        "id": "5B63yWS1WASZ",
        "outputId": "df5346c5-5d45-43ea-c96c-26db532d1f0a"
      },
      "execution_count": null,
      "outputs": [
        {
          "output_type": "execute_result",
          "data": {
            "text/plain": [
              "(6407, 40)"
            ]
          },
          "metadata": {},
          "execution_count": 23
        }
      ]
    },
    {
      "cell_type": "code",
      "source": [],
      "metadata": {
        "id": "HBj61_AZxKXW"
      },
      "execution_count": null,
      "outputs": []
    },
    {
      "cell_type": "markdown",
      "source": [
        "### Standardize Continuous Features\n",
        "\n",
        "Some continuous features have very large value ranges, which can affect model training.  \n",
        "We manually selected those features and applied standardization (mean = 0, std = 1) using training set statistics.  \n",
        "This helps the model learn better by keeping feature scales consistent.\n"
      ],
      "metadata": {
        "id": "mp4M_5E6_PGi"
      }
    },
    {
      "cell_type": "code",
      "source": [
        "from sklearn.preprocessing import StandardScaler\n",
        "\n",
        "# Columns we decided to standardize (they have large value ranges)\n",
        "standardize_cols = [\n",
        "    'AGE_vis', 'SITEID', 'AGE_bl', 'YEARS_SINCE_bl',\n",
        "    'P_YEARS_EDU', 'MES_MRI_ICV_VOL', 'MES_MRI_VENTRICLES_VOL', 'MONTHS_SINCE_REF'\n",
        "]\n",
        "\n",
        "# Initialize the scaler\n",
        "scaler = StandardScaler()\n",
        "\n",
        "# Standardize the selected columns in the training set (fit and transform)\n",
        "X_train_cont = pd.DataFrame(\n",
        "    scaler.fit_transform(df_train_imputed[standardize_cols]),\n",
        "    columns=standardize_cols,\n",
        "    index=df_train_imputed.index\n",
        ")\n",
        "\n",
        "# Apply the same transformation to validation and test sets (transform only)\n",
        "X_val_cont = pd.DataFrame(\n",
        "    scaler.transform(df_val_imputed[standardize_cols]),\n",
        "    columns=standardize_cols,\n",
        "    index=df_val_imputed.index\n",
        ")\n",
        "\n",
        "X_test_cont = pd.DataFrame(\n",
        "    scaler.transform(df_test_imputed[standardize_cols]),\n",
        "    columns=standardize_cols,\n",
        "    index=df_test_imputed.index\n",
        ")\n",
        "\n",
        "\n"
      ],
      "metadata": {
        "id": "JoE32YPC_KIB"
      },
      "execution_count": null,
      "outputs": []
    },
    {
      "cell_type": "markdown",
      "source": [
        "### Recombine All Features\n",
        "\n",
        "We now combine:\n",
        "- Standardized continuous variables\n",
        "- Unscaled ordinal and binary variables\n",
        "to form the final training, validation, and test feature sets.\n"
      ],
      "metadata": {
        "id": "vf-kYyBD_W9d"
      }
    },
    {
      "cell_type": "code",
      "source": [
        "# Reconstruct the final matrices by combining all relevant columns\n",
        "\n",
        "X_train = pd.concat([\n",
        "    X_train_cont,  # standardized continuous features\n",
        "    df_train_imputed[ordinal_cols + binary_cols + [\"DX\", \"MMSE_TOT\", \"ADAS_TOT13\", \"CDR_SOB\"]],  # other useful features\n",
        "    df_train[[\"ID\", \"VISCODE\", \"VISIT_ID\"]]  # structural columns (patient and visit info)\n",
        "], axis=1)\n",
        "\n",
        "X_val = pd.concat([\n",
        "    X_val_cont,\n",
        "    df_val_imputed[ordinal_cols + binary_cols + [\"DX\", \"MMSE_TOT\", \"ADAS_TOT13\", \"CDR_SOB\"]],\n",
        "    df_val[[\"ID\", \"VISCODE\", \"VISIT_ID\"]]\n",
        "], axis=1)\n",
        "\n",
        "X_test = pd.concat([\n",
        "    X_test_cont,\n",
        "    df_test_imputed[ordinal_cols + binary_cols + [\"DX\", \"MMSE_TOT\", \"ADAS_TOT13\", \"CDR_SOB\"]],\n",
        "    df_test[[\"ID\", \"VISCODE\", \"VISIT_ID\"]]\n",
        "], axis=1)\n",
        "\n",
        "# Final check on the shapes of the datasets\n",
        "print(\"Final shapes:\")\n",
        "print(\"X_train:\", X_train.shape)\n",
        "print(\"X_val  :\", X_val.shape)\n",
        "print(\"X_test :\", X_test.shape)\n"
      ],
      "metadata": {
        "colab": {
          "base_uri": "https://localhost:8080/"
        },
        "id": "5GJetHuA_RYY",
        "outputId": "6658317f-c72e-4d0f-cf2c-699518edb746"
      },
      "execution_count": null,
      "outputs": [
        {
          "output_type": "stream",
          "name": "stdout",
          "text": [
            "Final shapes:\n",
            "X_train: (6407, 34)\n",
            "X_val  : (1404, 34)\n",
            "X_test : (1340, 34)\n"
          ]
        }
      ]
    },
    {
      "cell_type": "markdown",
      "source": [
        "## Feature Correlation with Cognitive Scores\n",
        "\n",
        "We analyze how each preprocessed feature correlates with the three cognitive target scores:\n",
        "\n",
        "- MMSE_TOT\n",
        "- ADAS_TOT13\n",
        "- CDR_SOB\n",
        "\n",
        "We display only the top 10 most correlated features for each score.\n"
      ],
      "metadata": {
        "id": "GspgP15tACI2"
      }
    },
    {
      "cell_type": "code",
      "source": [
        "import seaborn as sns\n",
        "import matplotlib.pyplot as plt\n",
        "\n",
        "# Colonnes à exclure\n",
        "excluded_columns = [\"ID\", \"VISIT_ID\", \"VISCODE\"]\n",
        "\n",
        "# Créer une copie sans les colonnes exclues\n",
        "df_corr = df_train_imputed.drop(columns=[col for col in excluded_columns if col in df_train_imputed.columns])\n",
        "\n",
        "# Matrice de corrélation\n",
        "corr_matrix = df_corr.corr()\n",
        "\n",
        "# Affichage des top 10 features corrélées par score cible\n",
        "for score in [\"MMSE_TOT\", \"ADAS_TOT13\", \"CDR_SOB\"]:\n",
        "    if score not in corr_matrix.columns:\n",
        "        continue  # sécurité si le score n'est pas présent\n",
        "\n",
        "    plt.figure(figsize=(8, 5))\n",
        "\n",
        "    # Corrélations absolues triées (hors la cible elle-même)\n",
        "    sorted_corr = corr_matrix[score].drop(labels=[score], errors=\"ignore\").abs().sort_values(ascending=False).head(10)\n",
        "\n",
        "    # Extraire les vraies valeurs (signées)\n",
        "    top_corr = corr_matrix.loc[sorted_corr.index, score]\n",
        "\n",
        "    sns.heatmap(top_corr.to_frame().T, annot=True, cmap=\"coolwarm\", center=0)\n",
        "    plt.title(f\"Top 10 correlated features with {score}\")\n",
        "    plt.tight_layout()\n",
        "    plt.show()\n"
      ],
      "metadata": {
        "colab": {
          "base_uri": "https://localhost:8080/",
          "height": 1000
        },
        "id": "odB5ApBu_cPb",
        "outputId": "7acea994-63f3-4809-b26d-7176d80dedb9"
      },
      "execution_count": null,
      "outputs": [
        {
          "output_type": "display_data",
          "data": {
            "text/plain": [
              "<Figure size 800x500 with 2 Axes>"
            ],
            "image/png": "[encoded data removed]"
          },
          "metadata": {}
        },
        {
          "output_type": "display_data",
          "data": {
            "text/plain": [
              "<Figure size 800x500 with 2 Axes>"
            ],
            "image/png": "[encoded data removed]"
          },
          "metadata": {}
        },
        {
          "output_type": "display_data",
          "data": {
            "text/plain": [
              "<Figure size 800x500 with 2 Axes>"
            ],
            "image/png": "[encoded data removed]"
          },
          "metadata": {}
        }
      ]
    },
    {
      "cell_type": "markdown",
      "source": [
        "## Building Longitudinal Sequences for Modeling\n",
        "\n",
        "We now use the structured information (train/val/test patient splits) to construct input sequences (`X`) and target vectors (`y`) for modeling.\n",
        "\n",
        "Each patient's sequence contains all their past visits (as features), and the targets are their cognitive scores at different future time horizons (12, 24, 36 months).\n",
        "\n",
        "At this stage, we do **not apply padding**. Only valid sequences are returned.\n"
      ],
      "metadata": {
        "id": "KhDnTCkpD20m"
      }
    },
    {
      "cell_type": "code",
      "source": [
        "def build_X_y_sequences_from_visit_ids(\n",
        "    df,\n",
        "    patient_split,\n",
        "    target_cols=[\"MMSE_TOT\", \"ADAS_TOT13\", \"CDR_SOB\"],\n",
        "    id_col=\"VISIT_ID\"\n",
        "):\n",
        "    \"\"\"\n",
        "    Build X (sequences of past visits) and y (future target values at different horizons)\n",
        "    using the patient_split structure, which contains ordered visit_ids and future targets.\n",
        "    \"\"\"\n",
        "    X, y, patient_ids = [], [], []\n",
        "\n",
        "    for entry in patient_split:\n",
        "        pid = entry[\"patient_id\"]\n",
        "        past_ids = entry[\"past_visit_ids\"]\n",
        "        future_ids_by_horizon = entry.get(\"future_visit_ids_by_horizon\", {})\n",
        "\n",
        "        # Filter the DataFrame for past visits\n",
        "        df_past = df[df[id_col].isin(past_ids)]\n",
        "        if df_past.empty or df_past.shape[0] < 1:\n",
        "            continue  # skip if no valid past visits\n",
        "\n",
        "        # Reorder the past visits exactly as in past_ids\n",
        "        df_past = pd.concat(\n",
        "            [df[df[id_col] == vid] for vid in past_ids if vid in df[id_col].values],\n",
        "            ignore_index=True\n",
        "        )\n",
        "\n",
        "        # Drop non-feature columns (structural columns)\n",
        "        drop_cols = ['VISIT_ID', 'ID', 'VISCODE', 'EXAMDATE']\n",
        "        drop_cols = [col for col in drop_cols if col in df_past.columns]\n",
        "        X_values = df_past.drop(columns=drop_cols).values  # input sequence for this patient\n",
        "\n",
        "        # Build target values at 12, 24, and 36 months\n",
        "        y_patient = []\n",
        "        for h in [12, 24, 36]:\n",
        "            future_id = future_ids_by_horizon.get(h, None)\n",
        "            if future_id:\n",
        "                df_future = df[df[id_col] == future_id]\n",
        "                if not df_future.empty:\n",
        "                    y_values = df_future[target_cols].iloc[0].values\n",
        "                else:\n",
        "                    y_values = [np.nan] * len(target_cols)  # missing values\n",
        "            else:\n",
        "                y_values = [np.nan] * len(target_cols)  # no visit found for this horizon\n",
        "            y_patient.append(y_values)\n",
        "\n",
        "        # Skip if all targets are missing\n",
        "        if np.all(np.isnan(y_patient)):\n",
        "            continue\n",
        "\n",
        "        # Store the sequence, target, and patient ID\n",
        "        X.append(X_values)\n",
        "        y.append(np.array(y_patient))\n",
        "        patient_ids.append(pid)\n",
        "\n",
        "    return X, y, patient_ids\n"
      ],
      "metadata": {
        "id": "9Vojxb87AElx"
      },
      "execution_count": null,
      "outputs": []
    },
    {
      "cell_type": "code",
      "source": [
        "import numpy as np\n",
        "\n",
        "# Build sequences of past visits (X) and future targets (y) for each dataset split\n",
        "X_seq_train, y_seq_train, ids_train = build_X_y_sequences_from_visit_ids(X_train, train_set)\n",
        "X_seq_val, y_seq_val, ids_val = build_X_y_sequences_from_visit_ids(X_val, val_set)\n",
        "X_seq_test, y_seq_test, ids_test = build_X_y_sequences_from_visit_ids(X_test, test_set)\n",
        "\n",
        "# Check how many sequences were created for each split\n",
        "print(\" Sequences built:\")\n",
        "print(\"X_seq_train:\", len(X_seq_train), \"y_seq_train:\", len(y_seq_train))\n",
        "print(\"X_seq_val  :\", len(X_seq_val), \"y_seq_val  :\", len(y_seq_val))\n",
        "print(\"X_seq_test :\", len(X_seq_test), \"y_seq_test :\", len(y_seq_test))\n",
        "\n",
        "# Show one example sequence from the training set\n",
        "print(\"\\n Example sequence shape (train):\", X_seq_train[0].shape)\n",
        "print(\"y_seq_train[0] =\", y_seq_train[0])\n",
        "\n"
      ],
      "metadata": {
        "colab": {
          "base_uri": "https://localhost:8080/"
        },
        "id": "BPWXrgXEB4HG",
        "outputId": "4dc2f508-8fa3-4636-de95-1b9b28dcdfa3"
      },
      "execution_count": null,
      "outputs": [
        {
          "output_type": "stream",
          "name": "stdout",
          "text": [
            " Sequences built:\n",
            "X_seq_train: 1036 y_seq_train: 1036\n",
            "X_seq_val  : 222 y_seq_val  : 222\n",
            "X_seq_test : 222 y_seq_test : 222\n",
            "\n",
            " Example sequence shape (train): (5, 31)\n",
            "y_seq_train[0] = [[0.33333333 0.44317647 0.33333333]\n",
            " [       nan        nan        nan]\n",
            " [       nan        nan        nan]]\n"
          ]
        }
      ]
    },
    {
      "cell_type": "markdown",
      "source": [
        "## 6. Padding Longitudinal Sequences\n",
        "\n",
        "Each patient has a variable number of past visits, which makes the sequences irregular in length.  \n",
        "In order to train deep learning models such as RNNs or LSTMs, we need to transform them into tensors of equal shape.\n",
        "\n",
        "To do this, we apply **pre-padding** to all sequences. This means that zeros are added at the beginning of the sequence, preserving the temporal order (recent visits remain at the end).\n",
        "\n",
        "We use the maximum sequence length observed in the training set to determine the padding size.\n"
      ],
      "metadata": {
        "id": "uww9BIqzKajC"
      }
    },
    {
      "cell_type": "code",
      "source": [
        "from tensorflow.keras.preprocessing.sequence import pad_sequences\n",
        "\n",
        "# Find the maximum sequence length from the training set\n",
        "max_seq_len = max(len(seq) for seq in X_seq_train)\n",
        "print(f\" Max sequence length (train set): {max_seq_len}\")\n",
        "\n",
        "# Apply padding to all sequences so they have the same length\n",
        "# Padding is added at the beginning ('pre') to keep the most recent visits at the end\n",
        "X_seq_train_padded = pad_sequences(X_seq_train, maxlen=max_seq_len, padding='pre', dtype='float32')\n",
        "X_seq_val_padded   = pad_sequences(X_seq_val,   maxlen=max_seq_len, padding='pre', dtype='float32')\n",
        "X_seq_test_padded  = pad_sequences(X_seq_test,  maxlen=max_seq_len, padding='pre', dtype='float32')\n",
        "\n",
        "# Convert the target lists into NumPy arrays\n",
        "y_seq_train = np.array(y_seq_train, dtype='float32')\n",
        "y_seq_val   = np.array(y_seq_val, dtype='float32')\n",
        "y_seq_test  = np.array(y_seq_test, dtype='float32')\n",
        "\n",
        "# Check the final shapes of input and target arrays\n",
        "print(\" Final shapes:\")\n",
        "print(\"X_seq_train_padded:\", X_seq_train_padded.shape)\n",
        "print(\"y_seq_train        :\", y_seq_train.shape)\n"
      ],
      "metadata": {
        "colab": {
          "base_uri": "https://localhost:8080/"
        },
        "id": "YrAvnAU4KFch",
        "outputId": "8dd3df0d-3890-4d63-8c20-58a173a6912d"
      },
      "execution_count": null,
      "outputs": [
        {
          "output_type": "stream",
          "name": "stdout",
          "text": [
            " Max sequence length (train set): 5\n",
            " Final shapes:\n",
            "X_seq_train_padded: (1036, 5, 31)\n",
            "y_seq_train        : (1036, 3, 3)\n"
          ]
        }
      ]
    },
    {
      "cell_type": "code",
      "source": [
        "#Example of a sequence\n",
        "X_seq_train_padded[0]"
      ],
      "metadata": {
        "colab": {
          "base_uri": "https://localhost:8080/"
        },
        "id": "4n7YFsaoKeuU",
        "outputId": "74a7acb7-7046-405c-d9df-3b14d620793e"
      },
      "execution_count": null,
      "outputs": [
        {
          "output_type": "execute_result",
          "data": {
            "text/plain": [
              "array([[ 0.31569663, -0.5404594 ,  0.6088508 , -0.90463346, -1.7242228 ,\n",
              "        -0.4406529 ,  1.5620166 , -0.90463346,  1.        ,  1.        ,\n",
              "         0.        ,  1.        ,  0.        ,  0.        ,  1.        ,\n",
              "         0.        ,  0.        ,  0.        ,  0.        ,  0.        ,\n",
              "         1.        ,  0.        ,  0.        ,  1.        ,  0.        ,\n",
              "         0.        ,  0.        ,  1.        ,  0.03333334,  0.32152942,\n",
              "         0.1388889 ],\n",
              "       [ 0.37536463, -0.5404594 ,  0.6088508 , -0.70059544, -1.7242228 ,\n",
              "        -0.53093183,  1.6971916 , -0.7005955 ,  1.        ,  1.        ,\n",
              "         0.        ,  1.        ,  0.        ,  0.        ,  1.        ,\n",
              "         0.        ,  0.        ,  0.        ,  0.        ,  0.        ,\n",
              "         1.        ,  0.        ,  0.        ,  1.        ,  0.        ,\n",
              "         0.        ,  0.        ,  1.        ,  0.06666667,  0.22741176,\n",
              "         0.05555556],\n",
              "       [ 0.44336468, -0.5404594 ,  0.6088508 , -0.46758923, -1.7242228 ,\n",
              "        -0.37854758,  1.7136217 , -0.4675891 ,  1.        ,  1.        ,\n",
              "         0.        ,  1.        ,  0.        ,  0.        ,  1.        ,\n",
              "         0.        ,  0.        ,  0.        ,  0.        ,  0.        ,\n",
              "         1.        ,  0.        ,  0.        ,  1.        ,  0.        ,\n",
              "         0.        ,  0.        ,  1.        ,  0.13333334,  0.17258823,\n",
              "         0.16666667],\n",
              "       [ 0.52829754, -0.5404594 ,  0.6088508 , -0.17664503, -1.7242228 ,\n",
              "        -0.36881363,  2.1414022 , -0.17664602,  1.        ,  1.        ,\n",
              "         0.        ,  1.        ,  0.        ,  0.        ,  1.        ,\n",
              "         0.        ,  0.        ,  0.        ,  0.        ,  0.        ,\n",
              "         1.        ,  0.        ,  0.        ,  1.        ,  0.        ,\n",
              "         0.        ,  0.        ,  1.        ,  0.16666667,  0.33329412,\n",
              "         0.1388889 ],\n",
              "       [ 0.58138055, -0.5404594 ,  0.6088508 ,  0.00472184, -1.7242228 ,\n",
              "        -0.31116402,  2.16774   ,  0.00472109,  1.        ,  1.        ,\n",
              "         0.        ,  1.        ,  0.        ,  0.        ,  1.        ,\n",
              "         0.        ,  0.        ,  0.        ,  0.        ,  0.        ,\n",
              "         1.        ,  0.        ,  0.        ,  1.        ,  0.        ,\n",
              "         0.        ,  0.        ,  1.        ,  0.13333334,  0.34505883,\n",
              "         0.1388889 ]], dtype=float32)"
            ]
          },
          "metadata": {},
          "execution_count": 34
        }
      ]
    },
    {
      "cell_type": "markdown",
      "source": [
        "## 7. Modeling Cognitive Score Trajectories with BiLSTM\n",
        "\n",
        "To predict the future cognitive state of each patient at 12, 24, and 36 months, we use a deep learning model based on bidirectional LSTM (BiLSTM) layers. This architecture is well suited for handling sequential data, as it captures both past and future dependencies in the time series.\n",
        "\n",
        "Each input sequence corresponds to a patient's visits over time (padded to a uniform length), and each output is a vector of predicted cognitive scores at multiple future time horizons.\n",
        "\n",
        "We define the model with the following characteristics:\n",
        "- Input shape: `(sequence_length, n_features)`\n",
        "- Output shape: `(n_horizons, n_targets)` where:\n",
        "  - `n_horizons = 3` (for 12, 24, and 36 months)\n",
        "  - `n_targets = 3` (MMSE_TOT, ADAS_TOT13, and CDR_SOB)\n",
        "\n",
        "We use a custom masked loss and metric to handle missing labels."
      ],
      "metadata": {
        "id": "wsLSGJWQLHav"
      }
    },
    {
      "cell_type": "markdown",
      "source": [
        "### 7.1 Custom Loss and Metrics for Missing Labels\n",
        "\n",
        "Some target values may be missing (NaN) for certain patients and time horizons. To train the model correctly, we define masked versions of MSE (loss) and MAE (metric), which ignore missing values during training and evaluation.\n"
      ],
      "metadata": {
        "id": "iDnHRdM1Mczm"
      }
    },
    {
      "cell_type": "code",
      "source": [
        "# TensorFlow Keras layers and models\n",
        "from tensorflow.keras import layers, models\n",
        "from tensorflow.keras.preprocessing.sequence import pad_sequences\n",
        "import tensorflow as tf"
      ],
      "metadata": {
        "id": "hvXeJlyF1Y7u"
      },
      "execution_count": null,
      "outputs": []
    },
    {
      "cell_type": "code",
      "source": [
        "def masked_mse_loss(y_true, y_pred):\n",
        "    \"\"\"\n",
        "    Mean Squared Error (MSE) that ignores missing values (NaNs) in the targets.\n",
        "\n",
        "    Args:\n",
        "        y_true: tensor of shape (batch_size, n_horizons, n_targets)\n",
        "        y_pred: model predictions, same shape\n",
        "\n",
        "    Returns:\n",
        "        Normalized MSE computed only on valid (non-NaN) targets.\n",
        "    \"\"\"\n",
        "    # Create a boolean mask: True where y_true is not NaN\n",
        "    mask = tf.math.logical_not(tf.math.is_nan(y_true))\n",
        "    mask = tf.cast(mask, tf.float32)  # convert mask to float for multiplication\n",
        "\n",
        "    # Replace NaNs in y_true with zeros (they won't affect the loss due to the mask)\n",
        "    y_true_clean = tf.where(tf.math.is_nan(y_true), tf.zeros_like(y_true), y_true)\n",
        "\n",
        "    # Compute squared error and apply the mask\n",
        "    squared_error = tf.square(y_pred - y_true_clean) * mask\n",
        "\n",
        "    # Return the mean squared error over valid values only\n",
        "    return tf.reduce_sum(squared_error) / tf.reduce_sum(mask)\n",
        "\n",
        "\n",
        "def masked_mae(y_true, y_pred):\n",
        "    \"\"\"\n",
        "    Mean Absolute Error (MAE) that ignores missing values (NaNs) in the targets.\n",
        "    \"\"\"\n",
        "    # Create a mask for non-NaN values\n",
        "    mask = tf.math.logical_not(tf.math.is_nan(y_true))\n",
        "    mask = tf.cast(mask, tf.float32)\n",
        "\n",
        "    # Replace NaNs with zeros\n",
        "    y_true_clean = tf.where(tf.math.is_nan(y_true), tf.zeros_like(y_true), y_true)\n",
        "\n",
        "    # Compute absolute error and apply the mask\n",
        "    abs_error = tf.abs(y_pred - y_true_clean) * mask\n",
        "\n",
        "    # Return the mean absolute error over valid values only\n",
        "    return tf.reduce_sum(abs_error) / tf.reduce_sum(mask)\n"
      ],
      "metadata": {
        "id": "UXV0oIw5MNMY"
      },
      "execution_count": null,
      "outputs": []
    },
    {
      "cell_type": "markdown",
      "source": [
        "### 7.2 Model Architecture – Stacked BiLSTM\n",
        "\n",
        "We build a model with two stacked Bidirectional LSTM layers. The final output is reshaped into three predicted cognitive scores at three time horizons.\n"
      ],
      "metadata": {
        "id": "jTCs-gdIMhQ4"
      }
    },
    {
      "cell_type": "code",
      "source": [
        "def build_bilstm_stack_model(seq_len, n_features, n_horizons, n_targets,\n",
        "                             lstm_units=16, dropout_rate=0.0):\n",
        "    \"\"\"\n",
        "    Builds a BiLSTM-based model for multi-horizon prediction.\n",
        "\n",
        "    Args:\n",
        "        seq_len: Number of time steps in the input sequence\n",
        "        n_features: Number of input features per time step\n",
        "        n_horizons: Number of time horizons to predict (e.g. [12, 24, 36])\n",
        "        n_targets: Number of target variables at each horizon\n",
        "        lstm_units: Number of units in each LSTM direction\n",
        "        dropout_rate: Dropout rate (0.0 means no dropout)\n",
        "\n",
        "    Returns:\n",
        "        A compiled tf.keras.Model\n",
        "    \"\"\"\n",
        "\n",
        "    # Input shape: (batch_size, seq_len, n_features)\n",
        "    inputs = layers.Input(shape=(seq_len, n_features))\n",
        "\n",
        "    # Ignore time steps that are padded with zeros\n",
        "    x = layers.Masking(mask_value=0.0)(inputs)\n",
        "\n",
        "    # First BiLSTM layer (returns sequences to stack another LSTM)\n",
        "    x = layers.Bidirectional(layers.LSTM(lstm_units, return_sequences=True))(x)\n",
        "    if dropout_rate > 0:\n",
        "        x = layers.Dropout(dropout_rate)(x)\n",
        "\n",
        "    # Second BiLSTM layer (returns the final output only)\n",
        "    x = layers.Bidirectional(layers.LSTM(lstm_units, return_sequences=False))(x)\n",
        "    if dropout_rate > 0:\n",
        "        x = layers.Dropout(dropout_rate)(x)\n",
        "\n",
        "    # Final dense layer to predict all targets at all horizons\n",
        "    x = layers.Dense(n_horizons * n_targets, activation=\"sigmoid\")(x)\n",
        "\n",
        "    # Reshape output to (n_horizons, n_targets)\n",
        "    outputs = layers.Reshape((n_horizons, n_targets))(x)\n",
        "\n",
        "    # Build the model\n",
        "    model = models.Model(inputs, outputs)\n",
        "    return model\n"
      ],
      "metadata": {
        "id": "UgHDYF9-Kj5w"
      },
      "execution_count": null,
      "outputs": []
    },
    {
      "cell_type": "markdown",
      "source": [
        "### 7.3 Model Compilation and Training\n",
        "\n",
        "We compile the model using the Adam optimizer and our custom masked loss/metric functions. We apply early stopping and save the best model using validation loss.\n"
      ],
      "metadata": {
        "id": "KV_MD8roMm3V"
      }
    },
    {
      "cell_type": "code",
      "source": [
        "# Model parameters\n",
        "seq_len = X_seq_train_padded.shape[1]        # maximum sequence length after padding\n",
        "n_features = X_seq_train_padded.shape[2]     # number of features per visit\n",
        "n_horizons = y_seq_train.shape[1]            # e.g., 3 horizons (12, 24, 36 months)\n",
        "n_targets = y_seq_train.shape[2]             # e.g., 3 targets: MMSE, ADAS, CDR\n",
        "\n",
        "# Build the BiLSTM model\n",
        "model = build_bilstm_stack_model(\n",
        "    seq_len=seq_len,\n",
        "    n_features=n_features,\n",
        "    n_horizons=n_horizons,\n",
        "    n_targets=n_targets,\n",
        "    lstm_units=32,        # number of LSTM units per direction\n",
        "    dropout_rate=0.2      # dropout between layers to prevent overfitting\n",
        ")\n",
        "\n",
        "# Compile the model with masked MSE loss and masked MAE as metric\n",
        "model.compile(\n",
        "    optimizer=tf.keras.optimizers.Adam(learning_rate=1e-3),\n",
        "    loss=masked_mse_loss,       # ignores missing targets (NaNs)\n",
        "    metrics=[masked_mae]        # custom MAE that also ignores NaNs\n",
        ")\n",
        "\n",
        "# Show model architecture\n",
        "model.summary()\n"
      ],
      "metadata": {
        "colab": {
          "base_uri": "https://localhost:8080/",
          "height": 513
        },
        "id": "KfG8Ph6rLp8n",
        "outputId": "7cc75474-3ed0-4956-c411-25d35437ab61"
      },
      "execution_count": null,
      "outputs": [
        {
          "output_type": "display_data",
          "data": {
            "text/plain": [
              "\u001b[1mModel: \"functional_1\"\u001b[0m\n"
            ],
            "text/html": [
              "<pre style=\"white-space:pre;overflow-x:auto;line-height:normal;font-family:Menlo,'DejaVu Sans Mono',consolas,'Courier New',monospace\"><span style=\"font-weight: bold\">Model: \"functional_1\"</span>\n",
              "</pre>\n"
            ]
          },
          "metadata": {}
        },
        {
          "output_type": "display_data",
          "data": {
            "text/plain": [
              "┏━━━━━━━━━━━━━━━━━━━━━┳━━━━━━━━━━━━━━━━━━━┳━━━━━━━━━━━━┳━━━━━━━━━━━━━━━━━━━┓\n",
              "┃\u001b[1m \u001b[0m\u001b[1mLayer (type)       \u001b[0m\u001b[1m \u001b[0m┃\u001b[1m \u001b[0m\u001b[1mOutput Shape     \u001b[0m\u001b[1m \u001b[0m┃\u001b[1m \u001b[0m\u001b[1m   Param #\u001b[0m\u001b[1m \u001b[0m┃\u001b[1m \u001b[0m\u001b[1mConnected to     \u001b[0m\u001b[1m \u001b[0m┃\n",
              "┡━━━━━━━━━━━━━━━━━━━━━╇━━━━━━━━━━━━━━━━━━━╇━━━━━━━━━━━━╇━━━━━━━━━━━━━━━━━━━┩\n",
              "│ input_layer_1       │ (\u001b[38;5;45mNone\u001b[0m, \u001b[38;5;34m5\u001b[0m, \u001b[38;5;34m31\u001b[0m)     │          \u001b[38;5;34m0\u001b[0m │ -                 │\n",
              "│ (\u001b[38;5;33mInputLayer\u001b[0m)        │                   │            │                   │\n",
              "├─────────────────────┼───────────────────┼────────────┼───────────────────┤\n",
              "│ not_equal_1         │ (\u001b[38;5;45mNone\u001b[0m, \u001b[38;5;34m5\u001b[0m, \u001b[38;5;34m31\u001b[0m)     │          \u001b[38;5;34m0\u001b[0m │ input_layer_1[\u001b[38;5;34m0\u001b[0m]… │\n",
              "│ (\u001b[38;5;33mNotEqual\u001b[0m)          │                   │            │                   │\n",
              "├─────────────────────┼───────────────────┼────────────┼───────────────────┤\n",
              "│ masking_1 (\u001b[38;5;33mMasking\u001b[0m) │ (\u001b[38;5;45mNone\u001b[0m, \u001b[38;5;34m5\u001b[0m, \u001b[38;5;34m31\u001b[0m)     │          \u001b[38;5;34m0\u001b[0m │ input_layer_1[\u001b[38;5;34m0\u001b[0m]… │\n",
              "├─────────────────────┼───────────────────┼────────────┼───────────────────┤\n",
              "│ any_1 (\u001b[38;5;33mAny\u001b[0m)         │ (\u001b[38;5;45mNone\u001b[0m, \u001b[38;5;34m5\u001b[0m)         │          \u001b[38;5;34m0\u001b[0m │ not_equal_1[\u001b[38;5;34m0\u001b[0m][\u001b[38;5;34m0\u001b[0m] │\n",
              "├─────────────────────┼───────────────────┼────────────┼───────────────────┤\n",
              "│ bidirectional_2     │ (\u001b[38;5;45mNone\u001b[0m, \u001b[38;5;34m5\u001b[0m, \u001b[38;5;34m64\u001b[0m)     │     \u001b[38;5;34m16,384\u001b[0m │ masking_1[\u001b[38;5;34m0\u001b[0m][\u001b[38;5;34m0\u001b[0m],  │\n",
              "│ (\u001b[38;5;33mBidirectional\u001b[0m)     │                   │            │ any_1[\u001b[38;5;34m0\u001b[0m][\u001b[38;5;34m0\u001b[0m]       │\n",
              "├─────────────────────┼───────────────────┼────────────┼───────────────────┤\n",
              "│ dropout_2 (\u001b[38;5;33mDropout\u001b[0m) │ (\u001b[38;5;45mNone\u001b[0m, \u001b[38;5;34m5\u001b[0m, \u001b[38;5;34m64\u001b[0m)     │          \u001b[38;5;34m0\u001b[0m │ bidirectional_2[\u001b[38;5;34m…\u001b[0m │\n",
              "├─────────────────────┼───────────────────┼────────────┼───────────────────┤\n",
              "│ bidirectional_3     │ (\u001b[38;5;45mNone\u001b[0m, \u001b[38;5;34m64\u001b[0m)        │     \u001b[38;5;34m24,832\u001b[0m │ dropout_2[\u001b[38;5;34m0\u001b[0m][\u001b[38;5;34m0\u001b[0m],  │\n",
              "│ (\u001b[38;5;33mBidirectional\u001b[0m)     │                   │            │ any_1[\u001b[38;5;34m0\u001b[0m][\u001b[38;5;34m0\u001b[0m]       │\n",
              "├─────────────────────┼───────────────────┼────────────┼───────────────────┤\n",
              "│ dropout_3 (\u001b[38;5;33mDropout\u001b[0m) │ (\u001b[38;5;45mNone\u001b[0m, \u001b[38;5;34m64\u001b[0m)        │          \u001b[38;5;34m0\u001b[0m │ bidirectional_3[\u001b[38;5;34m…\u001b[0m │\n",
              "├─────────────────────┼───────────────────┼────────────┼───────────────────┤\n",
              "│ dense_1 (\u001b[38;5;33mDense\u001b[0m)     │ (\u001b[38;5;45mNone\u001b[0m, \u001b[38;5;34m9\u001b[0m)         │        \u001b[38;5;34m585\u001b[0m │ dropout_3[\u001b[38;5;34m0\u001b[0m][\u001b[38;5;34m0\u001b[0m]   │\n",
              "├─────────────────────┼───────────────────┼────────────┼───────────────────┤\n",
              "│ reshape_1 (\u001b[38;5;33mReshape\u001b[0m) │ (\u001b[38;5;45mNone\u001b[0m, \u001b[38;5;34m3\u001b[0m, \u001b[38;5;34m3\u001b[0m)      │          \u001b[38;5;34m0\u001b[0m │ dense_1[\u001b[38;5;34m0\u001b[0m][\u001b[38;5;34m0\u001b[0m]     │\n",
              "└─────────────────────┴───────────────────┴────────────┴───────────────────┘\n"
            ],
            "text/html": [
              "<pre style=\"white-space:pre;overflow-x:auto;line-height:normal;font-family:Menlo,'DejaVu Sans Mono',consolas,'Courier New',monospace\">┏━━━━━━━━━━━━━━━━━━━━━┳━━━━━━━━━━━━━━━━━━━┳━━━━━━━━━━━━┳━━━━━━━━━━━━━━━━━━━┓\n",
              "┃<span style=\"font-weight: bold\"> Layer (type)        </span>┃<span style=\"font-weight: bold\"> Output Shape      </span>┃<span style=\"font-weight: bold\">    Param # </span>┃<span style=\"font-weight: bold\"> Connected to      </span>┃\n",
              "┡━━━━━━━━━━━━━━━━━━━━━╇━━━━━━━━━━━━━━━━━━━╇━━━━━━━━━━━━╇━━━━━━━━━━━━━━━━━━━┩\n",
              "│ input_layer_1       │ (<span style=\"color: #00d7ff; text-decoration-color: #00d7ff\">None</span>, <span style=\"color: #00af00; text-decoration-color: #00af00\">5</span>, <span style=\"color: #00af00; text-decoration-color: #00af00\">31</span>)     │          <span style=\"color: #00af00; text-decoration-color: #00af00\">0</span> │ -                 │\n",
              "│ (<span style=\"color: #0087ff; text-decoration-color: #0087ff\">InputLayer</span>)        │                   │            │                   │\n",
              "├─────────────────────┼───────────────────┼────────────┼───────────────────┤\n",
              "│ not_equal_1         │ (<span style=\"color: #00d7ff; text-decoration-color: #00d7ff\">None</span>, <span style=\"color: #00af00; text-decoration-color: #00af00\">5</span>, <span style=\"color: #00af00; text-decoration-color: #00af00\">31</span>)     │          <span style=\"color: #00af00; text-decoration-color: #00af00\">0</span> │ input_layer_1[<span style=\"color: #00af00; text-decoration-color: #00af00\">0</span>]… │\n",
              "│ (<span style=\"color: #0087ff; text-decoration-color: #0087ff\">NotEqual</span>)          │                   │            │                   │\n",
              "├─────────────────────┼───────────────────┼────────────┼───────────────────┤\n",
              "│ masking_1 (<span style=\"color: #0087ff; text-decoration-color: #0087ff\">Masking</span>) │ (<span style=\"color: #00d7ff; text-decoration-color: #00d7ff\">None</span>, <span style=\"color: #00af00; text-decoration-color: #00af00\">5</span>, <span style=\"color: #00af00; text-decoration-color: #00af00\">31</span>)     │          <span style=\"color: #00af00; text-decoration-color: #00af00\">0</span> │ input_layer_1[<span style=\"color: #00af00; text-decoration-color: #00af00\">0</span>]… │\n",
              "├─────────────────────┼───────────────────┼────────────┼───────────────────┤\n",
              "│ any_1 (<span style=\"color: #0087ff; text-decoration-color: #0087ff\">Any</span>)         │ (<span style=\"color: #00d7ff; text-decoration-color: #00d7ff\">None</span>, <span style=\"color: #00af00; text-decoration-color: #00af00\">5</span>)         │          <span style=\"color: #00af00; text-decoration-color: #00af00\">0</span> │ not_equal_1[<span style=\"color: #00af00; text-decoration-color: #00af00\">0</span>][<span style=\"color: #00af00; text-decoration-color: #00af00\">0</span>] │\n",
              "├─────────────────────┼───────────────────┼────────────┼───────────────────┤\n",
              "│ bidirectional_2     │ (<span style=\"color: #00d7ff; text-decoration-color: #00d7ff\">None</span>, <span style=\"color: #00af00; text-decoration-color: #00af00\">5</span>, <span style=\"color: #00af00; text-decoration-color: #00af00\">64</span>)     │     <span style=\"color: #00af00; text-decoration-color: #00af00\">16,384</span> │ masking_1[<span style=\"color: #00af00; text-decoration-color: #00af00\">0</span>][<span style=\"color: #00af00; text-decoration-color: #00af00\">0</span>],  │\n",
              "│ (<span style=\"color: #0087ff; text-decoration-color: #0087ff\">Bidirectional</span>)     │                   │            │ any_1[<span style=\"color: #00af00; text-decoration-color: #00af00\">0</span>][<span style=\"color: #00af00; text-decoration-color: #00af00\">0</span>]       │\n",
              "├─────────────────────┼───────────────────┼────────────┼───────────────────┤\n",
              "│ dropout_2 (<span style=\"color: #0087ff; text-decoration-color: #0087ff\">Dropout</span>) │ (<span style=\"color: #00d7ff; text-decoration-color: #00d7ff\">None</span>, <span style=\"color: #00af00; text-decoration-color: #00af00\">5</span>, <span style=\"color: #00af00; text-decoration-color: #00af00\">64</span>)     │          <span style=\"color: #00af00; text-decoration-color: #00af00\">0</span> │ bidirectional_2[<span style=\"color: #00af00; text-decoration-color: #00af00\">…</span> │\n",
              "├─────────────────────┼───────────────────┼────────────┼───────────────────┤\n",
              "│ bidirectional_3     │ (<span style=\"color: #00d7ff; text-decoration-color: #00d7ff\">None</span>, <span style=\"color: #00af00; text-decoration-color: #00af00\">64</span>)        │     <span style=\"color: #00af00; text-decoration-color: #00af00\">24,832</span> │ dropout_2[<span style=\"color: #00af00; text-decoration-color: #00af00\">0</span>][<span style=\"color: #00af00; text-decoration-color: #00af00\">0</span>],  │\n",
              "│ (<span style=\"color: #0087ff; text-decoration-color: #0087ff\">Bidirectional</span>)     │                   │            │ any_1[<span style=\"color: #00af00; text-decoration-color: #00af00\">0</span>][<span style=\"color: #00af00; text-decoration-color: #00af00\">0</span>]       │\n",
              "├─────────────────────┼───────────────────┼────────────┼───────────────────┤\n",
              "│ dropout_3 (<span style=\"color: #0087ff; text-decoration-color: #0087ff\">Dropout</span>) │ (<span style=\"color: #00d7ff; text-decoration-color: #00d7ff\">None</span>, <span style=\"color: #00af00; text-decoration-color: #00af00\">64</span>)        │          <span style=\"color: #00af00; text-decoration-color: #00af00\">0</span> │ bidirectional_3[<span style=\"color: #00af00; text-decoration-color: #00af00\">…</span> │\n",
              "├─────────────────────┼───────────────────┼────────────┼───────────────────┤\n",
              "│ dense_1 (<span style=\"color: #0087ff; text-decoration-color: #0087ff\">Dense</span>)     │ (<span style=\"color: #00d7ff; text-decoration-color: #00d7ff\">None</span>, <span style=\"color: #00af00; text-decoration-color: #00af00\">9</span>)         │        <span style=\"color: #00af00; text-decoration-color: #00af00\">585</span> │ dropout_3[<span style=\"color: #00af00; text-decoration-color: #00af00\">0</span>][<span style=\"color: #00af00; text-decoration-color: #00af00\">0</span>]   │\n",
              "├─────────────────────┼───────────────────┼────────────┼───────────────────┤\n",
              "│ reshape_1 (<span style=\"color: #0087ff; text-decoration-color: #0087ff\">Reshape</span>) │ (<span style=\"color: #00d7ff; text-decoration-color: #00d7ff\">None</span>, <span style=\"color: #00af00; text-decoration-color: #00af00\">3</span>, <span style=\"color: #00af00; text-decoration-color: #00af00\">3</span>)      │          <span style=\"color: #00af00; text-decoration-color: #00af00\">0</span> │ dense_1[<span style=\"color: #00af00; text-decoration-color: #00af00\">0</span>][<span style=\"color: #00af00; text-decoration-color: #00af00\">0</span>]     │\n",
              "└─────────────────────┴───────────────────┴────────────┴───────────────────┘\n",
              "</pre>\n"
            ]
          },
          "metadata": {}
        },
        {
          "output_type": "display_data",
          "data": {
            "text/plain": [
              "\u001b[1m Total params: \u001b[0m\u001b[38;5;34m41,801\u001b[0m (163.29 KB)\n"
            ],
            "text/html": [
              "<pre style=\"white-space:pre;overflow-x:auto;line-height:normal;font-family:Menlo,'DejaVu Sans Mono',consolas,'Courier New',monospace\"><span style=\"font-weight: bold\"> Total params: </span><span style=\"color: #00af00; text-decoration-color: #00af00\">41,801</span> (163.29 KB)\n",
              "</pre>\n"
            ]
          },
          "metadata": {}
        },
        {
          "output_type": "display_data",
          "data": {
            "text/plain": [
              "\u001b[1m Trainable params: \u001b[0m\u001b[38;5;34m41,801\u001b[0m (163.29 KB)\n"
            ],
            "text/html": [
              "<pre style=\"white-space:pre;overflow-x:auto;line-height:normal;font-family:Menlo,'DejaVu Sans Mono',consolas,'Courier New',monospace\"><span style=\"font-weight: bold\"> Trainable params: </span><span style=\"color: #00af00; text-decoration-color: #00af00\">41,801</span> (163.29 KB)\n",
              "</pre>\n"
            ]
          },
          "metadata": {}
        },
        {
          "output_type": "display_data",
          "data": {
            "text/plain": [
              "\u001b[1m Non-trainable params: \u001b[0m\u001b[38;5;34m0\u001b[0m (0.00 B)\n"
            ],
            "text/html": [
              "<pre style=\"white-space:pre;overflow-x:auto;line-height:normal;font-family:Menlo,'DejaVu Sans Mono',consolas,'Courier New',monospace\"><span style=\"font-weight: bold\"> Non-trainable params: </span><span style=\"color: #00af00; text-decoration-color: #00af00\">0</span> (0.00 B)\n",
              "</pre>\n"
            ]
          },
          "metadata": {}
        }
      ]
    },
    {
      "cell_type": "code",
      "source": [
        "# Callbacks\n",
        "from tensorflow.keras.callbacks import EarlyStopping, ModelCheckpoint\n",
        "\n",
        "# Save the best model (based on lowest validation loss)\n",
        "checkpoint_cb = ModelCheckpoint(\n",
        "    \"best_model.keras\",       # file to save the best model\n",
        "    monitor=\"val_masked_mae\",       # monitor validation loss\n",
        "    save_best_only=True,      # only save the model when val_loss improves\n",
        "    save_weights_only=False,  # save the entire model (not just weights)\n",
        "    verbose=1                 # print a message when a new best model is saved\n",
        ")\n"
      ],
      "metadata": {
        "id": "A5dlxwqOMs2r"
      },
      "execution_count": null,
      "outputs": []
    },
    {
      "cell_type": "code",
      "source": [
        "# Training\n",
        "history = model.fit(\n",
        "    X_seq_train_padded, y_seq_train,\n",
        "    validation_data=(X_seq_val_padded, y_seq_val),\n",
        "    epochs=50,\n",
        "    batch_size=32,\n",
        "    callbacks=[checkpoint_cb],\n",
        "    verbose=1\n",
        ")"
      ],
      "metadata": {
        "colab": {
          "base_uri": "https://localhost:8080/"
        },
        "id": "_2byF5B4NHKr",
        "outputId": "4e690e27-6ef6-4559-ee7f-cf633ee01ed4"
      },
      "execution_count": null,
      "outputs": [
        {
          "output_type": "stream",
          "name": "stdout",
          "text": [
            "Epoch 1/50\n",
            "\u001b[1m33/33\u001b[0m \u001b[32m━━━━━━━━━━━━━━━━━━━━\u001b[0m\u001b[37m\u001b[0m \u001b[1m0s\u001b[0m 39ms/step - loss: 0.1026 - masked_mae: 0.2865\n",
            "Epoch 1: val_masked_mae improved from inf to 0.15097, saving model to best_model.keras\n",
            "\u001b[1m33/33\u001b[0m \u001b[32m━━━━━━━━━━━━━━━━━━━━\u001b[0m\u001b[37m\u001b[0m \u001b[1m17s\u001b[0m 123ms/step - loss: 0.1019 - masked_mae: 0.2851 - val_loss: 0.0404 - val_masked_mae: 0.1510\n",
            "Epoch 2/50\n",
            "\u001b[1m33/33\u001b[0m \u001b[32m━━━━━━━━━━━━━━━━━━━━\u001b[0m\u001b[37m\u001b[0m \u001b[1m0s\u001b[0m 14ms/step - loss: 0.0321 - masked_mae: 0.1332\n",
            "Epoch 2: val_masked_mae improved from 0.15097 to 0.13210, saving model to best_model.keras\n",
            "\u001b[1m33/33\u001b[0m \u001b[32m━━━━━━━━━━━━━━━━━━━━\u001b[0m\u001b[37m\u001b[0m \u001b[1m2s\u001b[0m 18ms/step - loss: 0.0321 - masked_mae: 0.1331 - val_loss: 0.0336 - val_masked_mae: 0.1321\n",
            "Epoch 3/50\n",
            "\u001b[1m31/33\u001b[0m \u001b[32m━━━━━━━━━━━━━━━━━━\u001b[0m\u001b[37m━━\u001b[0m \u001b[1m0s\u001b[0m 15ms/step - loss: 0.0282 - masked_mae: 0.1246\n",
            "Epoch 3: val_masked_mae improved from 0.13210 to 0.11902, saving model to best_model.keras\n",
            "\u001b[1m33/33\u001b[0m \u001b[32m━━━━━━━━━━━━━━━━━━━━\u001b[0m\u001b[37m\u001b[0m \u001b[1m1s\u001b[0m 20ms/step - loss: 0.0282 - masked_mae: 0.1246 - val_loss: 0.0280 - val_masked_mae: 0.1190\n",
            "Epoch 4/50\n",
            "\u001b[1m32/33\u001b[0m \u001b[32m━━━━━━━━━━━━━━━━━━━\u001b[0m\u001b[37m━\u001b[0m \u001b[1m0s\u001b[0m 15ms/step - loss: 0.0224 - masked_mae: 0.1097\n",
            "Epoch 4: val_masked_mae improved from 0.11902 to 0.09436, saving model to best_model.keras\n",
            "\u001b[1m33/33\u001b[0m \u001b[32m━━━━━━━━━━━━━━━━━━━━\u001b[0m\u001b[37m\u001b[0m \u001b[1m1s\u001b[0m 19ms/step - loss: 0.0224 - masked_mae: 0.1097 - val_loss: 0.0209 - val_masked_mae: 0.0944\n",
            "Epoch 5/50\n",
            "\u001b[1m32/33\u001b[0m \u001b[32m━━━━━━━━━━━━━━━━━━━\u001b[0m\u001b[37m━\u001b[0m \u001b[1m0s\u001b[0m 14ms/step - loss: 0.0179 - masked_mae: 0.0944\n",
            "Epoch 5: val_masked_mae improved from 0.09436 to 0.08154, saving model to best_model.keras\n",
            "\u001b[1m33/33\u001b[0m \u001b[32m━━━━━━━━━━━━━━━━━━━━\u001b[0m\u001b[37m\u001b[0m \u001b[1m1s\u001b[0m 19ms/step - loss: 0.0179 - masked_mae: 0.0943 - val_loss: 0.0152 - val_masked_mae: 0.0815\n",
            "Epoch 6/50\n",
            "\u001b[1m33/33\u001b[0m \u001b[32m━━━━━━━━━━━━━━━━━━━━\u001b[0m\u001b[37m\u001b[0m \u001b[1m0s\u001b[0m 13ms/step - loss: 0.0146 - masked_mae: 0.0865\n",
            "Epoch 6: val_masked_mae improved from 0.08154 to 0.07712, saving model to best_model.keras\n",
            "\u001b[1m33/33\u001b[0m \u001b[32m━━━━━━━━━━━━━━━━━━━━\u001b[0m\u001b[37m\u001b[0m \u001b[1m1s\u001b[0m 19ms/step - loss: 0.0146 - masked_mae: 0.0865 - val_loss: 0.0143 - val_masked_mae: 0.0771\n",
            "Epoch 7/50\n",
            "\u001b[1m33/33\u001b[0m \u001b[32m━━━━━━━━━━━━━━━━━━━━\u001b[0m\u001b[37m\u001b[0m \u001b[1m0s\u001b[0m 14ms/step - loss: 0.0132 - masked_mae: 0.0818\n",
            "Epoch 7: val_masked_mae improved from 0.07712 to 0.07605, saving model to best_model.keras\n",
            "\u001b[1m33/33\u001b[0m \u001b[32m━━━━━━━━━━━━━━━━━━━━\u001b[0m\u001b[37m\u001b[0m \u001b[1m1s\u001b[0m 18ms/step - loss: 0.0133 - masked_mae: 0.0818 - val_loss: 0.0132 - val_masked_mae: 0.0761\n",
            "Epoch 8/50\n",
            "\u001b[1m31/33\u001b[0m \u001b[32m━━━━━━━━━━━━━━━━━━\u001b[0m\u001b[37m━━\u001b[0m \u001b[1m0s\u001b[0m 14ms/step - loss: 0.0136 - masked_mae: 0.0831\n",
            "Epoch 8: val_masked_mae improved from 0.07605 to 0.07304, saving model to best_model.keras\n",
            "\u001b[1m33/33\u001b[0m \u001b[32m━━━━━━━━━━━━━━━━━━━━\u001b[0m\u001b[37m\u001b[0m \u001b[1m1s\u001b[0m 19ms/step - loss: 0.0136 - masked_mae: 0.0830 - val_loss: 0.0128 - val_masked_mae: 0.0730\n",
            "Epoch 9/50\n",
            "\u001b[1m33/33\u001b[0m \u001b[32m━━━━━━━━━━━━━━━━━━━━\u001b[0m\u001b[37m\u001b[0m \u001b[1m0s\u001b[0m 14ms/step - loss: 0.0142 - masked_mae: 0.0825\n",
            "Epoch 9: val_masked_mae improved from 0.07304 to 0.07141, saving model to best_model.keras\n",
            "\u001b[1m33/33\u001b[0m \u001b[32m━━━━━━━━━━━━━━━━━━━━\u001b[0m\u001b[37m\u001b[0m \u001b[1m1s\u001b[0m 19ms/step - loss: 0.0142 - masked_mae: 0.0824 - val_loss: 0.0128 - val_masked_mae: 0.0714\n",
            "Epoch 10/50\n",
            "\u001b[1m33/33\u001b[0m \u001b[32m━━━━━━━━━━━━━━━━━━━━\u001b[0m\u001b[37m\u001b[0m \u001b[1m0s\u001b[0m 14ms/step - loss: 0.0110 - masked_mae: 0.0735\n",
            "Epoch 10: val_masked_mae did not improve from 0.07141\n",
            "\u001b[1m33/33\u001b[0m \u001b[32m━━━━━━━━━━━━━━━━━━━━\u001b[0m\u001b[37m\u001b[0m \u001b[1m1s\u001b[0m 18ms/step - loss: 0.0110 - masked_mae: 0.0736 - val_loss: 0.0127 - val_masked_mae: 0.0714\n",
            "Epoch 11/50\n",
            "\u001b[1m32/33\u001b[0m \u001b[32m━━━━━━━━━━━━━━━━━━━\u001b[0m\u001b[37m━\u001b[0m \u001b[1m0s\u001b[0m 24ms/step - loss: 0.0116 - masked_mae: 0.0746\n",
            "Epoch 11: val_masked_mae improved from 0.07141 to 0.07079, saving model to best_model.keras\n",
            "\u001b[1m33/33\u001b[0m \u001b[32m━━━━━━━━━━━━━━━━━━━━\u001b[0m\u001b[37m\u001b[0m \u001b[1m1s\u001b[0m 33ms/step - loss: 0.0116 - masked_mae: 0.0746 - val_loss: 0.0131 - val_masked_mae: 0.0708\n",
            "Epoch 12/50\n",
            "\u001b[1m33/33\u001b[0m \u001b[32m━━━━━━━━━━━━━━━━━━━━\u001b[0m\u001b[37m\u001b[0m \u001b[1m0s\u001b[0m 25ms/step - loss: 0.0119 - masked_mae: 0.0749\n",
            "Epoch 12: val_masked_mae improved from 0.07079 to 0.06980, saving model to best_model.keras\n",
            "\u001b[1m33/33\u001b[0m \u001b[32m━━━━━━━━━━━━━━━━━━━━\u001b[0m\u001b[37m\u001b[0m \u001b[1m1s\u001b[0m 35ms/step - loss: 0.0119 - masked_mae: 0.0749 - val_loss: 0.0122 - val_masked_mae: 0.0698\n",
            "Epoch 13/50\n",
            "\u001b[1m31/33\u001b[0m \u001b[32m━━━━━━━━━━━━━━━━━━\u001b[0m\u001b[37m━━\u001b[0m \u001b[1m0s\u001b[0m 16ms/step - loss: 0.0126 - masked_mae: 0.0773\n",
            "Epoch 13: val_masked_mae did not improve from 0.06980\n",
            "\u001b[1m33/33\u001b[0m \u001b[32m━━━━━━━━━━━━━━━━━━━━\u001b[0m\u001b[37m\u001b[0m \u001b[1m1s\u001b[0m 19ms/step - loss: 0.0126 - masked_mae: 0.0770 - val_loss: 0.0129 - val_masked_mae: 0.0710\n",
            "Epoch 14/50\n",
            "\u001b[1m33/33\u001b[0m \u001b[32m━━━━━━━━━━━━━━━━━━━━\u001b[0m\u001b[37m\u001b[0m \u001b[1m0s\u001b[0m 14ms/step - loss: 0.0116 - masked_mae: 0.0749\n",
            "Epoch 14: val_masked_mae did not improve from 0.06980\n",
            "\u001b[1m33/33\u001b[0m \u001b[32m━━━━━━━━━━━━━━━━━━━━\u001b[0m\u001b[37m\u001b[0m \u001b[1m1s\u001b[0m 17ms/step - loss: 0.0116 - masked_mae: 0.0749 - val_loss: 0.0132 - val_masked_mae: 0.0705\n",
            "Epoch 15/50\n",
            "\u001b[1m33/33\u001b[0m \u001b[32m━━━━━━━━━━━━━━━━━━━━\u001b[0m\u001b[37m\u001b[0m \u001b[1m0s\u001b[0m 14ms/step - loss: 0.0112 - masked_mae: 0.0726\n",
            "Epoch 15: val_masked_mae improved from 0.06980 to 0.06891, saving model to best_model.keras\n",
            "\u001b[1m33/33\u001b[0m \u001b[32m━━━━━━━━━━━━━━━━━━━━\u001b[0m\u001b[37m\u001b[0m \u001b[1m1s\u001b[0m 19ms/step - loss: 0.0112 - masked_mae: 0.0726 - val_loss: 0.0117 - val_masked_mae: 0.0689\n",
            "Epoch 16/50\n",
            "\u001b[1m32/33\u001b[0m \u001b[32m━━━━━━━━━━━━━━━━━━━\u001b[0m\u001b[37m━\u001b[0m \u001b[1m0s\u001b[0m 15ms/step - loss: 0.0104 - masked_mae: 0.0698\n",
            "Epoch 16: val_masked_mae improved from 0.06891 to 0.06840, saving model to best_model.keras\n",
            "\u001b[1m33/33\u001b[0m \u001b[32m━━━━━━━━━━━━━━━━━━━━\u001b[0m\u001b[37m\u001b[0m \u001b[1m1s\u001b[0m 19ms/step - loss: 0.0104 - masked_mae: 0.0699 - val_loss: 0.0123 - val_masked_mae: 0.0684\n",
            "Epoch 17/50\n",
            "\u001b[1m33/33\u001b[0m \u001b[32m━━━━━━━━━━━━━━━━━━━━\u001b[0m\u001b[37m\u001b[0m \u001b[1m0s\u001b[0m 14ms/step - loss: 0.0098 - masked_mae: 0.0682\n",
            "Epoch 17: val_masked_mae improved from 0.06840 to 0.06793, saving model to best_model.keras\n",
            "\u001b[1m33/33\u001b[0m \u001b[32m━━━━━━━━━━━━━━━━━━━━\u001b[0m\u001b[37m\u001b[0m \u001b[1m1s\u001b[0m 19ms/step - loss: 0.0098 - masked_mae: 0.0682 - val_loss: 0.0114 - val_masked_mae: 0.0679\n",
            "Epoch 18/50\n",
            "\u001b[1m33/33\u001b[0m \u001b[32m━━━━━━━━━━━━━━━━━━━━\u001b[0m\u001b[37m\u001b[0m \u001b[1m0s\u001b[0m 14ms/step - loss: 0.0105 - masked_mae: 0.0713\n",
            "Epoch 18: val_masked_mae improved from 0.06793 to 0.06676, saving model to best_model.keras\n",
            "\u001b[1m33/33\u001b[0m \u001b[32m━━━━━━━━━━━━━━━━━━━━\u001b[0m\u001b[37m\u001b[0m \u001b[1m1s\u001b[0m 19ms/step - loss: 0.0105 - masked_mae: 0.0713 - val_loss: 0.0113 - val_masked_mae: 0.0668\n",
            "Epoch 19/50\n",
            "\u001b[1m32/33\u001b[0m \u001b[32m━━━━━━━━━━━━━━━━━━━\u001b[0m\u001b[37m━\u001b[0m \u001b[1m0s\u001b[0m 15ms/step - loss: 0.0108 - masked_mae: 0.0712\n",
            "Epoch 19: val_masked_mae did not improve from 0.06676\n",
            "\u001b[1m33/33\u001b[0m \u001b[32m━━━━━━━━━━━━━━━━━━━━\u001b[0m\u001b[37m\u001b[0m \u001b[1m1s\u001b[0m 18ms/step - loss: 0.0107 - masked_mae: 0.0711 - val_loss: 0.0114 - val_masked_mae: 0.0671\n",
            "Epoch 20/50\n",
            "\u001b[1m32/33\u001b[0m \u001b[32m━━━━━━━━━━━━━━━━━━━\u001b[0m\u001b[37m━\u001b[0m \u001b[1m0s\u001b[0m 14ms/step - loss: 0.0105 - masked_mae: 0.0708\n",
            "Epoch 20: val_masked_mae improved from 0.06676 to 0.06630, saving model to best_model.keras\n",
            "\u001b[1m33/33\u001b[0m \u001b[32m━━━━━━━━━━━━━━━━━━━━\u001b[0m\u001b[37m\u001b[0m \u001b[1m1s\u001b[0m 20ms/step - loss: 0.0104 - masked_mae: 0.0706 - val_loss: 0.0113 - val_masked_mae: 0.0663\n",
            "Epoch 21/50\n",
            "\u001b[1m33/33\u001b[0m \u001b[32m━━━━━━━━━━━━━━━━━━━━\u001b[0m\u001b[37m\u001b[0m \u001b[1m0s\u001b[0m 14ms/step - loss: 0.0098 - masked_mae: 0.0673\n",
            "Epoch 21: val_masked_mae did not improve from 0.06630\n",
            "\u001b[1m33/33\u001b[0m \u001b[32m━━━━━━━━━━━━━━━━━━━━\u001b[0m\u001b[37m\u001b[0m \u001b[1m1s\u001b[0m 18ms/step - loss: 0.0098 - masked_mae: 0.0674 - val_loss: 0.0112 - val_masked_mae: 0.0666\n",
            "Epoch 22/50\n",
            "\u001b[1m32/33\u001b[0m \u001b[32m━━━━━━━━━━━━━━━━━━━\u001b[0m\u001b[37m━\u001b[0m \u001b[1m0s\u001b[0m 15ms/step - loss: 0.0102 - masked_mae: 0.0700\n",
            "Epoch 22: val_masked_mae did not improve from 0.06630\n",
            "\u001b[1m33/33\u001b[0m \u001b[32m━━━━━━━━━━━━━━━━━━━━\u001b[0m\u001b[37m\u001b[0m \u001b[1m1s\u001b[0m 18ms/step - loss: 0.0102 - masked_mae: 0.0698 - val_loss: 0.0112 - val_masked_mae: 0.0663\n",
            "Epoch 23/50\n",
            "\u001b[1m33/33\u001b[0m \u001b[32m━━━━━━━━━━━━━━━━━━━━\u001b[0m\u001b[37m\u001b[0m \u001b[1m0s\u001b[0m 14ms/step - loss: 0.0100 - masked_mae: 0.0673\n",
            "Epoch 23: val_masked_mae did not improve from 0.06630\n",
            "\u001b[1m33/33\u001b[0m \u001b[32m━━━━━━━━━━━━━━━━━━━━\u001b[0m\u001b[37m\u001b[0m \u001b[1m1s\u001b[0m 17ms/step - loss: 0.0100 - masked_mae: 0.0672 - val_loss: 0.0112 - val_masked_mae: 0.0669\n",
            "Epoch 24/50\n",
            "\u001b[1m33/33\u001b[0m \u001b[32m━━━━━━━━━━━━━━━━━━━━\u001b[0m\u001b[37m\u001b[0m \u001b[1m0s\u001b[0m 14ms/step - loss: 0.0098 - masked_mae: 0.0675\n",
            "Epoch 24: val_masked_mae improved from 0.06630 to 0.06597, saving model to best_model.keras\n",
            "\u001b[1m33/33\u001b[0m \u001b[32m━━━━━━━━━━━━━━━━━━━━\u001b[0m\u001b[37m\u001b[0m \u001b[1m1s\u001b[0m 19ms/step - loss: 0.0098 - masked_mae: 0.0675 - val_loss: 0.0110 - val_masked_mae: 0.0660\n",
            "Epoch 25/50\n",
            "\u001b[1m31/33\u001b[0m \u001b[32m━━━━━━━━━━━━━━━━━━\u001b[0m\u001b[37m━━\u001b[0m \u001b[1m0s\u001b[0m 24ms/step - loss: 0.0091 - masked_mae: 0.0661\n",
            "Epoch 25: val_masked_mae improved from 0.06597 to 0.06556, saving model to best_model.keras\n",
            "\u001b[1m33/33\u001b[0m \u001b[32m━━━━━━━━━━━━━━━━━━━━\u001b[0m\u001b[37m\u001b[0m \u001b[1m2s\u001b[0m 31ms/step - loss: 0.0091 - masked_mae: 0.0661 - val_loss: 0.0112 - val_masked_mae: 0.0656\n",
            "Epoch 26/50\n",
            "\u001b[1m32/33\u001b[0m \u001b[32m━━━━━━━━━━━━━━━━━━━\u001b[0m\u001b[37m━\u001b[0m \u001b[1m0s\u001b[0m 26ms/step - loss: 0.0092 - masked_mae: 0.0659\n",
            "Epoch 26: val_masked_mae did not improve from 0.06556\n",
            "\u001b[1m33/33\u001b[0m \u001b[32m━━━━━━━━━━━━━━━━━━━━\u001b[0m\u001b[37m\u001b[0m \u001b[1m1s\u001b[0m 32ms/step - loss: 0.0091 - masked_mae: 0.0658 - val_loss: 0.0111 - val_masked_mae: 0.0661\n",
            "Epoch 27/50\n",
            "\u001b[1m30/33\u001b[0m \u001b[32m━━━━━━━━━━━━━━━━━━\u001b[0m\u001b[37m━━\u001b[0m \u001b[1m0s\u001b[0m 22ms/step - loss: 0.0088 - masked_mae: 0.0645\n",
            "Epoch 27: val_masked_mae improved from 0.06556 to 0.06483, saving model to best_model.keras\n",
            "\u001b[1m33/33\u001b[0m \u001b[32m━━━━━━━━━━━━━━━━━━━━\u001b[0m\u001b[37m\u001b[0m \u001b[1m1s\u001b[0m 26ms/step - loss: 0.0088 - masked_mae: 0.0645 - val_loss: 0.0112 - val_masked_mae: 0.0648\n",
            "Epoch 28/50\n",
            "\u001b[1m33/33\u001b[0m \u001b[32m━━━━━━━━━━━━━━━━━━━━\u001b[0m\u001b[37m\u001b[0m \u001b[1m0s\u001b[0m 14ms/step - loss: 0.0084 - masked_mae: 0.0628\n",
            "Epoch 28: val_masked_mae improved from 0.06483 to 0.06457, saving model to best_model.keras\n",
            "\u001b[1m33/33\u001b[0m \u001b[32m━━━━━━━━━━━━━━━━━━━━\u001b[0m\u001b[37m\u001b[0m \u001b[1m1s\u001b[0m 19ms/step - loss: 0.0084 - masked_mae: 0.0629 - val_loss: 0.0114 - val_masked_mae: 0.0646\n",
            "Epoch 29/50\n",
            "\u001b[1m33/33\u001b[0m \u001b[32m━━━━━━━━━━━━━━━━━━━━\u001b[0m\u001b[37m\u001b[0m \u001b[1m0s\u001b[0m 14ms/step - loss: 0.0090 - masked_mae: 0.0637\n",
            "Epoch 29: val_masked_mae did not improve from 0.06457\n",
            "\u001b[1m33/33\u001b[0m \u001b[32m━━━━━━━━━━━━━━━━━━━━\u001b[0m\u001b[37m\u001b[0m \u001b[1m1s\u001b[0m 17ms/step - loss: 0.0090 - masked_mae: 0.0637 - val_loss: 0.0114 - val_masked_mae: 0.0648\n",
            "Epoch 30/50\n",
            "\u001b[1m33/33\u001b[0m \u001b[32m━━━━━━━━━━━━━━━━━━━━\u001b[0m\u001b[37m\u001b[0m \u001b[1m0s\u001b[0m 13ms/step - loss: 0.0086 - masked_mae: 0.0635\n",
            "Epoch 30: val_masked_mae did not improve from 0.06457\n",
            "\u001b[1m33/33\u001b[0m \u001b[32m━━━━━━━━━━━━━━━━━━━━\u001b[0m\u001b[37m\u001b[0m \u001b[1m1s\u001b[0m 16ms/step - loss: 0.0086 - masked_mae: 0.0635 - val_loss: 0.0116 - val_masked_mae: 0.0654\n",
            "Epoch 31/50\n",
            "\u001b[1m33/33\u001b[0m \u001b[32m━━━━━━━━━━━━━━━━━━━━\u001b[0m\u001b[37m\u001b[0m \u001b[1m0s\u001b[0m 14ms/step - loss: 0.0089 - masked_mae: 0.0637\n",
            "Epoch 31: val_masked_mae did not improve from 0.06457\n",
            "\u001b[1m33/33\u001b[0m \u001b[32m━━━━━━━━━━━━━━━━━━━━\u001b[0m\u001b[37m\u001b[0m \u001b[1m1s\u001b[0m 17ms/step - loss: 0.0089 - masked_mae: 0.0637 - val_loss: 0.0111 - val_masked_mae: 0.0647\n",
            "Epoch 32/50\n",
            "\u001b[1m32/33\u001b[0m \u001b[32m━━━━━━━━━━━━━━━━━━━\u001b[0m\u001b[37m━\u001b[0m \u001b[1m0s\u001b[0m 14ms/step - loss: 0.0085 - masked_mae: 0.0627\n",
            "Epoch 32: val_masked_mae did not improve from 0.06457\n",
            "\u001b[1m33/33\u001b[0m \u001b[32m━━━━━━━━━━━━━━━━━━━━\u001b[0m\u001b[37m\u001b[0m \u001b[1m1s\u001b[0m 17ms/step - loss: 0.0085 - masked_mae: 0.0627 - val_loss: 0.0113 - val_masked_mae: 0.0651\n",
            "Epoch 33/50\n",
            "\u001b[1m33/33\u001b[0m \u001b[32m━━━━━━━━━━━━━━━━━━━━\u001b[0m\u001b[37m\u001b[0m \u001b[1m0s\u001b[0m 14ms/step - loss: 0.0081 - masked_mae: 0.0622\n",
            "Epoch 33: val_masked_mae improved from 0.06457 to 0.06361, saving model to best_model.keras\n",
            "\u001b[1m33/33\u001b[0m \u001b[32m━━━━━━━━━━━━━━━━━━━━\u001b[0m\u001b[37m\u001b[0m \u001b[1m1s\u001b[0m 19ms/step - loss: 0.0082 - masked_mae: 0.0623 - val_loss: 0.0110 - val_masked_mae: 0.0636\n",
            "Epoch 34/50\n",
            "\u001b[1m33/33\u001b[0m \u001b[32m━━━━━━━━━━━━━━━━━━━━\u001b[0m\u001b[37m\u001b[0m \u001b[1m0s\u001b[0m 14ms/step - loss: 0.0086 - masked_mae: 0.0632\n",
            "Epoch 34: val_masked_mae did not improve from 0.06361\n",
            "\u001b[1m33/33\u001b[0m \u001b[32m━━━━━━━━━━━━━━━━━━━━\u001b[0m\u001b[37m\u001b[0m \u001b[1m1s\u001b[0m 17ms/step - loss: 0.0086 - masked_mae: 0.0632 - val_loss: 0.0112 - val_masked_mae: 0.0653\n",
            "Epoch 35/50\n",
            "\u001b[1m31/33\u001b[0m \u001b[32m━━━━━━━━━━━━━━━━━━\u001b[0m\u001b[37m━━\u001b[0m \u001b[1m0s\u001b[0m 14ms/step - loss: 0.0083 - masked_mae: 0.0625\n",
            "Epoch 35: val_masked_mae did not improve from 0.06361\n",
            "\u001b[1m33/33\u001b[0m \u001b[32m━━━━━━━━━━━━━━━━━━━━\u001b[0m\u001b[37m\u001b[0m \u001b[1m1s\u001b[0m 17ms/step - loss: 0.0083 - masked_mae: 0.0624 - val_loss: 0.0111 - val_masked_mae: 0.0643\n",
            "Epoch 36/50\n",
            "\u001b[1m33/33\u001b[0m \u001b[32m━━━━━━━━━━━━━━━━━━━━\u001b[0m\u001b[37m\u001b[0m \u001b[1m0s\u001b[0m 14ms/step - loss: 0.0081 - masked_mae: 0.0615\n",
            "Epoch 36: val_masked_mae did not improve from 0.06361\n",
            "\u001b[1m33/33\u001b[0m \u001b[32m━━━━━━━━━━━━━━━━━━━━\u001b[0m\u001b[37m\u001b[0m \u001b[1m1s\u001b[0m 17ms/step - loss: 0.0081 - masked_mae: 0.0615 - val_loss: 0.0114 - val_masked_mae: 0.0648\n",
            "Epoch 37/50\n",
            "\u001b[1m33/33\u001b[0m \u001b[32m━━━━━━━━━━━━━━━━━━━━\u001b[0m\u001b[37m\u001b[0m \u001b[1m0s\u001b[0m 14ms/step - loss: 0.0082 - masked_mae: 0.0623\n",
            "Epoch 37: val_masked_mae did not improve from 0.06361\n",
            "\u001b[1m33/33\u001b[0m \u001b[32m━━━━━━━━━━━━━━━━━━━━\u001b[0m\u001b[37m\u001b[0m \u001b[1m1s\u001b[0m 17ms/step - loss: 0.0082 - masked_mae: 0.0623 - val_loss: 0.0110 - val_masked_mae: 0.0648\n",
            "Epoch 38/50\n",
            "\u001b[1m30/33\u001b[0m \u001b[32m━━━━━━━━━━━━━━━━━━\u001b[0m\u001b[37m━━\u001b[0m \u001b[1m0s\u001b[0m 16ms/step - loss: 0.0081 - masked_mae: 0.0606\n",
            "Epoch 38: val_masked_mae did not improve from 0.06361\n",
            "\u001b[1m33/33\u001b[0m \u001b[32m━━━━━━━━━━━━━━━━━━━━\u001b[0m\u001b[37m\u001b[0m \u001b[1m1s\u001b[0m 19ms/step - loss: 0.0081 - masked_mae: 0.0606 - val_loss: 0.0111 - val_masked_mae: 0.0640\n",
            "Epoch 39/50\n",
            "\u001b[1m33/33\u001b[0m \u001b[32m━━━━━━━━━━━━━━━━━━━━\u001b[0m\u001b[37m\u001b[0m \u001b[1m0s\u001b[0m 14ms/step - loss: 0.0079 - masked_mae: 0.0596\n",
            "Epoch 39: val_masked_mae did not improve from 0.06361\n",
            "\u001b[1m33/33\u001b[0m \u001b[32m━━━━━━━━━━━━━━━━━━━━\u001b[0m\u001b[37m\u001b[0m \u001b[1m1s\u001b[0m 17ms/step - loss: 0.0078 - masked_mae: 0.0596 - val_loss: 0.0112 - val_masked_mae: 0.0656\n",
            "Epoch 40/50\n",
            "\u001b[1m32/33\u001b[0m \u001b[32m━━━━━━━━━━━━━━━━━━━\u001b[0m\u001b[37m━\u001b[0m \u001b[1m0s\u001b[0m 15ms/step - loss: 0.0078 - masked_mae: 0.0606\n",
            "Epoch 40: val_masked_mae did not improve from 0.06361\n",
            "\u001b[1m33/33\u001b[0m \u001b[32m━━━━━━━━━━━━━━━━━━━━\u001b[0m\u001b[37m\u001b[0m \u001b[1m1s\u001b[0m 18ms/step - loss: 0.0078 - masked_mae: 0.0606 - val_loss: 0.0114 - val_masked_mae: 0.0645\n",
            "Epoch 41/50\n",
            "\u001b[1m31/33\u001b[0m \u001b[32m━━━━━━━━━━━━━━━━━━\u001b[0m\u001b[37m━━\u001b[0m \u001b[1m0s\u001b[0m 26ms/step - loss: 0.0085 - masked_mae: 0.0615\n",
            "Epoch 41: val_masked_mae did not improve from 0.06361\n",
            "\u001b[1m33/33\u001b[0m \u001b[32m━━━━━━━━━━━━━━━━━━━━\u001b[0m\u001b[37m\u001b[0m \u001b[1m1s\u001b[0m 29ms/step - loss: 0.0084 - masked_mae: 0.0613 - val_loss: 0.0116 - val_masked_mae: 0.0653\n",
            "Epoch 42/50\n",
            "\u001b[1m31/33\u001b[0m \u001b[32m━━━━━━━━━━━━━━━━━━\u001b[0m\u001b[37m━━\u001b[0m \u001b[1m0s\u001b[0m 26ms/step - loss: 0.0074 - masked_mae: 0.0597\n",
            "Epoch 42: val_masked_mae did not improve from 0.06361\n",
            "\u001b[1m33/33\u001b[0m \u001b[32m━━━━━━━━━━━━━━━━━━━━\u001b[0m\u001b[37m\u001b[0m \u001b[1m1s\u001b[0m 32ms/step - loss: 0.0074 - masked_mae: 0.0597 - val_loss: 0.0111 - val_masked_mae: 0.0642\n",
            "Epoch 43/50\n",
            "\u001b[1m31/33\u001b[0m \u001b[32m━━━━━━━━━━━━━━━━━━\u001b[0m\u001b[37m━━\u001b[0m \u001b[1m0s\u001b[0m 18ms/step - loss: 0.0075 - masked_mae: 0.0598\n",
            "Epoch 43: val_masked_mae did not improve from 0.06361\n",
            "\u001b[1m33/33\u001b[0m \u001b[32m━━━━━━━━━━━━━━━━━━━━\u001b[0m\u001b[37m\u001b[0m \u001b[1m1s\u001b[0m 21ms/step - loss: 0.0075 - masked_mae: 0.0597 - val_loss: 0.0113 - val_masked_mae: 0.0650\n",
            "Epoch 44/50\n",
            "\u001b[1m32/33\u001b[0m \u001b[32m━━━━━━━━━━━━━━━━━━━\u001b[0m\u001b[37m━\u001b[0m \u001b[1m0s\u001b[0m 15ms/step - loss: 0.0064 - masked_mae: 0.0561\n",
            "Epoch 44: val_masked_mae did not improve from 0.06361\n",
            "\u001b[1m33/33\u001b[0m \u001b[32m━━━━━━━━━━━━━━━━━━━━\u001b[0m\u001b[37m\u001b[0m \u001b[1m1s\u001b[0m 18ms/step - loss: 0.0065 - masked_mae: 0.0563 - val_loss: 0.0116 - val_masked_mae: 0.0648\n",
            "Epoch 45/50\n",
            "\u001b[1m33/33\u001b[0m \u001b[32m━━━━━━━━━━━━━━━━━━━━\u001b[0m\u001b[37m\u001b[0m \u001b[1m0s\u001b[0m 14ms/step - loss: 0.0069 - masked_mae: 0.0569\n",
            "Epoch 45: val_masked_mae did not improve from 0.06361\n",
            "\u001b[1m33/33\u001b[0m \u001b[32m━━━━━━━━━━━━━━━━━━━━\u001b[0m\u001b[37m\u001b[0m \u001b[1m1s\u001b[0m 17ms/step - loss: 0.0069 - masked_mae: 0.0570 - val_loss: 0.0115 - val_masked_mae: 0.0650\n",
            "Epoch 46/50\n",
            "\u001b[1m33/33\u001b[0m \u001b[32m━━━━━━━━━━━━━━━━━━━━\u001b[0m\u001b[37m\u001b[0m \u001b[1m0s\u001b[0m 14ms/step - loss: 0.0074 - masked_mae: 0.0586\n",
            "Epoch 46: val_masked_mae did not improve from 0.06361\n",
            "\u001b[1m33/33\u001b[0m \u001b[32m━━━━━━━━━━━━━━━━━━━━\u001b[0m\u001b[37m\u001b[0m \u001b[1m1s\u001b[0m 17ms/step - loss: 0.0074 - masked_mae: 0.0586 - val_loss: 0.0113 - val_masked_mae: 0.0648\n",
            "Epoch 47/50\n",
            "\u001b[1m32/33\u001b[0m \u001b[32m━━━━━━━━━━━━━━━━━━━\u001b[0m\u001b[37m━\u001b[0m \u001b[1m0s\u001b[0m 15ms/step - loss: 0.0075 - masked_mae: 0.0597\n",
            "Epoch 47: val_masked_mae did not improve from 0.06361\n",
            "\u001b[1m33/33\u001b[0m \u001b[32m━━━━━━━━━━━━━━━━━━━━\u001b[0m\u001b[37m\u001b[0m \u001b[1m1s\u001b[0m 18ms/step - loss: 0.0075 - masked_mae: 0.0596 - val_loss: 0.0112 - val_masked_mae: 0.0641\n",
            "Epoch 48/50\n",
            "\u001b[1m33/33\u001b[0m \u001b[32m━━━━━━━━━━━━━━━━━━━━\u001b[0m\u001b[37m\u001b[0m \u001b[1m0s\u001b[0m 14ms/step - loss: 0.0071 - masked_mae: 0.0579\n",
            "Epoch 48: val_masked_mae did not improve from 0.06361\n",
            "\u001b[1m33/33\u001b[0m \u001b[32m━━━━━━━━━━━━━━━━━━━━\u001b[0m\u001b[37m\u001b[0m \u001b[1m1s\u001b[0m 17ms/step - loss: 0.0071 - masked_mae: 0.0579 - val_loss: 0.0115 - val_masked_mae: 0.0646\n",
            "Epoch 49/50\n",
            "\u001b[1m32/33\u001b[0m \u001b[32m━━━━━━━━━━━━━━━━━━━\u001b[0m\u001b[37m━\u001b[0m \u001b[1m0s\u001b[0m 15ms/step - loss: 0.0070 - masked_mae: 0.0574\n",
            "Epoch 49: val_masked_mae did not improve from 0.06361\n",
            "\u001b[1m33/33\u001b[0m \u001b[32m━━━━━━━━━━━━━━━━━━━━\u001b[0m\u001b[37m\u001b[0m \u001b[1m1s\u001b[0m 18ms/step - loss: 0.0070 - masked_mae: 0.0574 - val_loss: 0.0115 - val_masked_mae: 0.0649\n",
            "Epoch 50/50\n",
            "\u001b[1m33/33\u001b[0m \u001b[32m━━━━━━━━━━━━━━━━━━━━\u001b[0m\u001b[37m\u001b[0m \u001b[1m0s\u001b[0m 14ms/step - loss: 0.0071 - masked_mae: 0.0574\n",
            "Epoch 50: val_masked_mae did not improve from 0.06361\n",
            "\u001b[1m33/33\u001b[0m \u001b[32m━━━━━━━━━━━━━━━━━━━━\u001b[0m\u001b[37m\u001b[0m \u001b[1m1s\u001b[0m 17ms/step - loss: 0.0071 - masked_mae: 0.0574 - val_loss: 0.0114 - val_masked_mae: 0.0663\n"
          ]
        }
      ]
    },
    {
      "cell_type": "code",
      "source": [
        "import matplotlib.pyplot as plt\n",
        "\n",
        "def plot_training_history(history):\n",
        "    plt.figure(figsize=(10, 5))  # create a wide figure for side-by-side plots\n",
        "\n",
        "    # Plot the loss curve\n",
        "    plt.subplot(1, 2, 1)\n",
        "    plt.plot(history.history['loss'], label='Train Loss')\n",
        "    if 'val_loss' in history.history:\n",
        "        plt.plot(history.history['val_loss'], label='Val Loss')\n",
        "    plt.title('Loss over Epochs')\n",
        "    plt.xlabel('Epochs')\n",
        "    plt.ylabel('Loss')\n",
        "    plt.legend()\n",
        "\n",
        "    # Plot the masked MAE curve\n",
        "    plt.subplot(1, 2, 2)\n",
        "    plt.plot(history.history['masked_mae'], label='Train MAE')\n",
        "    if 'val_masked_mae' in history.history:\n",
        "        plt.plot(history.history['val_masked_mae'], label='Val MAE')\n",
        "    plt.title('Masked MAE over Epochs')\n",
        "    plt.xlabel('Epochs')\n",
        "    plt.ylabel('MAE')\n",
        "    plt.legend()\n",
        "\n",
        "    plt.tight_layout()\n",
        "    plt.show()\n",
        "\n",
        "# Call the function after training\n",
        "plot_training_history(history)\n"
      ],
      "metadata": {
        "colab": {
          "base_uri": "https://localhost:8080/",
          "height": 507
        },
        "id": "EJv7PU37_6G-",
        "outputId": "5285f03b-589c-4ac5-bdf2-97db2318a81a"
      },
      "execution_count": null,
      "outputs": [
        {
          "output_type": "display_data",
          "data": {
            "text/plain": [
              "<Figure size 1000x500 with 2 Axes>"
            ],
            "image/png": "[encoded data removed]"
          },
          "metadata": {}
        }
      ]
    },
    {
      "cell_type": "markdown",
      "source": [
        "### 7.4 Model Evaluation\n",
        "\n",
        "We evaluate the best saved model on the test set using our custom masked loss and metric functions.  \n",
        "This ensures that missing targets (NaNs) do not affect the results."
      ],
      "metadata": {
        "id": "gZ2pTpBJ6LUV"
      }
    },
    {
      "cell_type": "code",
      "source": [
        "from tensorflow.keras.models import load_model\n",
        "\n",
        "\n",
        "## Load the best model\n",
        "best_model = load_model(\"best_model.keras\", custom_objects={\n",
        "    \"masked_mse_loss\": masked_mse_loss,\n",
        "    \"masked_mae\": masked_mae\n",
        "})"
      ],
      "metadata": {
        "id": "qzWFhHEXKoyn"
      },
      "execution_count": null,
      "outputs": []
    },
    {
      "cell_type": "code",
      "source": [
        "# Evaluate the best saved model on the test set\n",
        "test_loss, test_mae = best_model.evaluate(X_seq_test_padded, y_seq_test, verbose=1)\n",
        "\n",
        "# Print the results\n",
        "print(f\"Test loss (masked MSE): {test_loss:.4f}\")\n",
        "print(f\"Test MAE (masked):      {test_mae:.4f}\")\n"
      ],
      "metadata": {
        "colab": {
          "base_uri": "https://localhost:8080/"
        },
        "id": "LVKkpqEMKxfX",
        "outputId": "79ca133f-6653-4f76-d022-ffbd2f117b56"
      },
      "execution_count": null,
      "outputs": [
        {
          "output_type": "stream",
          "name": "stdout",
          "text": [
            "\u001b[1m7/7\u001b[0m \u001b[32m━━━━━━━━━━━━━━━━━━━━\u001b[0m\u001b[37m\u001b[0m \u001b[1m2s\u001b[0m 13ms/step - loss: 0.0077 - masked_mae: 0.0583\n",
            "Test loss (masked MSE): 0.0070\n",
            "Test MAE (masked):      0.0567\n"
          ]
        }
      ]
    },
    {
      "cell_type": "markdown",
      "source": [
        "The model was evaluated using masked loss functions.\n",
        "\n",
        "- **Masked Mean Squared Error (MSE)**: `0.0070`\n",
        "- **Masked Mean Absolute Error (MAE)**: `0.0567`\n",
        "\n",
        "Since the target scores were standardized (mean = 0, standard deviation = 1), this result means that the model's predictions have an average error of about **5.7% of one standard deviation** across all targets and time horizons.\n",
        "\n"
      ],
      "metadata": {
        "id": "gb6Gysad3xm9"
      }
    },
    {
      "cell_type": "markdown",
      "source": [
        "To better understand the model’s output, we select one patient from the test set and display the predicted vs. true cognitive scores.\n",
        "\n",
        "The model predicts three scores (`MMSE_TOT`, `ADAS_TOT13`, and `CDR_SOB`) at three future time points: 12, 24, and 36 months.\n",
        "\n",
        "This example helps us qualitatively evaluate the model’s behavior and how well it anticipates patient progression.\n"
      ],
      "metadata": {
        "id": "aFRgcD3a6oxp"
      }
    },
    {
      "cell_type": "code",
      "source": [
        "import numpy as np\n",
        "\n",
        "# Choose a sample from the test set (example at index 22)\n",
        "idx = 22\n",
        "\n",
        "# Input: sequence of past visits (add batch dimension)\n",
        "x_sample = X_seq_test_padded[idx:idx+1]  # shape: (1, seq_len, n_features)\n",
        "y_true = y_seq_test[idx]                 # shape: (n_horizons, n_targets)\n",
        "\n",
        "# Predict future scores using the trained model\n",
        "y_pred = best_model.predict(x_sample)[0]  # remove batch dimension → shape: (n_horizons, n_targets)\n",
        "\n",
        "# Define time horizons and target score names\n",
        "horizons = [12, 24, 36]\n",
        "target_cols = [\"MMSE_TOT\", \"ADAS_TOT13\", \"CDR_SOB\"]\n",
        "\n",
        "# Print predicted vs true values for each horizon and each target\n",
        "for i, h in enumerate(horizons):\n",
        "    print(f\"Horizon {h} months:\")\n",
        "    for j, target in enumerate(target_cols):\n",
        "        val_pred = y_pred[i][j]\n",
        "        val_true = y_true[i][j]\n",
        "        if np.isnan(val_true):\n",
        "            print(f\"  - {target}: prediction = {val_pred:.4f} | true = NaN (missing)\")\n",
        "        else:\n",
        "            print(f\"  - {target}: prediction = {val_pred:.4f} | true = {val_true:.4f}\")\n",
        "    print(\"-\" * 30)\n"
      ],
      "metadata": {
        "colab": {
          "base_uri": "https://localhost:8080/"
        },
        "id": "nZhPdViXKy_C",
        "outputId": "52ef796e-97da-495d-c1f1-314e06a69710"
      },
      "execution_count": null,
      "outputs": [
        {
          "output_type": "stream",
          "name": "stdout",
          "text": [
            "\u001b[1m1/1\u001b[0m \u001b[32m━━━━━━━━━━━━━━━━━━━━\u001b[0m\u001b[37m\u001b[0m \u001b[1m0s\u001b[0m 37ms/step\n",
            "Horizon 12 months:\n",
            "  - MMSE_TOT: prediction = 0.0452 | true = 0.2000\n",
            "  - ADAS_TOT13: prediction = 0.1509 | true = 0.1647\n",
            "  - CDR_SOB: prediction = 0.0507 | true = 0.0556\n",
            "------------------------------\n",
            "Horizon 24 months:\n",
            "  - MMSE_TOT: prediction = 0.0536 | true = 0.1667\n",
            "  - ADAS_TOT13: prediction = 0.1535 | true = 0.2118\n",
            "  - CDR_SOB: prediction = 0.0569 | true = 0.0278\n",
            "------------------------------\n",
            "Horizon 36 months:\n",
            "  - MMSE_TOT: prediction = 0.0629 | true = 0.0667\n",
            "  - ADAS_TOT13: prediction = 0.1678 | true = 0.1726\n",
            "  - CDR_SOB: prediction = 0.0629 | true = 0.0000\n",
            "------------------------------\n"
          ]
        }
      ]
    },
    {
      "cell_type": "markdown",
      "source": [
        "### 7.7 Error Distribution per Target Variable"
      ],
      "metadata": {
        "id": "GujlPFKqqV19"
      }
    },
    {
      "cell_type": "markdown",
      "source": [
        "To better understand how the model performs on each cognitive score, we compute the **absolute error** (MAE) between the true and predicted values on the test set.\n",
        "\n",
        "We only include non-missing targets, and we visualize the results using a boxplot for each target variable (`MMSE_TOT`, `ADAS_TOT13`, and `CDR_SOB`).\n",
        "\n",
        "This helps identify which score is more difficult to predict and whether the model is consistently accurate across all targets.\n"
      ],
      "metadata": {
        "id": "lX1BIU3R7JUA"
      }
    },
    {
      "cell_type": "code",
      "source": [
        "import numpy as np\n",
        "import matplotlib.pyplot as plt\n",
        "import seaborn as sns\n",
        "import pandas as pd\n",
        "\n",
        "# Get predictions from the best model\n",
        "y_pred = best_model.predict(X_seq_test_padded)\n",
        "\n",
        "# Convert true and predicted targets to NumPy arrays\n",
        "y_true_np = np.array(y_seq_test)\n",
        "y_pred_np = np.array(y_pred)\n",
        "\n",
        "# Compute absolute error (MAE) for each prediction\n",
        "# Shape: (n_samples, n_horizons, n_targets)\n",
        "mae_matrix = np.abs(y_true_np - y_pred_np)\n",
        "\n",
        "# Target names (adjust if needed)\n",
        "target_names = [\"MMSE_TOT\", \"ADAS_TOT13\", \"CDR_SOB\"]\n",
        "n_horizons = y_true_np.shape[1]\n",
        "n_targets = y_true_np.shape[2]\n",
        "\n",
        "# Collect valid (non-NaN) errors in a list for plotting\n",
        "data = []\n",
        "\n",
        "for i in range(len(X_seq_test_padded)):        # for each test sample\n",
        "    for h in range(n_horizons):                # for each horizon (e.g., 12, 24, 36 months)\n",
        "        for t in range(n_targets):             # for each target variable\n",
        "            true_val = y_true_np[i, h, t]\n",
        "            pred_val = y_pred_np[i, h, t]\n",
        "            if not np.isnan(true_val):         # only include valid values\n",
        "                data.append({\n",
        "                    \"Target\": target_names[t],\n",
        "                    \"Horizon (months)\": [12, 24, 36][h],\n",
        "                    \"Absolute Error\": abs(true_val - pred_val)\n",
        "                })\n",
        "\n",
        "# Convert to DataFrame for visualization\n",
        "df_errors = pd.DataFrame(data)\n",
        "\n",
        "# Boxplot of absolute error per target\n",
        "plt.figure(figsize=(10, 6))\n",
        "sns.boxplot(data=df_errors, x=\"Target\", y=\"Absolute Error\")\n",
        "plt.title(\"Boxplot of MAE per Target (Test Set)\")\n",
        "plt.grid(True)\n",
        "plt.tight_layout()\n",
        "plt.show()\n"
      ],
      "metadata": {
        "colab": {
          "base_uri": "https://localhost:8080/",
          "height": 624
        },
        "id": "29yNcQdsK_44",
        "outputId": "0d8ca7e4-5f13-4af8-d8d6-8976f898c28a"
      },
      "execution_count": null,
      "outputs": [
        {
          "output_type": "stream",
          "name": "stdout",
          "text": [
            "\u001b[1m7/7\u001b[0m \u001b[32m━━━━━━━━━━━━━━━━━━━━\u001b[0m\u001b[37m\u001b[0m \u001b[1m0s\u001b[0m 20ms/step\n"
          ]
        },
        {
          "output_type": "display_data",
          "data": {
            "text/plain": [
              "<Figure size 1000x600 with 1 Axes>"
            ],
            "image/png": "[encoded data removed]"
          },
          "metadata": {}
        }
      ]
    },
    {
      "cell_type": "markdown",
      "source": [
        "\n",
        "\n",
        "The boxplot above shows the distribution of absolute errors (MAE) for each predicted cognitive score on the test set.\n",
        "\n",
        "- The median error is low and similar across all three targets: `MMSE_TOT`, `ADAS_TOT13`, and `CDR_SOB`.\n",
        "- Most prediction errors fall below 0.1 (in normalized units), indicating consistent and reliable performance.\n",
        "- A few outliers exist with higher errors, but they remain relatively rare.\n",
        "- Overall, the model performs equally well across the three cognitive targets, with stable error distributions.\n"
      ],
      "metadata": {
        "id": "VHg1zFOs7hka"
      }
    },
    {
      "cell_type": "code",
      "source": [],
      "metadata": {
        "id": "gvWluX34L7_S"
      },
      "execution_count": null,
      "outputs": []
    },
    {
      "cell_type": "code",
      "source": [],
      "metadata": {
        "colab": {
          "base_uri": "https://localhost:8080/"
        },
        "id": "iKumz4V8QYcO",
        "outputId": "02f66a6f-04a5-4ae3-9b3d-90cbb5e6c9ba"
      },
      "execution_count": null,
      "outputs": [
        {
          "output_type": "execute_result",
          "data": {
            "text/plain": [
              "(2, 57)"
            ]
          },
          "metadata": {},
          "execution_count": 399
        }
      ]
    },
    {
      "cell_type": "markdown",
      "source": [
        "### 8. Prediction for the Clinician's Patient\n",
        "\n",
        "We used the two visits provided by the clinician to predict the patient's cognitive status in 12, 24, and 36 months.\n",
        "\n",
        "The prediction was made using our trained model based on historical data from many Alzheimer's patients.\n",
        "\n",
        "This gives an estimate of how the patient's condition may change over time and can help support clinical decisions.\n"
      ],
      "metadata": {
        "id": "CMO7tRaX5ONn"
      }
    },
    {
      "cell_type": "markdown",
      "source": [
        "### 8.1 Preparing the Clinician's Patient for Prediction\n",
        "\n",
        "We preprocess the new patient's data (`clinician_patient.csv`) using the **same pipeline** as during training:\n",
        "\n",
        "- Convert visit dates to months since baseline\n",
        "- Drop high-missing columns\n",
        "- Encode categorical variables with the trained encoder\n",
        "- Impute missing values with the trained imputer\n",
        "- Standardize selected continuous features\n",
        "- Reconstruct the final input matrix with all required variables\n",
        "- **Apply padding** so that the input sequence matches the expected shape used during training (`seq_len`)\n",
        "\n",
        "At the end, the patient's data is converted into a padded input array (`X_new_padded`) that can be used directly for prediction with the BiLSTM model.\n"
      ],
      "metadata": {
        "id": "unWvbau9-Q-j"
      }
    },
    {
      "cell_type": "code",
      "source": [
        "# === 1. Load the new patient file ===\n",
        "df_new = pd.read_csv(\"clinician_patient.csv\")\n",
        "df_new.shape\n",
        "\n",
        "# Convert exam dates to \"months since baseline\"\n",
        "df_new = convert_examdate_to_months_since_baseline(df_new)\n",
        "\n",
        "# === 3. Drop columns with too many missing values (same as in training) ===\n",
        "df_new = df_new.drop(columns=high_missing_cols, errors=\"ignore\")  # comes from training preprocessing\n",
        "\n",
        "# === 4. Encode categorical variables using the trained encoder ===\n",
        "df_new_encoded = df_new.copy()\n",
        "df_new_encoded = pd.concat([\n",
        "    df_new_encoded.drop(columns=categorical_cols, errors=\"ignore\"),\n",
        "    pd.DataFrame(\n",
        "        encoder.transform(df_new[categorical_cols]),  # use the same encoder as in training\n",
        "        columns=encoder.get_feature_names_out(categorical_cols),\n",
        "        index=df_new.index\n",
        "    )\n",
        "], axis=1)\n",
        "\n",
        "# === 5. Impute missing values using the trained imputer ===\n",
        "df_new_imputed = df_new_encoded.copy()\n",
        "df_new_imputed[cols_to_impute] = imputer.transform(df_new_encoded[cols_to_impute])\n",
        "\n",
        "# === 6. Standardize selected continuous features using the trained scaler ===\n",
        "X_new_cont = pd.DataFrame(\n",
        "    scaler.transform(df_new_imputed[standardize_cols]),\n",
        "    columns=standardize_cols,\n",
        "    index=df_new.index\n",
        ")\n",
        "\n",
        "# === 7. Rebuild the final input matrix with all required columns ===\n",
        "X_new_final = pd.concat([\n",
        "    X_new_cont,\n",
        "    df_new_imputed[ordinal_cols + binary_cols + [\"DX\", \"MMSE_TOT\", \"ADAS_TOT13\", \"CDR_SOB\"]],\n",
        "    df_new[[\"ID\", \"VISCODE\"]]  # keep identifiers\n",
        "], axis=1)\n",
        "\n",
        "# === 8. Convert to numpy array for model input ===\n",
        "X_new_array = X_new_final.drop(columns=[\"ID\", \"VISCODE\"]).to_numpy()\n",
        "\n",
        "\n",
        "print(\"Shape of X_new_array:\", X_new_array.shape)\n"
      ],
      "metadata": {
        "colab": {
          "base_uri": "https://localhost:8080/"
        },
        "id": "zB5Vbi2W5QYf",
        "outputId": "f53fdae2-a040-4512-c77d-f9c6a4830cc0"
      },
      "execution_count": null,
      "outputs": [
        {
          "output_type": "stream",
          "name": "stdout",
          "text": [
            "Shape of X_new_array: (2, 31)\n"
          ]
        }
      ]
    },
    {
      "cell_type": "code",
      "source": [
        "import numpy as np\n",
        "\n",
        "def pad_patient_sequence(X_new_array, max_visits, n_features, pad_value=0.0):\n",
        "    \"\"\"\n",
        "    Applique un padding à gauche sur un tableau de forme (T, n_features) pour qu'il devienne (max_visits, n_features)\n",
        "\n",
        "    Args:\n",
        "        X_new_array: array de forme (T, n_features)\n",
        "        max_visits: nombre de visites max (doit venir de l'entraînement)\n",
        "        n_features: nombre de features par visite\n",
        "        pad_value: valeur utilisée pour le padding (par défaut 0.0)\n",
        "\n",
        "    Returns:\n",
        "        X_padded: array de forme (1, max_visits, n_features) prêt à être donné au modèle\n",
        "    \"\"\"\n",
        "    T = X_new_array.shape[0]\n",
        "\n",
        "    if T > max_visits:\n",
        "        X_new_array = X_new_array[-max_visits:]  # On garde les dernières visites\n",
        "\n",
        "    X_padded = np.full((max_visits, n_features), pad_value, dtype=np.float32)\n",
        "    X_padded[-T:] = X_new_array  # Padding à gauche\n",
        "\n",
        "    return X_padded[np.newaxis, ...]  # (1, max_visits, n_features)\n"
      ],
      "metadata": {
        "id": "0AiBWMQ3P_fN"
      },
      "execution_count": null,
      "outputs": []
    },
    {
      "cell_type": "code",
      "source": [
        "# Suppose que X_new_array est de taille (3, 31)\n",
        "max_visits = X_seq_test_padded.shape[1]       # Par exemple, 5\n",
        "n_features = X_seq_test_padded.shape[2]       # Par exemple, 31\n",
        "\n",
        "X_new_padded = pad_patient_sequence(X_new_array, max_visits, n_features)\n",
        "print(\"New patient ready for prediction.\")\n",
        "print(\"Shape padded:\", X_new_padded.shape)"
      ],
      "metadata": {
        "colab": {
          "base_uri": "https://localhost:8080/"
        },
        "id": "z875WWfHQBdY",
        "outputId": "2dd82ec2-f304-4c1f-e215-68af97234700"
      },
      "execution_count": null,
      "outputs": [
        {
          "output_type": "stream",
          "name": "stdout",
          "text": [
            "New patient ready for prediction.\n",
            "Shape padded: (1, 5, 31)\n"
          ]
        }
      ]
    },
    {
      "cell_type": "markdown",
      "source": [
        "### 8.2 Visualizing Predicted Trajectories for the Clinician's Patient\n",
        "\n",
        "We now visualize the predicted evolution of the clinician’s patient for each cognitive score.\n",
        "\n",
        "- We use the patient's two past visits (`MMSE_TOT`, `ADAS_TOT13`, and `CDR_SOB`) along with the visit dates.\n",
        "- We predict future values at 12, 24, and 36 months using our trained model.\n",
        "- For each target, we plot both the known past values and the predicted future values over time.\n",
        "\n"
      ],
      "metadata": {
        "id": "G7Jouci1-1Q8"
      }
    },
    {
      "cell_type": "code",
      "source": [
        "# Assumptions:\n",
        "# - df_new contains the patient's past visits with columns: EXAMDATE, MMSE_TOT, ADAS_TOT13, CDR_SOB\n",
        "# - X_new_padded is ready and passed into the model\n",
        "# - best_model is loaded\n",
        "# - Targets are in the following order:\n",
        "target_cols = [\"MMSE_TOT\", \"ADAS_TOT13\", \"CDR_SOB\"]\n",
        "horizons = [12, 24, 36]\n",
        "\n",
        "# 1. Get the dates of the past visits\n",
        "dates_past = pd.to_datetime(df_new[\"EXAMDATE\"].values[:X_new_padded.shape[1]])\n",
        "\n",
        "# 2. Get the past target values (e.g. MMSE, ADAS, CDR)\n",
        "past_targets = {col: df_new[col].values[:X_new_padded.shape[1]] for col in target_cols}\n",
        "\n",
        "# 3. Predict future target values for the new patient\n",
        "y_pred = best_model.predict(X_new_padded)[0]  # shape: (3 time points, 3 targets)\n",
        "\n",
        "# 4. Create future dates based on the last known visit\n",
        "last_date = dates_past[-1]\n",
        "future_dates = [last_date + pd.DateOffset(months=h) for h in horizons]\n",
        "\n",
        "# 5. Plot past and predicted future values for each target\n",
        "for i, target in enumerate(target_cols):\n",
        "    plt.figure(figsize=(9, 4))\n",
        "\n",
        "    # Plot past values\n",
        "    plt.plot(dates_past, past_targets[target], marker='o', label='Past values')\n",
        "\n",
        "    # Plot future predictions\n",
        "    plt.plot(future_dates, y_pred[:, i], marker='x', linestyle='--', label='Predicted values')\n",
        "\n",
        "    # Mark the last known visit\n",
        "    plt.axvline(last_date, color='gray', linestyle=':', label='Last visit')\n",
        "\n",
        "    plt.title(f\"Predicted evolution for {target}\")\n",
        "    plt.xlabel(\"Date\")\n",
        "    plt.ylabel(target)\n",
        "    plt.grid(True)\n",
        "    plt.legend()\n",
        "    plt.tight_layout()\n",
        "    plt.show()\n"
      ],
      "metadata": {
        "colab": {
          "base_uri": "https://localhost:8080/",
          "height": 1000
        },
        "id": "FKlOMzVcWpO1",
        "outputId": "938fd5fa-2a57-4b93-fb45-48c175219ca1"
      },
      "execution_count": null,
      "outputs": [
        {
          "output_type": "stream",
          "name": "stdout",
          "text": [
            "\u001b[1m1/1\u001b[0m \u001b[32m━━━━━━━━━━━━━━━━━━━━\u001b[0m\u001b[37m\u001b[0m \u001b[1m0s\u001b[0m 177ms/step\n"
          ]
        },
        {
          "output_type": "display_data",
          "data": {
            "text/plain": [
              "<Figure size 900x400 with 1 Axes>"
            ],
            "image/png": "[encoded data removed]"
          },
          "metadata": {}
        },
        {
          "output_type": "display_data",
          "data": {
            "text/plain": [
              "<Figure size 900x400 with 1 Axes>"
            ],
            "image/png": "[encoded data removed]"
          },
          "metadata": {}
        },
        {
          "output_type": "display_data",
          "data": {
            "text/plain": [
              "<Figure size 900x400 with 1 Axes>"
            ],
            "image/png": "[encoded data removed]"
          },
          "metadata": {}
        }
      ]
    },
    {
      "cell_type": "markdown",
      "source": [
        "We used our trained BiLSTM model to forecast the patient’s cognitive scores — **MMSE_TOT**, **ADAS_TOT13**, and **CDR_SOB** — over the next 12, 24, and 36 months.\n",
        "\n",
        "- The model was provided with two past visits from the clinician.\n",
        "- These visits were processed using the same pipeline as in training:\n",
        "  - Categorical encoding\n",
        "  - Missing value imputation\n",
        "  - Feature standardization\n",
        "  - Sequence padding\n",
        "\n",
        "The resulting input was passed into the model to generate predictions at future time horizons.\n",
        "\n",
        "### Model Reliability\n",
        "\n",
        "- On the held-out test set, the model achieved a **masked MAE of ~0.0567**, meaning an average absolute error of about **5.7% on normalized scores**.\n",
        "- Since the new patient was preprocessed consistently and meets similar input conditions, the model's forecast can be considered **technically reliable**.\n",
        "\n",
        ">  **Note**: This interpretation is purely technical from a machine learning perspective and does not constitute any clinical advice or diagnosis.\n"
      ],
      "metadata": {
        "id": "25dNaHIPAcLn"
      }
    },
    {
      "cell_type": "markdown",
      "source": [
        "## Model Limitations"
      ],
      "metadata": {
        "id": "Us5sEyBOB-xm"
      }
    },
    {
      "cell_type": "code",
      "source": [
        "## Calcule the Global missing target values in training set\n",
        "\n",
        "# y_seq_train has shape (n_samples, n_horizons, n_targets)\n",
        "total_values = np.prod(y_seq_train.shape)\n",
        "missing_values = np.isnan(y_seq_train).sum()\n",
        "missing_percentage = 100 * missing_values / total_values\n",
        "\n",
        "print(f\" Global missing target values: {missing_percentage:.2f}%\")\n"
      ],
      "metadata": {
        "colab": {
          "base_uri": "https://localhost:8080/"
        },
        "id": "X86qM4i6BcLB",
        "outputId": "7bbd908e-b1ac-417c-ab2a-823321b7c737"
      },
      "execution_count": null,
      "outputs": [
        {
          "output_type": "stream",
          "name": "stdout",
          "text": [
            " Global missing target values: 48.33%\n"
          ]
        }
      ]
    },
    {
      "cell_type": "markdown",
      "source": [
        "### Model Limitations\n",
        "\n",
        "Despite encouraging results, our model has several limitations from a machine learning perspective:\n",
        "\n",
        "- **Limited training data**: The number of available patients with longitudinal follow-up is limited, which may reduce generalization capabilities.\n",
        "- **High percentage of missing target values**: Many future visits lack one or more cognitive scores, reducing supervision during training.\n",
        "  - For example, **48.33% of all target values (MMSE_TOT, ADAS_TOT13, CDR_SOB across 12/24/36 months)** are missing in the training data.\n",
        "- **Irregular visit patterns**: Although we predict fixed horizons (12/24/36 months), real-world visit dates are often irregular.\n",
        "- **No domain-driven feature selection**: Features were selected automatically, without expert validation on clinical relevance.\n",
        "- **No multimodal inputs**: Our model only uses tabular numeric features; it does not integrate MRI, PET scans, or clinical notes, which could boost accuracy.\n",
        "\n"
      ],
      "metadata": {
        "id": "H8-TSiJoCNh7"
      }
    },
    {
      "cell_type": "code",
      "source": [],
      "metadata": {
        "id": "lWwkb-FxBpI_"
      },
      "execution_count": null,
      "outputs": []
    }
  ]
}